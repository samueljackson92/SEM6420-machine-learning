{
 "cells": [
  {
   "cell_type": "code",
   "execution_count": 466,
   "metadata": {
    "collapsed": false
   },
   "outputs": [],
   "source": [
    "%matplotlib inline\n",
    "import pandas as pd\n",
    "import numpy as np\n",
    "import matplotlib.pyplot as plt"
   ]
  },
  {
   "cell_type": "code",
   "execution_count": 426,
   "metadata": {
    "collapsed": true
   },
   "outputs": [],
   "source": [
    "df = pd.DataFrame.from_csv(\"../data/train_risk.csv\", index_col=False)\n",
    "test = pd.DataFrame.from_csv(\"../data/test_risk.csv\", index_col=False)"
   ]
  },
  {
   "cell_type": "code",
   "execution_count": 427,
   "metadata": {
    "collapsed": true
   },
   "outputs": [],
   "source": [
    "X, y = df[df.columns[:-1]], df[df.columns[-1]]"
   ]
  },
  {
   "cell_type": "markdown",
   "metadata": {},
   "source": [
    "## Analysing the Data\n",
    "\n",
    "Looking at the difference between the number of positive and negative samples in the dataset shows that there are more negative examples than positive examples. Only 28% of all samples are of the positive class."
   ]
  },
  {
   "cell_type": "code",
   "execution_count": 428,
   "metadata": {
    "collapsed": false
   },
   "outputs": [
    {
     "name": "stdout",
     "output_type": "stream",
     "text": [
      "Total number of samples: 300\n",
      "Number of positive samples: 84\n",
      "Number of negative samples: 216\n",
      "Ratio of positive to total number of samples: 0.28\n"
     ]
    }
   ],
   "source": [
    "def class_balance_summary(y):\n",
    "    \"\"\" Summarise the imbalance in the dataset\"\"\"\n",
    "    total_size = y.size\n",
    "    negative_class = y[y == 0].size\n",
    "    positive_class = y[y > 0].size\n",
    "    ratio = positive_class / float(positive_class + negative_class)\n",
    "\n",
    "    print \"Total number of samples: %d\" % total_size\n",
    "    print \"Number of positive samples: %d\" % positive_class\n",
    "    print \"Number of negative samples: %d\" % negative_class\n",
    "    print \"Ratio of positive to total number of samples: %.2f\" % ratio\n",
    "\n",
    "\n",
    "class_balance_summary(y)"
   ]
  },
  {
   "cell_type": "markdown",
   "metadata": {},
   "source": [
    "Some initial observations about the data before it is preprocessed:\n",
    " - PRE32 is all zeros. This can be removed\n",
    " - PRE14 looks catagorical. Consider splitting into multiple binary variables\n",
    " - PRE6 looks catagorical. As above.\n",
    " - DGN looks catagorical. As above.\n",
    " - PRE5 looks to have some outliers. See box plot below. Potentially remove or split into two extra variable?"
   ]
  },
  {
   "cell_type": "code",
   "execution_count": 27,
   "metadata": {
    "collapsed": false,
    "scrolled": false
   },
   "outputs": [
    {
     "data": {
      "text/html": [
       "<div>\n",
       "<table border=\"1\" class=\"dataframe\">\n",
       "  <thead>\n",
       "    <tr style=\"text-align: right;\">\n",
       "      <th></th>\n",
       "      <th>DGN</th>\n",
       "      <th>PRE4</th>\n",
       "      <th>PRE5</th>\n",
       "      <th>PRE6</th>\n",
       "      <th>PRE7</th>\n",
       "      <th>PRE8</th>\n",
       "      <th>PRE9</th>\n",
       "      <th>PRE10</th>\n",
       "      <th>PRE11</th>\n",
       "      <th>PRE14</th>\n",
       "      <th>PRE17</th>\n",
       "      <th>PRE19</th>\n",
       "      <th>PRE25</th>\n",
       "      <th>PRE30</th>\n",
       "      <th>PRE32</th>\n",
       "      <th>AGE</th>\n",
       "    </tr>\n",
       "  </thead>\n",
       "  <tbody>\n",
       "    <tr>\n",
       "      <th>0</th>\n",
       "      <td>3</td>\n",
       "      <td>2.08</td>\n",
       "      <td>1.52</td>\n",
       "      <td>1</td>\n",
       "      <td>0</td>\n",
       "      <td>0</td>\n",
       "      <td>0</td>\n",
       "      <td>1</td>\n",
       "      <td>0</td>\n",
       "      <td>4</td>\n",
       "      <td>0</td>\n",
       "      <td>0</td>\n",
       "      <td>0</td>\n",
       "      <td>1</td>\n",
       "      <td>0</td>\n",
       "      <td>49</td>\n",
       "    </tr>\n",
       "    <tr>\n",
       "      <th>1</th>\n",
       "      <td>3</td>\n",
       "      <td>4.36</td>\n",
       "      <td>3.76</td>\n",
       "      <td>0</td>\n",
       "      <td>0</td>\n",
       "      <td>0</td>\n",
       "      <td>0</td>\n",
       "      <td>0</td>\n",
       "      <td>0</td>\n",
       "      <td>1</td>\n",
       "      <td>0</td>\n",
       "      <td>0</td>\n",
       "      <td>0</td>\n",
       "      <td>1</td>\n",
       "      <td>0</td>\n",
       "      <td>72</td>\n",
       "    </tr>\n",
       "    <tr>\n",
       "      <th>2</th>\n",
       "      <td>3</td>\n",
       "      <td>3.52</td>\n",
       "      <td>2.28</td>\n",
       "      <td>0</td>\n",
       "      <td>0</td>\n",
       "      <td>0</td>\n",
       "      <td>0</td>\n",
       "      <td>0</td>\n",
       "      <td>0</td>\n",
       "      <td>3</td>\n",
       "      <td>0</td>\n",
       "      <td>0</td>\n",
       "      <td>0</td>\n",
       "      <td>1</td>\n",
       "      <td>0</td>\n",
       "      <td>51</td>\n",
       "    </tr>\n",
       "    <tr>\n",
       "      <th>3</th>\n",
       "      <td>3</td>\n",
       "      <td>3.36</td>\n",
       "      <td>2.67</td>\n",
       "      <td>1</td>\n",
       "      <td>0</td>\n",
       "      <td>0</td>\n",
       "      <td>0</td>\n",
       "      <td>1</td>\n",
       "      <td>0</td>\n",
       "      <td>1</td>\n",
       "      <td>0</td>\n",
       "      <td>0</td>\n",
       "      <td>0</td>\n",
       "      <td>1</td>\n",
       "      <td>0</td>\n",
       "      <td>72</td>\n",
       "    </tr>\n",
       "    <tr>\n",
       "      <th>4</th>\n",
       "      <td>3</td>\n",
       "      <td>3.56</td>\n",
       "      <td>2.80</td>\n",
       "      <td>0</td>\n",
       "      <td>0</td>\n",
       "      <td>0</td>\n",
       "      <td>0</td>\n",
       "      <td>0</td>\n",
       "      <td>0</td>\n",
       "      <td>2</td>\n",
       "      <td>0</td>\n",
       "      <td>0</td>\n",
       "      <td>0</td>\n",
       "      <td>0</td>\n",
       "      <td>0</td>\n",
       "      <td>69</td>\n",
       "    </tr>\n",
       "  </tbody>\n",
       "</table>\n",
       "</div>"
      ],
      "text/plain": [
       "   DGN  PRE4  PRE5  PRE6  PRE7  PRE8  PRE9  PRE10  PRE11  PRE14  PRE17  PRE19  \\\n",
       "0    3  2.08  1.52     1     0     0     0      1      0      4      0      0   \n",
       "1    3  4.36  3.76     0     0     0     0      0      0      1      0      0   \n",
       "2    3  3.52  2.28     0     0     0     0      0      0      3      0      0   \n",
       "3    3  3.36  2.67     1     0     0     0      1      0      1      0      0   \n",
       "4    3  3.56  2.80     0     0     0     0      0      0      2      0      0   \n",
       "\n",
       "   PRE25  PRE30  PRE32  AGE  \n",
       "0      0      1      0   49  \n",
       "1      0      1      0   72  \n",
       "2      0      1      0   51  \n",
       "3      0      1      0   72  \n",
       "4      0      0      0   69  "
      ]
     },
     "execution_count": 27,
     "metadata": {},
     "output_type": "execute_result"
    }
   ],
   "source": [
    "X.head()"
   ]
  },
  {
   "cell_type": "code",
   "execution_count": 21,
   "metadata": {
    "collapsed": false,
    "scrolled": true
   },
   "outputs": [
    {
     "data": {
      "text/plain": [
       "<matplotlib.axes._subplots.AxesSubplot at 0x10d867d50>"
      ]
     },
     "execution_count": 21,
     "metadata": {},
     "output_type": "execute_result"
    },
    {
     "data": {
      "image/png": "[encoded data removed]",
      "text/plain": [
       "<matplotlib.figure.Figure at 0x10d90bfd0>"
      ]
     },
     "metadata": {},
     "output_type": "display_data"
    }
   ],
   "source": [
    "X.PRE5.plot(kind='box')"
   ]
  },
  {
   "cell_type": "markdown",
   "metadata": {},
   "source": [
    "## Preprocessing\n",
    "\n",
    "Create a new matrix of preprocessed features. This will encode catagorical data as one hot vectors, remove outliers, and normalise the data.  "
   ]
  },
  {
   "cell_type": "code",
   "execution_count": 448,
   "metadata": {
    "collapsed": false
   },
   "outputs": [
    {
     "data": {
      "text/html": [
       "<div>\n",
       "<table border=\"1\" class=\"dataframe\">\n",
       "  <thead>\n",
       "    <tr style=\"text-align: right;\">\n",
       "      <th></th>\n",
       "      <th>PRE4</th>\n",
       "      <th>PRE5</th>\n",
       "      <th>PRE7</th>\n",
       "      <th>PRE8</th>\n",
       "      <th>PRE9</th>\n",
       "      <th>PRE10</th>\n",
       "      <th>PRE11</th>\n",
       "      <th>PRE17</th>\n",
       "      <th>PRE19</th>\n",
       "      <th>PRE25</th>\n",
       "      <th>...</th>\n",
       "      <th>PRE6_0</th>\n",
       "      <th>PRE6_1</th>\n",
       "      <th>PRE6_2</th>\n",
       "      <th>DGN_1</th>\n",
       "      <th>DGN_2</th>\n",
       "      <th>DGN_3</th>\n",
       "      <th>DGN_4</th>\n",
       "      <th>DGN_5</th>\n",
       "      <th>DGN_6</th>\n",
       "      <th>DGN_8</th>\n",
       "    </tr>\n",
       "  </thead>\n",
       "  <tbody>\n",
       "    <tr>\n",
       "      <th>0</th>\n",
       "      <td>-1.576105</td>\n",
       "      <td>-0.243337</td>\n",
       "      <td>-0.252646</td>\n",
       "      <td>-0.457905</td>\n",
       "      <td>-0.26003</td>\n",
       "      <td>0.649462</td>\n",
       "      <td>-0.45257</td>\n",
       "      <td>-0.274352</td>\n",
       "      <td>-0.081923</td>\n",
       "      <td>-0.116248</td>\n",
       "      <td>...</td>\n",
       "      <td>-0.613308</td>\n",
       "      <td>0.728431</td>\n",
       "      <td>-0.281312</td>\n",
       "      <td>-0.057831</td>\n",
       "      <td>-0.351562</td>\n",
       "      <td>0.57735</td>\n",
       "      <td>-0.288154</td>\n",
       "      <td>-0.221249</td>\n",
       "      <td>-0.057831</td>\n",
       "      <td>-0.100504</td>\n",
       "    </tr>\n",
       "    <tr>\n",
       "      <th>1</th>\n",
       "      <td>1.448828</td>\n",
       "      <td>-0.035523</td>\n",
       "      <td>-0.252646</td>\n",
       "      <td>-0.457905</td>\n",
       "      <td>-0.26003</td>\n",
       "      <td>-1.539736</td>\n",
       "      <td>-0.45257</td>\n",
       "      <td>-0.274352</td>\n",
       "      <td>-0.081923</td>\n",
       "      <td>-0.116248</td>\n",
       "      <td>...</td>\n",
       "      <td>1.630502</td>\n",
       "      <td>-1.372813</td>\n",
       "      <td>-0.281312</td>\n",
       "      <td>-0.057831</td>\n",
       "      <td>-0.351562</td>\n",
       "      <td>0.57735</td>\n",
       "      <td>-0.288154</td>\n",
       "      <td>-0.221249</td>\n",
       "      <td>-0.057831</td>\n",
       "      <td>-0.100504</td>\n",
       "    </tr>\n",
       "    <tr>\n",
       "      <th>2</th>\n",
       "      <td>0.334379</td>\n",
       "      <td>-0.172829</td>\n",
       "      <td>-0.252646</td>\n",
       "      <td>-0.457905</td>\n",
       "      <td>-0.26003</td>\n",
       "      <td>-1.539736</td>\n",
       "      <td>-0.45257</td>\n",
       "      <td>-0.274352</td>\n",
       "      <td>-0.081923</td>\n",
       "      <td>-0.116248</td>\n",
       "      <td>...</td>\n",
       "      <td>1.630502</td>\n",
       "      <td>-1.372813</td>\n",
       "      <td>-0.281312</td>\n",
       "      <td>-0.057831</td>\n",
       "      <td>-0.351562</td>\n",
       "      <td>0.57735</td>\n",
       "      <td>-0.288154</td>\n",
       "      <td>-0.221249</td>\n",
       "      <td>-0.057831</td>\n",
       "      <td>-0.100504</td>\n",
       "    </tr>\n",
       "    <tr>\n",
       "      <th>3</th>\n",
       "      <td>0.122103</td>\n",
       "      <td>-0.136647</td>\n",
       "      <td>-0.252646</td>\n",
       "      <td>-0.457905</td>\n",
       "      <td>-0.26003</td>\n",
       "      <td>0.649462</td>\n",
       "      <td>-0.45257</td>\n",
       "      <td>-0.274352</td>\n",
       "      <td>-0.081923</td>\n",
       "      <td>-0.116248</td>\n",
       "      <td>...</td>\n",
       "      <td>-0.613308</td>\n",
       "      <td>0.728431</td>\n",
       "      <td>-0.281312</td>\n",
       "      <td>-0.057831</td>\n",
       "      <td>-0.351562</td>\n",
       "      <td>0.57735</td>\n",
       "      <td>-0.288154</td>\n",
       "      <td>-0.221249</td>\n",
       "      <td>-0.057831</td>\n",
       "      <td>-0.100504</td>\n",
       "    </tr>\n",
       "    <tr>\n",
       "      <th>4</th>\n",
       "      <td>0.387448</td>\n",
       "      <td>-0.124586</td>\n",
       "      <td>-0.252646</td>\n",
       "      <td>-0.457905</td>\n",
       "      <td>-0.26003</td>\n",
       "      <td>-1.539736</td>\n",
       "      <td>-0.45257</td>\n",
       "      <td>-0.274352</td>\n",
       "      <td>-0.081923</td>\n",
       "      <td>-0.116248</td>\n",
       "      <td>...</td>\n",
       "      <td>1.630502</td>\n",
       "      <td>-1.372813</td>\n",
       "      <td>-0.281312</td>\n",
       "      <td>-0.057831</td>\n",
       "      <td>-0.351562</td>\n",
       "      <td>0.57735</td>\n",
       "      <td>-0.288154</td>\n",
       "      <td>-0.221249</td>\n",
       "      <td>-0.057831</td>\n",
       "      <td>-0.100504</td>\n",
       "    </tr>\n",
       "  </tbody>\n",
       "</table>\n",
       "<p>5 rows × 26 columns</p>\n",
       "</div>"
      ],
      "text/plain": [
       "       PRE4      PRE5      PRE7      PRE8     PRE9     PRE10    PRE11  \\\n",
       "0 -1.576105 -0.243337 -0.252646 -0.457905 -0.26003  0.649462 -0.45257   \n",
       "1  1.448828 -0.035523 -0.252646 -0.457905 -0.26003 -1.539736 -0.45257   \n",
       "2  0.334379 -0.172829 -0.252646 -0.457905 -0.26003 -1.539736 -0.45257   \n",
       "3  0.122103 -0.136647 -0.252646 -0.457905 -0.26003  0.649462 -0.45257   \n",
       "4  0.387448 -0.124586 -0.252646 -0.457905 -0.26003 -1.539736 -0.45257   \n",
       "\n",
       "      PRE17     PRE19     PRE25    ...       PRE6_0    PRE6_1    PRE6_2  \\\n",
       "0 -0.274352 -0.081923 -0.116248    ...    -0.613308  0.728431 -0.281312   \n",
       "1 -0.274352 -0.081923 -0.116248    ...     1.630502 -1.372813 -0.281312   \n",
       "2 -0.274352 -0.081923 -0.116248    ...     1.630502 -1.372813 -0.281312   \n",
       "3 -0.274352 -0.081923 -0.116248    ...    -0.613308  0.728431 -0.281312   \n",
       "4 -0.274352 -0.081923 -0.116248    ...     1.630502 -1.372813 -0.281312   \n",
       "\n",
       "      DGN_1     DGN_2    DGN_3     DGN_4     DGN_5     DGN_6     DGN_8  \n",
       "0 -0.057831 -0.351562  0.57735 -0.288154 -0.221249 -0.057831 -0.100504  \n",
       "1 -0.057831 -0.351562  0.57735 -0.288154 -0.221249 -0.057831 -0.100504  \n",
       "2 -0.057831 -0.351562  0.57735 -0.288154 -0.221249 -0.057831 -0.100504  \n",
       "3 -0.057831 -0.351562  0.57735 -0.288154 -0.221249 -0.057831 -0.100504  \n",
       "4 -0.057831 -0.351562  0.57735 -0.288154 -0.221249 -0.057831 -0.100504  \n",
       "\n",
       "[5 rows x 26 columns]"
      ]
     },
     "execution_count": 448,
     "metadata": {},
     "output_type": "execute_result"
    }
   ],
   "source": [
    "from sklearn import preprocessing\n",
    "\n",
    "def encode_onehot(x_data, column_name):\n",
    "    \"\"\" Encode a catagorical column from a data frame into a data frame of one hot features\"\"\"\n",
    "    enc = preprocessing.OneHotEncoder()\n",
    "    features = enc.fit_transform(x_data[[column_name]]).toarray()\n",
    "    names = ['%s_%d' % (column_name, i) for i in enc.active_features_]\n",
    "    features = pd.DataFrame(features, columns=names, index=x_data.index)\n",
    "    return features\n",
    "\n",
    "def preprocess(x_data):\n",
    "    # drop zero var PRE32\n",
    "    Xp = x_data.drop(\"PRE32\", axis=1)\n",
    "\n",
    "    # remove outliers via median fill\n",
    "    mask = Xp.PRE5 < 30\n",
    "#     Xp.drop(Xp[~mask].index, inplace=True)\n",
    "    Yp = y#y.drop(y[~mask].index)\n",
    "\n",
    "    # encode catagorical data as one hot vectors\n",
    "    pre14_encoded = encode_onehot(Xp, 'PRE14')\n",
    "    pre6_encoded = encode_onehot(Xp, 'PRE6')\n",
    "    dgn_encoded = encode_onehot(Xp, 'DGN')\n",
    "\n",
    "    #combine into a single data frame\n",
    "    new_features = pd.concat([pre14_encoded, pre6_encoded, dgn_encoded], axis=1)\n",
    "\n",
    "    # drop the catagorical variables that have been encoded\n",
    "    Xp.drop([\"PRE14\", \"PRE6\", \"DGN\"], inplace=True, axis=1)\n",
    "    # add new features\n",
    "    Xp = pd.concat([Xp, new_features], axis=1)\n",
    "\n",
    "    # normalise data\n",
    "    sclr = preprocessing.StandardScaler()\n",
    "    Xp = pd.DataFrame(sclr.fit_transform(Xp), columns=Xp.columns)\n",
    "    return Xp, Yp\n",
    "\n",
    "Xp, Yp = preprocess(X)\n",
    "Xp.head()"
   ]
  },
  {
   "cell_type": "markdown",
   "metadata": {},
   "source": [
    "## Learning\n",
    "\n",
    "We do not have access to the labels for the final testing dataset. First split the training data into a training and validation set so we have something seperate to test on. Here we're using a  simple 80/20 split. Therefore the validation set contains 60 examples."
   ]
  },
  {
   "cell_type": "code",
   "execution_count": 575,
   "metadata": {
    "collapsed": false
   },
   "outputs": [
    {
     "data": {
      "text/plain": [
       "((240, 26), (240,), (60, 26), (60,))"
      ]
     },
     "execution_count": 575,
     "metadata": {},
     "output_type": "execute_result"
    }
   ],
   "source": [
    "from sklearn import cross_validation\n",
    "Xt, Xv = cross_validation.train_test_split(Xp, test_size = 0.2, stratify=Yp)\n",
    "Yt, Yv = Yp.loc[Xt.index], Yp.loc[Xv.index]\n",
    "Xt.shape, Yt.shape, Xv.shape, Yv.shape"
   ]
  },
  {
   "cell_type": "code",
   "execution_count": 576,
   "metadata": {
    "collapsed": false
   },
   "outputs": [],
   "source": [
    "from unbalanced_dataset import SMOTE\n",
    "\n",
    "def apply_smote(x_data, y_data, kind='regular'):\n",
    "    sm = SMOTE(kind=kind, verbose=2)\n",
    "    svmx, svmy = sm.fit_transform(x_data.as_matrix(), y_data.as_matrix())\n",
    "    svmx = pd.DataFrame(svmx, columns=x_data.columns)\n",
    "    svmy = pd.Series(svmy)\n",
    "    svmy = svmy.astype(int)\n",
    "    class_balance_summary(svmy)\n",
    "    return svmx, svmy\n",
    "\n",
    "# Xt, Yt = apply_smote(Xt, Yt)"
   ]
  },
  {
   "cell_type": "code",
   "execution_count": 577,
   "metadata": {
    "collapsed": false
   },
   "outputs": [],
   "source": [
    "from sklearn.ensemble import RandomForestClassifier, GradientBoostingClassifier\n",
    "\n",
    "rf = RandomForestClassifier(n_estimators=200)\n",
    "skf = cross_validation.StratifiedKFold(Yt, n_folds=5)\n",
    "\n",
    "def test_estimator(x_data, y_data, cv, test_func=None):\n",
    "    results = []\n",
    "    for i, (train_idx, test_idx) in enumerate(cv):\n",
    "        x_train, x_test = x_data.iloc[train_idx], x_data.iloc[test_idx]\n",
    "        y_train, y_test = y_data.iloc[train_idx], y_data.iloc[test_idx]\n",
    "        \n",
    "        rf.fit(x_train, y_train)\n",
    "\n",
    "        if test_func is not None:\n",
    "            result = test_func(x_test, y_test, rf)\n",
    "            results.append(result)\n",
    "\n",
    "    return results"
   ]
  },
  {
   "cell_type": "markdown",
   "metadata": {},
   "source": [
    "## ROC Analysis"
   ]
  },
  {
   "cell_type": "code",
   "execution_count": 578,
   "metadata": {
    "collapsed": false
   },
   "outputs": [
    {
     "data": {
      "image/png": "[encoded data removed]",
      "text/plain": [
       "<matplotlib.figure.Figure at 0x10b9c39d0>"
      ]
     },
     "metadata": {},
     "output_type": "display_data"
    }
   ],
   "source": [
    "import roc_analysis \n",
    "mets = test_estimator(Xt, Yt, skf, test_func=roc_analysis.roc_metrics)\n",
    "roc_analysis.plot_roc(mets)"
   ]
  },
  {
   "cell_type": "code",
   "execution_count": 579,
   "metadata": {
    "collapsed": false,
    "scrolled": true
   },
   "outputs": [
    {
     "name": "stdout",
     "output_type": "stream",
     "text": [
      "J statistic: 0.43\n",
      "AUC: 0.85\n"
     ]
    },
    {
     "data": {
      "image/png": "[encoded data removed]",
      "text/plain": [
       "<matplotlib.figure.Figure at 0x10a9442d0>"
      ]
     },
     "metadata": {},
     "output_type": "display_data"
    }
   ],
   "source": [
    "def plot_confusion_matrix(cm, title='Confusion matrix', cmap=plt.cm.Blues):\n",
    "    plt.imshow(cm, interpolation='nearest', cmap=cmap)\n",
    "    \n",
    "    width, height = cm.shape\n",
    "    for x in xrange(width):\n",
    "        for y in xrange(height):\n",
    "            plt.annotate(str(cm[x][y]), xy=(y, x), \n",
    "                    horizontalalignment='center',\n",
    "                    verticalalignment='center', size=20)\n",
    "\n",
    "    plt.xticks([0, 1], [\"FP\", \"TN\"], size=15)\n",
    "    plt.yticks([0, 1], [\"TP\", \"FN\"], size=15)\n",
    "    plt.title(title)\n",
    "    plt.colorbar()\n",
    "    plt.show()\n",
    "    \n",
    "def print_summary():\n",
    "    data = roc_analysis.roc_metrics(Xv, Yv, rf)\n",
    "    print \"J statistic: %.2f\" % data.j_stat\n",
    "    print \"AUC: %.2f\" % data.auc\n",
    "\n",
    "print_summary()\n",
    "\n",
    "preds = rf.predict(Xv)\n",
    "cm = metrics.confusion_matrix(Yv, preds)\n",
    "plot_confusion_matrix(cm)"
   ]
  }
 ],
 "metadata": {
  "kernelspec": {
   "display_name": "Python 2",
   "language": "python",
   "name": "python2"
  },
  "language_info": {
   "codemirror_mode": {
    "name": "ipython",
    "version": 2
   },
   "file_extension": ".py",
   "mimetype": "text/x-python",
   "name": "python",
   "nbconvert_exporter": "python",
   "pygments_lexer": "ipython2",
   "version": "2.7.10"
  }
 },
 "nbformat": 4,
 "nbformat_minor": 0
}
