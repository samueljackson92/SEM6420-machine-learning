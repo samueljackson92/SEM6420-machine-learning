{
 "cells": [
  {
   "cell_type": "code",
   "execution_count": 1536,
   "metadata": {
    "collapsed": false
   },
   "outputs": [],
   "source": [
    "%matplotlib inline\n",
    "import pandas as pd\n",
    "import numpy as np\n",
    "import matplotlib.pyplot as plt"
   ]
  },
  {
   "cell_type": "markdown",
   "metadata": {},
   "source": [
    "### Loading the Datasets"
   ]
  },
  {
   "cell_type": "code",
   "execution_count": 2556,
   "metadata": {
    "collapsed": true
   },
   "outputs": [],
   "source": [
    "df = pd.DataFrame.from_csv(\"../data/train_risk.csv\", index_col=False)\n",
    "test = pd.DataFrame.from_csv(\"../data/test_risk.csv\", index_col=False)\n",
    "X, y = df[df.columns[:-1]], df[df.columns[-1]]"
   ]
  },
  {
   "cell_type": "markdown",
   "metadata": {},
   "source": [
    "## Analysing the Data\n",
    "\n",
    "Looking at the difference between the number of positive and negative samples in the dataset shows that there are more negative examples than positive examples. Only 28% of all samples are of the positive class."
   ]
  },
  {
   "cell_type": "code",
   "execution_count": 428,
   "metadata": {
    "collapsed": false
   },
   "outputs": [
    {
     "name": "stdout",
     "output_type": "stream",
     "text": [
      "Total number of samples: 300\n",
      "Number of positive samples: 84\n",
      "Number of negative samples: 216\n",
      "Ratio of positive to total number of samples: 0.28\n"
     ]
    }
   ],
   "source": [
    "def class_balance_summary(y):\n",
    "    \"\"\" Summarise the imbalance in the dataset\"\"\"\n",
    "    total_size = y.size\n",
    "    negative_class = y[y == 0].size\n",
    "    positive_class = y[y > 0].size\n",
    "    ratio = positive_class / float(positive_class + negative_class)\n",
    "\n",
    "    print \"Total number of samples: %d\" % total_size\n",
    "    print \"Number of positive samples: %d\" % positive_class\n",
    "    print \"Number of negative samples: %d\" % negative_class\n",
    "    print \"Ratio of positive to total number of samples: %.2f\" % ratio\n",
    "\n",
    "\n",
    "class_balance_summary(y)"
   ]
  },
  {
   "cell_type": "markdown",
   "metadata": {},
   "source": [
    "Some initial observations about the data before it is preprocessed:\n",
    " - PRE32 is all zeros. This can be removed\n",
    " - PRE14 looks catagorical. Should be split into multiple binary variables\n",
    " - DGN looks catagorical. As above.\n",
    " - PRE5 looks to have some outliers. See box plot below. Potentially remove or split into two extra variable?"
   ]
  },
  {
   "cell_type": "code",
   "execution_count": 2391,
   "metadata": {
    "collapsed": false,
    "scrolled": false
   },
   "outputs": [
    {
     "data": {
      "text/html": [
       "<div>\n",
       "<table border=\"1\" class=\"dataframe\">\n",
       "  <thead>\n",
       "    <tr style=\"text-align: right;\">\n",
       "      <th></th>\n",
       "      <th>DGN</th>\n",
       "      <th>PRE4</th>\n",
       "      <th>PRE5</th>\n",
       "      <th>PRE6</th>\n",
       "      <th>PRE7</th>\n",
       "      <th>PRE8</th>\n",
       "      <th>PRE9</th>\n",
       "      <th>PRE10</th>\n",
       "      <th>PRE11</th>\n",
       "      <th>PRE14</th>\n",
       "      <th>PRE17</th>\n",
       "      <th>PRE19</th>\n",
       "      <th>PRE25</th>\n",
       "      <th>PRE30</th>\n",
       "      <th>PRE32</th>\n",
       "      <th>AGE</th>\n",
       "    </tr>\n",
       "  </thead>\n",
       "  <tbody>\n",
       "    <tr>\n",
       "      <th>0</th>\n",
       "      <td>3</td>\n",
       "      <td>2.08</td>\n",
       "      <td>1.52</td>\n",
       "      <td>1</td>\n",
       "      <td>0</td>\n",
       "      <td>0</td>\n",
       "      <td>0</td>\n",
       "      <td>1</td>\n",
       "      <td>0</td>\n",
       "      <td>4</td>\n",
       "      <td>0</td>\n",
       "      <td>0</td>\n",
       "      <td>0</td>\n",
       "      <td>1</td>\n",
       "      <td>0</td>\n",
       "      <td>49</td>\n",
       "    </tr>\n",
       "    <tr>\n",
       "      <th>1</th>\n",
       "      <td>3</td>\n",
       "      <td>4.36</td>\n",
       "      <td>3.76</td>\n",
       "      <td>0</td>\n",
       "      <td>0</td>\n",
       "      <td>0</td>\n",
       "      <td>0</td>\n",
       "      <td>0</td>\n",
       "      <td>0</td>\n",
       "      <td>1</td>\n",
       "      <td>0</td>\n",
       "      <td>0</td>\n",
       "      <td>0</td>\n",
       "      <td>1</td>\n",
       "      <td>0</td>\n",
       "      <td>72</td>\n",
       "    </tr>\n",
       "    <tr>\n",
       "      <th>2</th>\n",
       "      <td>3</td>\n",
       "      <td>3.52</td>\n",
       "      <td>2.28</td>\n",
       "      <td>0</td>\n",
       "      <td>0</td>\n",
       "      <td>0</td>\n",
       "      <td>0</td>\n",
       "      <td>0</td>\n",
       "      <td>0</td>\n",
       "      <td>3</td>\n",
       "      <td>0</td>\n",
       "      <td>0</td>\n",
       "      <td>0</td>\n",
       "      <td>1</td>\n",
       "      <td>0</td>\n",
       "      <td>51</td>\n",
       "    </tr>\n",
       "    <tr>\n",
       "      <th>3</th>\n",
       "      <td>3</td>\n",
       "      <td>3.36</td>\n",
       "      <td>2.67</td>\n",
       "      <td>1</td>\n",
       "      <td>0</td>\n",
       "      <td>0</td>\n",
       "      <td>0</td>\n",
       "      <td>1</td>\n",
       "      <td>0</td>\n",
       "      <td>1</td>\n",
       "      <td>0</td>\n",
       "      <td>0</td>\n",
       "      <td>0</td>\n",
       "      <td>1</td>\n",
       "      <td>0</td>\n",
       "      <td>72</td>\n",
       "    </tr>\n",
       "    <tr>\n",
       "      <th>4</th>\n",
       "      <td>3</td>\n",
       "      <td>3.56</td>\n",
       "      <td>2.80</td>\n",
       "      <td>0</td>\n",
       "      <td>0</td>\n",
       "      <td>0</td>\n",
       "      <td>0</td>\n",
       "      <td>0</td>\n",
       "      <td>0</td>\n",
       "      <td>2</td>\n",
       "      <td>0</td>\n",
       "      <td>0</td>\n",
       "      <td>0</td>\n",
       "      <td>0</td>\n",
       "      <td>0</td>\n",
       "      <td>69</td>\n",
       "    </tr>\n",
       "  </tbody>\n",
       "</table>\n",
       "</div>"
      ],
      "text/plain": [
       "   DGN  PRE4  PRE5  PRE6  PRE7  PRE8  PRE9  PRE10  PRE11  PRE14  PRE17  PRE19  \\\n",
       "0    3  2.08  1.52     1     0     0     0      1      0      4      0      0   \n",
       "1    3  4.36  3.76     0     0     0     0      0      0      1      0      0   \n",
       "2    3  3.52  2.28     0     0     0     0      0      0      3      0      0   \n",
       "3    3  3.36  2.67     1     0     0     0      1      0      1      0      0   \n",
       "4    3  3.56  2.80     0     0     0     0      0      0      2      0      0   \n",
       "\n",
       "   PRE25  PRE30  PRE32  AGE  \n",
       "0      0      1      0   49  \n",
       "1      0      1      0   72  \n",
       "2      0      1      0   51  \n",
       "3      0      1      0   72  \n",
       "4      0      0      0   69  "
      ]
     },
     "execution_count": 2391,
     "metadata": {},
     "output_type": "execute_result"
    }
   ],
   "source": [
    "X.head()"
   ]
  },
  {
   "cell_type": "markdown",
   "metadata": {},
   "source": [
    "Box plot below shows the outliers in PRE5. It is worth noting that all of these outliers are of the negative class. This variable is the volume that can be exhaled in one second given full inhilation. It is likely that these values are therefore errors in reporting as it is unlikely that humans can exhale such a large volume so quickly."
   ]
  },
  {
   "cell_type": "code",
   "execution_count": 3501,
   "metadata": {
    "collapsed": false,
    "scrolled": true
   },
   "outputs": [
    {
     "name": "stdout",
     "output_type": "stream",
     "text": [
      "11     0\n",
      "25     0\n",
      "101    0\n",
      "108    0\n",
      "122    0\n",
      "212    0\n",
      "240    0\n",
      "Name: Risk1Yr, dtype: int64\n"
     ]
    },
    {
     "data": {
      "image/png": "[encoded data removed]",
      "text/plain": [
       "<matplotlib.figure.Figure at 0x1713c0450>"
      ]
     },
     "metadata": {},
     "output_type": "display_data"
    }
   ],
   "source": [
    "# X.PRE5.plot(kind='box')\n",
    "X.PRE5.plot(kind='box')\n",
    "print y[X.PRE5 > 30 ]"
   ]
  },
  {
   "cell_type": "markdown",
   "metadata": {},
   "source": [
    "## Preprocessing\n",
    "\n",
    "Create a new matrix of preprocessed features. This will encode catagorical data as one hot vectors, remove outliers, and normalise the data.  "
   ]
  },
  {
   "cell_type": "code",
   "execution_count": 3333,
   "metadata": {
    "collapsed": false,
    "scrolled": true
   },
   "outputs": [
    {
     "data": {
      "text/html": [
       "<div>\n",
       "<table border=\"1\" class=\"dataframe\">\n",
       "  <thead>\n",
       "    <tr style=\"text-align: right;\">\n",
       "      <th></th>\n",
       "      <th>PRE4</th>\n",
       "      <th>PRE5</th>\n",
       "      <th>PRE6</th>\n",
       "      <th>PRE7</th>\n",
       "      <th>PRE8</th>\n",
       "      <th>PRE9</th>\n",
       "      <th>PRE10</th>\n",
       "      <th>PRE11</th>\n",
       "      <th>PRE14</th>\n",
       "      <th>PRE17</th>\n",
       "      <th>...</th>\n",
       "      <th>PRE45_0</th>\n",
       "      <th>PRE45_1</th>\n",
       "      <th>PRE45_2</th>\n",
       "      <th>DGN_1</th>\n",
       "      <th>DGN_2</th>\n",
       "      <th>DGN_3</th>\n",
       "      <th>DGN_4</th>\n",
       "      <th>DGN_5</th>\n",
       "      <th>DGN_6</th>\n",
       "      <th>DGN_8</th>\n",
       "    </tr>\n",
       "  </thead>\n",
       "  <tbody>\n",
       "    <tr>\n",
       "      <th>0</th>\n",
       "      <td>2.08</td>\n",
       "      <td>1.52</td>\n",
       "      <td>1</td>\n",
       "      <td>0</td>\n",
       "      <td>0</td>\n",
       "      <td>0</td>\n",
       "      <td>1</td>\n",
       "      <td>0</td>\n",
       "      <td>4</td>\n",
       "      <td>0</td>\n",
       "      <td>...</td>\n",
       "      <td>2.08</td>\n",
       "      <td>1.52</td>\n",
       "      <td>3.1616</td>\n",
       "      <td>0.0</td>\n",
       "      <td>0.0</td>\n",
       "      <td>1.0</td>\n",
       "      <td>0.0</td>\n",
       "      <td>0.0</td>\n",
       "      <td>0.0</td>\n",
       "      <td>0.0</td>\n",
       "    </tr>\n",
       "    <tr>\n",
       "      <th>1</th>\n",
       "      <td>4.36</td>\n",
       "      <td>3.76</td>\n",
       "      <td>0</td>\n",
       "      <td>0</td>\n",
       "      <td>0</td>\n",
       "      <td>0</td>\n",
       "      <td>0</td>\n",
       "      <td>0</td>\n",
       "      <td>1</td>\n",
       "      <td>0</td>\n",
       "      <td>...</td>\n",
       "      <td>4.36</td>\n",
       "      <td>3.76</td>\n",
       "      <td>16.3936</td>\n",
       "      <td>0.0</td>\n",
       "      <td>0.0</td>\n",
       "      <td>1.0</td>\n",
       "      <td>0.0</td>\n",
       "      <td>0.0</td>\n",
       "      <td>0.0</td>\n",
       "      <td>0.0</td>\n",
       "    </tr>\n",
       "    <tr>\n",
       "      <th>2</th>\n",
       "      <td>3.52</td>\n",
       "      <td>2.28</td>\n",
       "      <td>0</td>\n",
       "      <td>0</td>\n",
       "      <td>0</td>\n",
       "      <td>0</td>\n",
       "      <td>0</td>\n",
       "      <td>0</td>\n",
       "      <td>3</td>\n",
       "      <td>0</td>\n",
       "      <td>...</td>\n",
       "      <td>3.52</td>\n",
       "      <td>2.28</td>\n",
       "      <td>8.0256</td>\n",
       "      <td>0.0</td>\n",
       "      <td>0.0</td>\n",
       "      <td>1.0</td>\n",
       "      <td>0.0</td>\n",
       "      <td>0.0</td>\n",
       "      <td>0.0</td>\n",
       "      <td>0.0</td>\n",
       "    </tr>\n",
       "    <tr>\n",
       "      <th>3</th>\n",
       "      <td>3.36</td>\n",
       "      <td>2.67</td>\n",
       "      <td>1</td>\n",
       "      <td>0</td>\n",
       "      <td>0</td>\n",
       "      <td>0</td>\n",
       "      <td>1</td>\n",
       "      <td>0</td>\n",
       "      <td>1</td>\n",
       "      <td>0</td>\n",
       "      <td>...</td>\n",
       "      <td>3.36</td>\n",
       "      <td>2.67</td>\n",
       "      <td>8.9712</td>\n",
       "      <td>0.0</td>\n",
       "      <td>0.0</td>\n",
       "      <td>1.0</td>\n",
       "      <td>0.0</td>\n",
       "      <td>0.0</td>\n",
       "      <td>0.0</td>\n",
       "      <td>0.0</td>\n",
       "    </tr>\n",
       "    <tr>\n",
       "      <th>4</th>\n",
       "      <td>3.56</td>\n",
       "      <td>2.80</td>\n",
       "      <td>0</td>\n",
       "      <td>0</td>\n",
       "      <td>0</td>\n",
       "      <td>0</td>\n",
       "      <td>0</td>\n",
       "      <td>0</td>\n",
       "      <td>2</td>\n",
       "      <td>0</td>\n",
       "      <td>...</td>\n",
       "      <td>3.56</td>\n",
       "      <td>2.80</td>\n",
       "      <td>9.9680</td>\n",
       "      <td>0.0</td>\n",
       "      <td>0.0</td>\n",
       "      <td>1.0</td>\n",
       "      <td>0.0</td>\n",
       "      <td>0.0</td>\n",
       "      <td>0.0</td>\n",
       "      <td>0.0</td>\n",
       "    </tr>\n",
       "  </tbody>\n",
       "</table>\n",
       "<p>5 rows × 26 columns</p>\n",
       "</div>"
      ],
      "text/plain": [
       "   PRE4  PRE5  PRE6  PRE7  PRE8  PRE9  PRE10  PRE11  PRE14  PRE17  ...    \\\n",
       "0  2.08  1.52     1     0     0     0      1      0      4      0  ...     \n",
       "1  4.36  3.76     0     0     0     0      0      0      1      0  ...     \n",
       "2  3.52  2.28     0     0     0     0      0      0      3      0  ...     \n",
       "3  3.36  2.67     1     0     0     0      1      0      1      0  ...     \n",
       "4  3.56  2.80     0     0     0     0      0      0      2      0  ...     \n",
       "\n",
       "   PRE45_0  PRE45_1  PRE45_2  DGN_1  DGN_2  DGN_3  DGN_4  DGN_5  DGN_6  DGN_8  \n",
       "0     2.08     1.52   3.1616    0.0    0.0    1.0    0.0    0.0    0.0    0.0  \n",
       "1     4.36     3.76  16.3936    0.0    0.0    1.0    0.0    0.0    0.0    0.0  \n",
       "2     3.52     2.28   8.0256    0.0    0.0    1.0    0.0    0.0    0.0    0.0  \n",
       "3     3.36     2.67   8.9712    0.0    0.0    1.0    0.0    0.0    0.0    0.0  \n",
       "4     3.56     2.80   9.9680    0.0    0.0    1.0    0.0    0.0    0.0    0.0  \n",
       "\n",
       "[5 rows x 26 columns]"
      ]
     },
     "execution_count": 3333,
     "metadata": {},
     "output_type": "execute_result"
    }
   ],
   "source": [
    "from sklearn import preprocessing\n",
    "\n",
    "def encode_onehot(x_data, column_name, digitize=False):\n",
    "    \"\"\" Encode a catagorical column from a data frame into a data frame of one hot features\"\"\"\n",
    "    data = x_data[[column_name]]\n",
    "\n",
    "    if digitize:\n",
    "        data = np.digitize(data, np.arange(data.min(), data.max(), 10))\n",
    "    \n",
    "    enc = preprocessing.OneHotEncoder()\n",
    "    features = enc.fit_transform(data).toarray()\n",
    "    names = ['%s_%d' % (column_name, i) for i in enc.active_features_]\n",
    "    features = pd.DataFrame(features, columns=names, index=x_data.index)\n",
    "    return features\n",
    "\n",
    "\n",
    "def preprocess(x_data, y_data):\n",
    "    # drop zero var PRE32\n",
    "    Xp = x_data.drop(\"PRE32\", axis=1)\n",
    "    \n",
    "    # remove outliers\n",
    "    mask = Xp.PRE5 < 30  \n",
    "    Yp = y_data.copy()\n",
    "    Xp = Xp.loc[mask]\n",
    "    Yp = Yp.loc[mask]\n",
    "    \n",
    "    # encode catagorical data as one hot vectors\n",
    "    one_hot_names = [\"DGN\"]\n",
    "    encoded = map(lambda name: encode_onehot(Xp, name), one_hot_names)\n",
    "    #combine into a single data frame\n",
    "    new_features = pd.concat(encoded, axis=1)\n",
    "\n",
    "    # drop the catagorical variables that have been encoded\n",
    "    Xp.drop([\"DGN\"], inplace=True, axis=1)\n",
    "    # add new features\n",
    "    Xp = pd.concat([Xp, new_features], axis=1)\n",
    "\n",
    "    return Xp, Yp\n",
    "\n",
    "Xp, Yp = preprocess(X, y)\n",
    "Xp.head()"
   ]
  },
  {
   "cell_type": "markdown",
   "metadata": {},
   "source": [
    "Measure the effectiveness of each feature using the variable importance measure from a Random Forest"
   ]
  },
  {
   "cell_type": "code",
   "execution_count": 3496,
   "metadata": {
    "collapsed": false
   },
   "outputs": [
    {
     "data": {
      "text/plain": [
       "FER        0.121839\n",
       "PRE45_0    0.110721\n",
       "AGE        0.107024\n",
       "PRE4       0.093969\n",
       "PRE45_2    0.092654\n",
       "PRE5       0.091806\n",
       "PRE45_1    0.090610\n",
       "PRE14      0.043051\n",
       "DGN_5      0.032862\n",
       "PRE30      0.028693\n",
       "PRE10      0.026337\n",
       "PRE6       0.023660\n",
       "DGN_4      0.020996\n",
       "PRE8       0.019564\n",
       "PRE9       0.017372\n",
       "DGN_3      0.016724\n",
       "DGN_2      0.015028\n",
       "PRE11      0.014843\n",
       "OBS        0.010222\n",
       "PRE7       0.008893\n",
       "PRE17      0.004037\n",
       "DGN_8      0.003648\n",
       "PRE19      0.002546\n",
       "PRE25      0.002262\n",
       "DGN_1      0.000640\n",
       "DGN_6      0.000000\n",
       "dtype: float64"
      ]
     },
     "execution_count": 3496,
     "metadata": {},
     "output_type": "execute_result"
    },
    {
     "data": {
      "image/png": "[encoded data removed]",
      "text/plain": [
       "<matplotlib.figure.Figure at 0x175020c10>"
      ]
     },
     "metadata": {},
     "output_type": "display_data"
    }
   ],
   "source": [
    "def measure_importance(x_data, y_data):\n",
    "    rf_selector = RandomForestClassifier(criterion='gini', class_weight='balanced')\n",
    "    rf_selector.fit(scaler.fit_transform(x_data), y_data)\n",
    "    feature_importance = pd.Series(rf_selector.feature_importances_, index=Xp.columns).sort_values(ascending=False)\n",
    "    feature_importance.plot(kind='bar')\n",
    "    return feature_importance\n",
    "\n",
    "measure_importance(Xp, Yp)\n",
    "# Xp.drop(feature_importance[feature_importance == 0].index, inplace=True, axis=1)"
   ]
  },
  {
   "cell_type": "markdown",
   "metadata": {},
   "source": [
    "The numerical features appear to be the most important ones. Plot a scatter plot matrix to see how the how the correlate with each other"
   ]
  },
  {
   "cell_type": "code",
   "execution_count": 3498,
   "metadata": {
    "collapsed": false
   },
   "outputs": [
    {
     "data": {
      "text/plain": [
       "array([[<matplotlib.axes._subplots.AxesSubplot object at 0x1a0d4cb10>,\n",
       "        <matplotlib.axes._subplots.AxesSubplot object at 0x177dbf850>,\n",
       "        <matplotlib.axes._subplots.AxesSubplot object at 0x178b10b50>],\n",
       "       [<matplotlib.axes._subplots.AxesSubplot object at 0x178d3fd10>,\n",
       "        <matplotlib.axes._subplots.AxesSubplot object at 0x177f1a1d0>,\n",
       "        <matplotlib.axes._subplots.AxesSubplot object at 0x1780bdc90>],\n",
       "       [<matplotlib.axes._subplots.AxesSubplot object at 0x173bc2cd0>,\n",
       "        <matplotlib.axes._subplots.AxesSubplot object at 0x17814de90>,\n",
       "        <matplotlib.axes._subplots.AxesSubplot object at 0x17424e610>]], dtype=object)"
      ]
     },
     "execution_count": 3498,
     "metadata": {},
     "output_type": "execute_result"
    },
    {
     "data": {
      "image/png": "[encoded data removed]",
      "text/plain": [
       "<matplotlib.figure.Figure at 0x17cd4e290>"
      ]
     },
     "metadata": {},
     "output_type": "display_data"
    }
   ],
   "source": [
    "pd.tools.plotting.scatter_matrix(Xp[['PRE4', 'PRE5', 'AGE']], c=Yp)"
   ]
  },
  {
   "cell_type": "markdown",
   "metadata": {},
   "source": [
    "## Tuning Model Parameters\n",
    "\n",
    "Given the current status of the data tune the model parameters to it before we evalute the overall performance. "
   ]
  },
  {
   "cell_type": "code",
   "execution_count": 3532,
   "metadata": {
    "collapsed": true
   },
   "outputs": [],
   "source": [
    "from sklearn import cross_validation\n",
    "skf = cross_validation.StratifiedKFold(Yp, n_folds=5)"
   ]
  },
  {
   "cell_type": "markdown",
   "metadata": {},
   "source": [
    "### Random Forest Tuning\n",
    "Run a grid search over a range of parameters for a Random Forest. The dataset is small enough that we can do them all at once. ```n_estimators``` is neglected because this should always improve as it is increased so we should attempt to make it as large as possible subject to lack of improvement"
   ]
  },
  {
   "cell_type": "code",
   "execution_count": 3554,
   "metadata": {
    "collapsed": false
   },
   "outputs": [
    {
     "data": {
      "text/plain": [
       "GridSearchCV(cv=sklearn.cross_validation.StratifiedKFold(labels=[1 0 ..., 0 0], n_folds=5, shuffle=False, random_state=None),\n",
       "       error_score='raise',\n",
       "       estimator=RandomForestClassifier(bootstrap=True, class_weight='balanced',\n",
       "            criterion='gini', max_depth=None, max_features='auto',\n",
       "            max_leaf_nodes=None, min_samples_leaf=1, min_samples_split=2,\n",
       "            min_weight_fraction_leaf=0.0, n_estimators=50, n_jobs=1,\n",
       "            oob_score=False, random_state=50, verbose=0, warm_start=False),\n",
       "       fit_params={}, iid=True, n_jobs=-1,\n",
       "       param_grid={'max_features': [1, 4, 7, 10, 13, 16, 19], 'min_samples_split': [1, 2, 3, 4], 'max_depth': [1, 4, 7, 10, 13, 16, 19], 'min_samples_leaf': [1, 2, 3, 4]},\n",
       "       pre_dispatch='2*n_jobs', refit=True, scoring='roc_auc', verbose=0)"
      ]
     },
     "execution_count": 3554,
     "metadata": {},
     "output_type": "execute_result"
    }
   ],
   "source": [
    "param_grid = {\"max_depth\": range(1, 20, 3),\n",
    "              \"max_features\": range(1, 20, 3),\n",
    "              \"min_samples_split\": range(1, 5),\n",
    "              \"min_samples_leaf\": range(1, 5),\n",
    "             }\n",
    "\n",
    "rf = RandomForestClassifier(class_weight='balanced', n_estimators=50, random_state=50)\n",
    "rf_clf = grid_search.GridSearchCV(rf, param_grid, n_jobs=-1, cv=skf, scoring='roc_auc')\n",
    "rf_clf.fit(Xp, Yp)"
   ]
  },
  {
   "cell_type": "code",
   "execution_count": 3560,
   "metadata": {
    "collapsed": true
   },
   "outputs": [
    {
     "name": "stdout",
     "output_type": "stream",
     "text": [
      "{'max_features': 1, 'min_samples_split': 1, 'max_depth': 16, 'min_samples_leaf': 1}\n"
     ]
    }
   ],
   "source": [
    "print rf_clf.best_params_"
   ]
  },
  {
   "cell_type": "markdown",
   "metadata": {},
   "source": [
    "Now take a look at the number of estimators and see where performance begins to level off."
   ]
  },
  {
   "cell_type": "code",
   "execution_count": 3561,
   "metadata": {
    "collapsed": false,
    "scrolled": true
   },
   "outputs": [
    {
     "data": {
      "text/plain": [
       "GridSearchCV(cv=sklearn.cross_validation.StratifiedKFold(labels=[1 0 ..., 0 0], n_folds=5, shuffle=False, random_state=None),\n",
       "       error_score='raise',\n",
       "       estimator=RandomForestClassifier(bootstrap=True, class_weight='balanced',\n",
       "            criterion='gini', max_depth=16, max_features=1,\n",
       "            max_leaf_nodes=None, min_samples_leaf=1, min_samples_split=1,\n",
       "            min_weight_fraction_leaf=0.0, n_estimators=50, n_jobs=1,\n",
       "            oob_score=False, random_state=50, verbose=0, warm_start=False),\n",
       "       fit_params={}, iid=True, n_jobs=-1,\n",
       "       param_grid={'n_estimators': [50, 100, 150, 200, 250, 300, 350, 400, 450]},\n",
       "       pre_dispatch='2*n_jobs', refit=True, scoring='roc_auc', verbose=0)"
      ]
     },
     "execution_count": 3561,
     "metadata": {},
     "output_type": "execute_result"
    }
   ],
   "source": [
    "param_grid = {\"n_estimators\": range(50, 500, 50)}\n",
    "const_params = {'max_features': 1, 'min_samples_split': 1, 'max_depth': 16, 'min_samples_leaf': 1}\n",
    "\n",
    "rf = RandomForestClassifier(class_weight='balanced', n_estimators=50, random_state=50, **const_params)\n",
    "rf_clf2 = grid_search.GridSearchCV(rf, param_grid, n_jobs=-1, cv=skf, scoring='roc_auc')\n",
    "rf_clf2.fit(Xp, Yp)"
   ]
  },
  {
   "cell_type": "markdown",
   "metadata": {},
   "source": [
    "The best parameters for ```n_estimators``` levels off after around 300 estimators"
   ]
  },
  {
   "cell_type": "code",
   "execution_count": 3565,
   "metadata": {
    "collapsed": false
   },
   "outputs": [
    {
     "name": "stdout",
     "output_type": "stream",
     "text": [
      "{'n_estimators': 300}\n"
     ]
    },
    {
     "data": {
      "image/png": "[encoded data removed]",
      "text/plain": [
       "<matplotlib.figure.Figure at 0x1792ed090>"
      ]
     },
     "metadata": {},
     "output_type": "display_data"
    }
   ],
   "source": [
    "plt.plot([d[0]['n_estimators'] for d in rf_clf2.grid_scores_], [d[1] for d in rf_clf2.grid_scores_])\n",
    "print rf_clf2.best_params_"
   ]
  },
  {
   "cell_type": "markdown",
   "metadata": {},
   "source": [
    "### Gradient Boosting Tuning\n",
    "\n",
    "Gradient boosting is difficult to tune effectively. [This guide](http://www.analyticsvidhya.com/blog/2016/02/complete-guide-parameter-tuning-gradient-boosting-gbm-python/) suggests starting by fixing the learning rate and number of estimators to a relatively low number in order to tune the other hyperparameters. After they are optimised the learning rate is gradually lowered and the number of estimators increased until we find convergance on the optimum parameters"
   ]
  },
  {
   "cell_type": "code",
   "execution_count": null,
   "metadata": {
    "collapsed": true
   },
   "outputs": [],
   "source": [
    "param_grid = [\n",
    "   {'learning_rate': [0.1], 'n_estimators': range(20,81,10)}\n",
    "]\n",
    "\n",
    "const_params = {'min_samples_split': 1, 'min_samples_leaf': 3, 'max_depth': 8, 'max_features': 'sqrt', 'subsample': 0.8}\n",
    "gbc = GradientBoostingClassifier(**const_params)\n",
    "\n",
    "gbc_clf = grid_search.GridSearchCV(gbc, param_grid, cv=skf, scoring='roc_auc')\n",
    "gbc_clf.fit(Xp, Yp)"
   ]
  },
  {
   "cell_type": "code",
   "execution_count": null,
   "metadata": {
    "collapsed": true
   },
   "outputs": [],
   "source": [
    "print gbc_clf.best_params_"
   ]
  },
  {
   "cell_type": "code",
   "execution_count": null,
   "metadata": {
    "collapsed": true
   },
   "outputs": [],
   "source": [
    "const_params = {'n_estimators':80, 'learning_rate': 0.1, 'min_samples_leaf': 3, 'max_features': 'sqrt', 'subsample': 0.8}\n",
    "gbc = GradientBoostingClassifier(**const_params)\n",
    "\n",
    "param_grid = [\n",
    "    {'max_depth':range(5,16,2), 'min_samples_split':range(1, 20, 3)}\n",
    " ]\n",
    "\n",
    "skf = cross_validation.StratifiedKFold(Yp, n_folds=5)\n",
    "clf = grid_search.GridSearchCV(gbc, param_grid, cv=skf, scoring='roc_auc')\n",
    "clf.fit(Xp, Yp)\n",
    "print clf.best_params_\n",
    "clf.grid_scores_"
   ]
  },
  {
   "cell_type": "code",
   "execution_count": null,
   "metadata": {
    "collapsed": true
   },
   "outputs": [],
   "source": [
    "\n",
    "const_params = {'n_estimators':1000, 'learning_rate': 0.001, 'min_samples_leaf': 3, 'min_samples_split':3, 'max_depth':9, 'max_features': 'sqrt', 'subsample': 0.8}\n",
    "gbc = GradientBoostingClassifier(**const_params)\n",
    "\n",
    "cross_validation.cross_val_score(gbc, Xp, Yp, scoring='roc_auc', cv=skf).mean()"
   ]
  },
  {
   "cell_type": "markdown",
   "metadata": {},
   "source": [
    "### AdaBoost Tuning"
   ]
  },
  {
   "cell_type": "markdown",
   "metadata": {},
   "source": [
    "### Extremely Random Trees Tuning"
   ]
  },
  {
   "cell_type": "markdown",
   "metadata": {},
   "source": [
    "## Model Performance\n",
    "Test the performance of each of the models on the preprocessed dataset before trying any more complicated feature engineering/resampling. This should give us some rough baseline AUC measures to work with. Firstly, set up the models. This creates a set of pipelines for each of the models we want to use. "
   ]
  },
  {
   "cell_type": "code",
   "execution_count": 3567,
   "metadata": {
    "collapsed": true
   },
   "outputs": [],
   "source": [
    "from sklearn.pipeline import Pipeline\n",
    "from sklearn.svm import SVC\n",
    "from sklearn.ensemble import ExtraTreesClassifier, AdaBoostClassifier\n",
    "from sklearn.neighbors import KNeighborsClassifier\n",
    "from sklearn.tree import DecisionTreeClassifier\n",
    "reload(pipeline)\n",
    "import pipeline\n",
    "reload(roc_analysis)\n",
    "from roc_analysis import ROCAnalysisScorer\n",
    "\n",
    "scaler = preprocessing.StandardScaler()\n",
    "\n",
    "# set up classifier objects\n",
    "knn = KNeighborsClassifier(n_neighbors=5, weights='distance')\n",
    "dct = DecisionTreeClassifier(max_depth=4)\n",
    "abt = AdaBoostClassifier(dct, n_estimators=400)\n",
    "\n",
    "gbc_params = {'n_estimators':1600, 'learning_rate': 0.005, 'min_samples_leaf': 3, 'max_features': 'sqrt', 'subsample': 0.8, 'min_samples_split': 4, 'max_depth': 13}\n",
    "gbc = GradientBoostingClassifier(**gbc_params)\n",
    "\n",
    "rf_common_params = {'n_estimators':300, 'max_features':16, 'criterion':'entropy'}\n",
    "exf = ExtraTreesClassifier( class_weight=\"balanced\", **rf_common_params)\n",
    "rf_balanced = RandomForestClassifier(class_weight='balanced_subsample', **rf_common_params)\n",
    "\n",
    "# create pipelines for each model\n",
    "abt_pipe = Pipeline([('scaler', scaler), ('AdaBoost', abt)])\n",
    "exf_pipe = Pipeline([('scaler', scaler), ('ExtraTrees', exf)])\n",
    "gbc_pipe = Pipeline([('scaler', scaler), ('GradientBoostingClassifer', gbc)])\n",
    "rfs_pipe = Pipeline([('scaler', scaler), ('RandomForest', rf_balanced)])\n",
    "\n",
    "# create list of model data\n",
    "models = [\n",
    "#     {'name': 'AdaBoost', 'model': abt_pipe},\n",
    "#     {'name': 'ExtraTrees', 'model': exf_pipe},\n",
    "    {'name': 'RandomForest', 'model': rfs_pipe},\n",
    "#     {'name': 'GradientBoost', 'model': gbc_pipe},\n",
    "]\n",
    "\n",
    "# set the same training set for all models.\n",
    "# this is just the preprocessed dataset.\n",
    "for model in models:\n",
    "    model['train_data'] = (Xp, Yp)"
   ]
  },
  {
   "cell_type": "markdown",
   "metadata": {},
   "source": [
    "Define some useful helper functions for summarising the results of k-fold/monte carlo cross validation"
   ]
  },
  {
   "cell_type": "code",
   "execution_count": 3500,
   "metadata": {
    "collapsed": true
   },
   "outputs": [],
   "source": [
    "def f_score_summary(scorers):\n",
    "    \"\"\" Create a summary of the average f-scores for all folds/trials\"\"\"\n",
    "    series = []\n",
    "    columns = []\n",
    "    for key, scorer in scorers.iteritems():\n",
    "        f_scores = [np.mean(scorer.f1scores_), np.mean(scorer.f2scores_), np.mean(scorer.fhalf_scores_)]\n",
    "        s = pd.Series(f_scores, index=['F1', 'F2', 'F0.5'])\n",
    "        series.append(s)\n",
    "        columns.append(key)\n",
    "    \n",
    "    frame = pd.concat(series, axis = 1)    \n",
    "    frame.columns = columns\n",
    "    return frame\n",
    "\n",
    "def summarise_scorers(scoeres):\n",
    "    \"\"\" Create a summary of the scorers AUCs for all folds/trials\"\"\"\n",
    "    names = [name for name in scorers.keys()]\n",
    "    aucs = [scorer.aucs_ for scorer in scorers.values()]\n",
    "    aucs = pd.DataFrame(np.array(aucs).T, columns=names)\n",
    "    return aucs.describe()"
   ]
  },
  {
   "cell_type": "markdown",
   "metadata": {},
   "source": [
    "Perform n iterations of k fold cross validation. Here I am using 10 iterations and 5 folds at each iteration."
   ]
  },
  {
   "cell_type": "code",
   "execution_count": 3568,
   "metadata": {
    "collapsed": true
   },
   "outputs": [],
   "source": [
    "scorers = pipeline.repeated_cross_fold_validation(models, n=10, k=5)"
   ]
  },
  {
   "cell_type": "markdown",
   "metadata": {},
   "source": [
    "Plot an ROC curve and the mean AUCs."
   ]
  },
  {
   "cell_type": "code",
   "execution_count": 3569,
   "metadata": {
    "collapsed": false
   },
   "outputs": [
    {
     "data": {
      "text/plain": [
       "[<matplotlib.lines.Line2D at 0x179ade6d0>]"
      ]
     },
     "execution_count": 3569,
     "metadata": {},
     "output_type": "execute_result"
    },
    {
     "data": {
      "image/png": "[encoded data removed]",
      "text/plain": [
       "<matplotlib.figure.Figure at 0x179ade190>"
      ]
     },
     "metadata": {},
     "output_type": "display_data"
    }
   ],
   "source": [
    "%matplotlib inline\n",
    "for key, scorer in scorers.iteritems():\n",
    "    scorer.plot_roc_curve(mean_label=key, mean_line=True, show_all=False)\n",
    "\n",
    "plt.plot(np.arange(0,1.1, 0.1), np.arange(0,1.1, 0.1), '--')\n",
    "# plt.savefig(\"img/roc_cv.png\")"
   ]
  },
  {
   "cell_type": "markdown",
   "metadata": {},
   "source": [
    "Plot bar chart of the F2 scores"
   ]
  },
  {
   "cell_type": "code",
   "execution_count": null,
   "metadata": {
    "collapsed": true
   },
   "outputs": [],
   "source": [
    "ax = f_scores.loc['F2'].plot(kind='barh', title='F2 Measure for All Classifiers', color=['b', 'r', 'g', 'y'])\n",
    "ax.set_xlabel('F2 Score')\n",
    "plt.tight_layout()\n",
    "plt.savefig('img/f2_score.png')"
   ]
  },
  {
   "cell_type": "markdown",
   "metadata": {},
   "source": [
    "Summarise the F scores"
   ]
  },
  {
   "cell_type": "code",
   "execution_count": 3499,
   "metadata": {
    "collapsed": false
   },
   "outputs": [
    {
     "name": "stdout",
     "output_type": "stream",
     "text": [
      "\\begin{tabular}{lrrrr}\n",
      "\\toprule\n",
      "{} &  RandomForest &  ExtraTrees &  GradientBoost &  AdaBoost \\\\\n",
      "\\midrule\n",
      "F1   &      0.557502 &    0.643371 &       0.582411 &  0.617863 \\\\\n",
      "F2   &      0.478619 &    0.589029 &       0.515569 &  0.562853 \\\\\n",
      "F0.5 &      0.681112 &    0.715311 &       0.676343 &  0.689950 \\\\\n",
      "\\bottomrule\n",
      "\\end{tabular}\n",
      "\n"
     ]
    },
    {
     "data": {
      "text/html": [
       "<div>\n",
       "<table border=\"1\" class=\"dataframe\">\n",
       "  <thead>\n",
       "    <tr style=\"text-align: right;\">\n",
       "      <th></th>\n",
       "      <th>RandomForest</th>\n",
       "      <th>ExtraTrees</th>\n",
       "      <th>GradientBoost</th>\n",
       "      <th>AdaBoost</th>\n",
       "    </tr>\n",
       "  </thead>\n",
       "  <tbody>\n",
       "    <tr>\n",
       "      <th>F1</th>\n",
       "      <td>0.557502</td>\n",
       "      <td>0.643371</td>\n",
       "      <td>0.582411</td>\n",
       "      <td>0.617863</td>\n",
       "    </tr>\n",
       "    <tr>\n",
       "      <th>F2</th>\n",
       "      <td>0.478619</td>\n",
       "      <td>0.589029</td>\n",
       "      <td>0.515569</td>\n",
       "      <td>0.562853</td>\n",
       "    </tr>\n",
       "    <tr>\n",
       "      <th>F0.5</th>\n",
       "      <td>0.681112</td>\n",
       "      <td>0.715311</td>\n",
       "      <td>0.676343</td>\n",
       "      <td>0.689950</td>\n",
       "    </tr>\n",
       "  </tbody>\n",
       "</table>\n",
       "</div>"
      ],
      "text/plain": [
       "      RandomForest  ExtraTrees  GradientBoost  AdaBoost\n",
       "F1        0.557502    0.643371       0.582411  0.617863\n",
       "F2        0.478619    0.589029       0.515569  0.562853\n",
       "F0.5      0.681112    0.715311       0.676343  0.689950"
      ]
     },
     "execution_count": 3499,
     "metadata": {},
     "output_type": "execute_result"
    }
   ],
   "source": [
    "f_scores = f_score_summary(scorers)\n",
    "print f_scores.to_latex()\n",
    "f_scores"
   ]
  },
  {
   "cell_type": "markdown",
   "metadata": {},
   "source": [
    "## Feature Engineering\n",
    "\n",
    "Test creating some new features based on combinations of existing ones in the dataset. Cross validate each set of new features to see if it improves performance."
   ]
  },
  {
   "cell_type": "markdown",
   "metadata": {},
   "source": [
    "### Binary Features"
   ]
  },
  {
   "cell_type": "code",
   "execution_count": 3224,
   "metadata": {
    "collapsed": false
   },
   "outputs": [],
   "source": [
    "import itertools\n",
    "\n",
    "def binary_combinations(x_data, names):\n",
    "    name_pairs = itertools.combinations(names, 2)\n",
    "    features = []\n",
    "    for a_name, b_name in name_pairs:\n",
    "        a, b = x_data[a_name], x_data[b_name]\n",
    "        features.append(np.logical_xor(a, b).astype(int))\n",
    "        features.append(np.logical_and(a, b).astype(int))\n",
    "        features.append(np.logical_or(a, b).astype(int))\n",
    "        \n",
    "    return pd.DataFrame(np.array(features).T, index=x_data.index)\n",
    "\n",
    "binary_features = binary_combinations(Xp, ['PRE7', 'PRE8', 'PRE9', 'PRE10', 'PRE11', 'PRE17', 'PRE30'])\n",
    "Xp = pd.concat([Xp, binary_features], axis=1)"
   ]
  },
  {
   "cell_type": "markdown",
   "metadata": {},
   "source": [
    "### Spirometry Based Features"
   ]
  },
  {
   "cell_type": "code",
   "execution_count": null,
   "metadata": {
    "collapsed": true
   },
   "outputs": [],
   "source": [
    "# create new feature FER\n",
    "# this is the raito of FEV1 and FVC\n",
    "Xp['FER'] = (Xp.PRE5 / Xp.PRE4) * 100\n",
    "\n",
    "# create a new feature OBS\n",
    "# this is whether the instance has a FER below 70%\n",
    "# which implies an obstructive disease.\n",
    "Xp['OBS'] = np.zeros(Xp.AGE.shape)\n",
    "Xp.OBS.loc[Xp.FER < 70] = 1.0"
   ]
  },
  {
   "cell_type": "markdown",
   "metadata": {},
   "source": [
    "### Polynomial Combinations"
   ]
  },
  {
   "cell_type": "code",
   "execution_count": null,
   "metadata": {
    "collapsed": true
   },
   "outputs": [],
   "source": [
    "def create_poly_features(x_data, names):\n",
    "    # create new features base on Polynomials of the original best two predictors\n",
    "    poly = sklearn.preprocessing.PolynomialFeatures(2, include_bias=False, interaction_only=True)\n",
    "    poly_features = pd.DataFrame(poly.fit_transform(x_data[names]), index=x_data.index)\n",
    "    poly_features.columns = [\"POLY_%d\" % i for i in poly_features.columns]\n",
    "    return poly_features\n",
    "\n",
    "poly_features = create_poly_features(Xp, ['PRE4', 'PRE5'])\n",
    "Xp = pd.concat([Xp, poly_features], axis=1)"
   ]
  },
  {
   "cell_type": "markdown",
   "metadata": {},
   "source": [
    "## Resampling the Dataset\n",
    "\n",
    "Testing whether using resampling improves performance"
   ]
  },
  {
   "cell_type": "markdown",
   "metadata": {},
   "source": [
    "### Testing with regular Over/Under sampling"
   ]
  },
  {
   "cell_type": "code",
   "execution_count": 3489,
   "metadata": {
    "collapsed": false
   },
   "outputs": [
    {
     "name": "stdout",
     "output_type": "stream",
     "text": [
      "Determining classes statistics... 2 classes detected: {0: 167, 1: 67}\n",
      "Over-sampling performed: Counter({0: 167, 1: 120})\n",
      "Determining classes statistics... 2 classes detected: {0: 167, 1: 120}\n",
      "Under-sampling performed: Counter({1: 120, 0: 48})\n",
      "Determining classes statistics... 2 classes detected: {0: 167, 1: 67}\n",
      "Over-sampling performed: Counter({0: 167, 1: 120})\n",
      "Determining classes statistics... 2 classes detected: {0: 167, 1: 120}\n",
      "Under-sampling performed: Counter({1: 120, 0: 48})\n",
      "Determining classes statistics... 2 classes detected: {0: 167, 1: 67}\n",
      "Over-sampling performed: Counter({0: 167, 1: 120})\n",
      "Determining classes statistics... 2 classes detected: {0: 167, 1: 120}\n",
      "Under-sampling performed: Counter({1: 120, 0: 48})\n",
      "Determining classes statistics... 2 classes detected: {0: 167, 1: 67}\n",
      "Over-sampling performed: Counter({0: 167, 1: 120})\n",
      "Determining classes statistics... 2 classes detected: {0: 167, 1: 120}\n",
      "Under-sampling performed: Counter({1: 120, 0: 48})\n",
      "Determining classes statistics... 2 classes detected: {0: 167, 1: 67}\n",
      "Over-sampling performed: Counter({0: 167, 1: 120})\n",
      "Determining classes statistics... 2 classes detected: {0: 167, 1: 120}\n",
      "Under-sampling performed: Counter({1: 120, 0: 48})\n",
      "Determining classes statistics... 2 classes detected: {0: 167, 1: 67}\n",
      "Over-sampling performed: Counter({0: 167, 1: 120})\n",
      "Determining classes statistics... 2 classes detected: {0: 167, 1: 120}\n",
      "Under-sampling performed: Counter({1: 120, 0: 48})\n",
      "Determining classes statistics... 2 classes detected: {0: 167, 1: 67}\n",
      "Over-sampling performed: Counter({0: 167, 1: 120})\n",
      "Determining classes statistics... 2 classes detected: {0: 167, 1: 120}\n",
      "Under-sampling performed: Counter({1: 120, 0: 48})\n",
      "Determining classes statistics... 2 classes detected: {0: 167, 1: 67}\n",
      "Over-sampling performed: Counter({0: 167, 1: 120})\n",
      "Determining classes statistics... 2 classes detected: {0: 167, 1: 120}\n",
      "Under-sampling performed: Counter({1: 120, 0: 48})\n",
      "Determining classes statistics... 2 classes detected: {0: 167, 1: 67}\n",
      "Over-sampling performed: Counter({0: 167, 1: 120})\n",
      "Determining classes statistics... 2 classes detected: {0: 167, 1: 120}\n",
      "Under-sampling performed: Counter({1: 120, 0: 48})\n",
      "Determining classes statistics... 2 classes detected: {0: 167, 1: 67}\n",
      "Over-sampling performed: Counter({0: 167, 1: 120})\n",
      "Determining classes statistics... 2 classes detected: {0: 167, 1: 120}\n",
      "Under-sampling performed: Counter({1: 120, 0: 48})\n",
      "Determining classes statistics... 2 classes detected: {0: 167, 1: 67}\n",
      "Over-sampling performed: Counter({0: 167, 1: 120})\n",
      "Determining classes statistics... 2 classes detected: {0: 167, 1: 120}\n",
      "Under-sampling performed: Counter({1: 120, 0: 48})\n",
      "Determining classes statistics... 2 classes detected: {0: 167, 1: 67}\n",
      "Over-sampling performed: Counter({0: 167, 1: 120})\n",
      "Determining classes statistics... 2 classes detected: {0: 167, 1: 120}\n",
      "Under-sampling performed: Counter({1: 120, 0: 48})\n",
      "Determining classes statistics... 2 classes detected: {0: 167, 1: 67}\n",
      "Over-sampling performed: Counter({0: 167, 1: 120})\n",
      "Determining classes statistics... 2 classes detected: {0: 167, 1: 120}\n",
      "Under-sampling performed: Counter({1: 120, 0: 48})\n",
      "Determining classes statistics... 2 classes detected: {0: 167, 1: 67}\n",
      "Over-sampling performed: Counter({0: 167, 1: 120})\n",
      "Determining classes statistics... 2 classes detected: {0: 167, 1: 120}\n",
      "Under-sampling performed: Counter({1: 120, 0: 48})\n",
      "Determining classes statistics... 2 classes detected: {0: 167, 1: 67}\n",
      "Over-sampling performed: Counter({0: 167, 1: 120})\n",
      "Determining classes statistics... 2 classes detected: {0: 167, 1: 120}\n",
      "Under-sampling performed: Counter({1: 120, 0: 48})\n",
      "Determining classes statistics... 2 classes detected: {0: 167, 1: 67}\n",
      "Over-sampling performed: Counter({0: 167, 1: 120})\n",
      "Determining classes statistics... 2 classes detected: {0: 167, 1: 120}\n",
      "Under-sampling performed: Counter({1: 120, 0: 48})\n",
      "Determining classes statistics... 2 classes detected: {0: 167, 1: 67}\n",
      "Over-sampling performed: Counter({0: 167, 1: 120})\n",
      "Determining classes statistics... 2 classes detected: {0: 167, 1: 120}\n",
      "Under-sampling performed: Counter({1: 120, 0: 48})\n",
      "Determining classes statistics... 2 classes detected: {0: 167, 1: 67}\n",
      "Over-sampling performed: Counter({0: 167, 1: 120})\n",
      "Determining classes statistics... 2 classes detected: {0: 167, 1: 120}\n",
      "Under-sampling performed: Counter({1: 120, 0: 48})\n",
      "Determining classes statistics... 2 classes detected: {0: 167, 1: 67}\n",
      "Over-sampling performed: Counter({0: 167, 1: 120})\n",
      "Determining classes statistics... 2 classes detected: {0: 167, 1: 120}\n",
      "Under-sampling performed: Counter({1: 120, 0: 48})\n",
      "Determining classes statistics... 2 classes detected: {0: 167, 1: 67}\n",
      "Over-sampling performed: Counter({0: 167, 1: 120})\n",
      "Determining classes statistics... 2 classes detected: {0: 167, 1: 120}\n",
      "Under-sampling performed: Counter({1: 120, 0: 48})\n",
      "Determining classes statistics... 2 classes detected: {0: 167, 1: 67}\n",
      "Over-sampling performed: Counter({0: 167, 1: 120})\n",
      "Determining classes statistics... 2 classes detected: {0: 167, 1: 120}\n",
      "Under-sampling performed: Counter({1: 120, 0: 48})\n",
      "Determining classes statistics... 2 classes detected: {0: 167, 1: 67}\n",
      "Over-sampling performed: Counter({0: 167, 1: 120})\n",
      "Determining classes statistics... 2 classes detected: {0: 167, 1: 120}\n",
      "Under-sampling performed: Counter({1: 120, 0: 48})\n",
      "Determining classes statistics... 2 classes detected: {0: 167, 1: 67}\n",
      "Over-sampling performed: Counter({0: 167, 1: 120})\n",
      "Determining classes statistics... 2 classes detected: {0: 167, 1: 120}\n",
      "Under-sampling performed: Counter({1: 120, 0: 48})\n",
      "Determining classes statistics... 2 classes detected: {0: 167, 1: 67}\n",
      "Over-sampling performed: Counter({0: 167, 1: 120})\n",
      "Determining classes statistics... 2 classes detected: {0: 167, 1: 120}\n",
      "Under-sampling performed: Counter({1: 120, 0: 48})\n",
      "Determining classes statistics... 2 classes detected: {0: 167, 1: 67}\n",
      "Over-sampling performed: Counter({0: 167, 1: 120})\n",
      "Determining classes statistics... 2 classes detected: {0: 167, 1: 120}\n",
      "Under-sampling performed: Counter({1: 120, 0: 48})\n",
      "Determining classes statistics... 2 classes detected: {0: 167, 1: 67}\n",
      "Over-sampling performed: Counter({0: 167, 1: 120})\n",
      "Determining classes statistics... 2 classes detected: {0: 167, 1: 120}\n",
      "Under-sampling performed: Counter({1: 120, 0: 48})\n",
      "Determining classes statistics... 2 classes detected: {0: 167, 1: 67}\n",
      "Over-sampling performed: Counter({0: 167, 1: 120})\n",
      "Determining classes statistics... 2 classes detected: {0: 167, 1: 120}\n",
      "Under-sampling performed: Counter({1: 120, 0: 48})\n",
      "Determining classes statistics... 2 classes detected: {0: 167, 1: 67}\n",
      "Over-sampling performed: Counter({0: 167, 1: 120})\n",
      "Determining classes statistics... 2 classes detected: {0: 167, 1: 120}\n",
      "Under-sampling performed: Counter({1: 120, 0: 48})\n",
      "Determining classes statistics... 2 classes detected: {0: 167, 1: 67}\n",
      "Over-sampling performed: Counter({0: 167, 1: 120})\n",
      "Determining classes statistics... 2 classes detected: {0: 167, 1: 120}\n",
      "Under-sampling performed: Counter({1: 120, 0: 48})\n",
      "Determining classes statistics... 2 classes detected: {0: 167, 1: 67}\n",
      "Over-sampling performed: Counter({0: 167, 1: 120})\n",
      "Determining classes statistics... 2 classes detected: {0: 167, 1: 120}\n",
      "Under-sampling performed: Counter({1: 120, 0: 48})\n",
      "Determining classes statistics... 2 classes detected: {0: 167, 1: 67}\n",
      "Over-sampling performed: Counter({0: 167, 1: 120})\n",
      "Determining classes statistics... 2 classes detected: {0: 167, 1: 120}\n",
      "Under-sampling performed: Counter({1: 120, 0: 48})\n",
      "Determining classes statistics... 2 classes detected: {0: 167, 1: 67}\n",
      "Over-sampling performed: Counter({0: 167, 1: 120})\n",
      "Determining classes statistics... 2 classes detected: {0: 167, 1: 120}\n",
      "Under-sampling performed: Counter({1: 120, 0: 48})\n",
      "Determining classes statistics... 2 classes detected: {0: 167, 1: 67}\n",
      "Over-sampling performed: Counter({0: 167, 1: 120})\n",
      "Determining classes statistics... 2 classes detected: {0: 167, 1: 120}\n",
      "Under-sampling performed: Counter({1: 120, 0: 48})\n",
      "Determining classes statistics... 2 classes detected: {0: 167, 1: 67}\n",
      "Over-sampling performed: Counter({0: 167, 1: 120})\n",
      "Determining classes statistics... 2 classes detected: {0: 167, 1: 120}\n",
      "Under-sampling performed: Counter({1: 120, 0: 48})\n",
      "Determining classes statistics... 2 classes detected: {0: 167, 1: 67}\n",
      "Over-sampling performed: Counter({0: 167, 1: 120})\n",
      "Determining classes statistics... 2 classes detected: {0: 167, 1: 120}\n",
      "Under-sampling performed: Counter({1: 120, 0: 48})\n",
      "Determining classes statistics... 2 classes detected: {0: 167, 1: 67}\n",
      "Over-sampling performed: Counter({0: 167, 1: 120})\n",
      "Determining classes statistics... 2 classes detected: {0: 167, 1: 120}\n",
      "Under-sampling performed: Counter({1: 120, 0: 48})\n",
      "Determining classes statistics... 2 classes detected: {0: 167, 1: 67}\n",
      "Over-sampling performed: Counter({0: 167, 1: 120})\n",
      "Determining classes statistics... 2 classes detected: {0: 167, 1: 120}\n",
      "Under-sampling performed: Counter({1: 120, 0: 48})\n",
      "Determining classes statistics... 2 classes detected: {0: 167, 1: 67}\n",
      "Over-sampling performed: Counter({0: 167, 1: 120})\n",
      "Determining classes statistics... 2 classes detected: {0: 167, 1: 120}\n",
      "Under-sampling performed: Counter({1: 120, 0: 48})\n",
      "Determining classes statistics... 2 classes detected: {0: 167, 1: 67}\n",
      "Over-sampling performed: Counter({0: 167, 1: 120})\n",
      "Determining classes statistics... 2 classes detected: {0: 167, 1: 120}\n",
      "Under-sampling performed: Counter({1: 120, 0: 48})\n",
      "Determining classes statistics... 2 classes detected: {0: 167, 1: 67}\n",
      "Over-sampling performed: Counter({0: 167, 1: 120})\n",
      "Determining classes statistics... 2 classes detected: {0: 167, 1: 120}\n",
      "Under-sampling performed: Counter({1: 120, 0: 48})\n",
      "Determining classes statistics... 2 classes detected: {0: 167, 1: 67}\n",
      "Over-sampling performed: Counter({0: 167, 1: 120})\n",
      "Determining classes statistics... 2 classes detected: {0: 167, 1: 120}\n",
      "Under-sampling performed: Counter({1: 120, 0: 48})\n",
      "Determining classes statistics... 2 classes detected: {0: 167, 1: 67}\n",
      "Over-sampling performed: Counter({0: 167, 1: 120})\n",
      "Determining classes statistics... 2 classes detected: {0: 167, 1: 120}\n",
      "Under-sampling performed: Counter({1: 120, 0: 48})\n",
      "Determining classes statistics... 2 classes detected: {0: 167, 1: 67}\n",
      "Over-sampling performed: Counter({0: 167, 1: 120})\n",
      "Determining classes statistics... 2 classes detected: {0: 167, 1: 120}\n",
      "Under-sampling performed: Counter({1: 120, 0: 48})\n",
      "Determining classes statistics... 2 classes detected: {0: 167, 1: 67}\n",
      "Over-sampling performed: Counter({0: 167, 1: 120})\n",
      "Determining classes statistics... 2 classes detected: {0: 167, 1: 120}\n",
      "Under-sampling performed: Counter({1: 120, 0: 48})\n",
      "Determining classes statistics... 2 classes detected: {0: 167, 1: 67}\n",
      "Over-sampling performed: Counter({0: 167, 1: 120})\n",
      "Determining classes statistics... 2 classes detected: {0: 167, 1: 120}\n",
      "Under-sampling performed: Counter({1: 120, 0: 48})\n",
      "Determining classes statistics... 2 classes detected: {0: 167, 1: 67}\n",
      "Over-sampling performed: Counter({0: 167, 1: 120})\n",
      "Determining classes statistics... 2 classes detected: {0: 167, 1: 120}\n",
      "Under-sampling performed: Counter({1: 120, 0: 48})\n",
      "Determining classes statistics... 2 classes detected: {0: 167, 1: 67}\n",
      "Over-sampling performed: Counter({0: 167, 1: 120})\n",
      "Determining classes statistics... 2 classes detected: {0: 167, 1: 120}\n",
      "Under-sampling performed: Counter({1: 120, 0: 48})\n",
      "Determining classes statistics... 2 classes detected: {0: 167, 1: 67}\n",
      "Over-sampling performed: Counter({0: 167, 1: 120})\n",
      "Determining classes statistics... 2 classes detected: {0: 167, 1: 120}\n",
      "Under-sampling performed: Counter({1: 120, 0: 48})\n",
      "Determining classes statistics... 2 classes detected: {0: 167, 1: 67}\n",
      "Over-sampling performed: Counter({0: 167, 1: 120})\n",
      "Determining classes statistics... 2 classes detected: {0: 167, 1: 120}\n",
      "Under-sampling performed: Counter({1: 120, 0: 48})\n",
      "Determining classes statistics... 2 classes detected: {0: 167, 1: 67}\n",
      "Over-sampling performed: Counter({0: 167, 1: 120})\n",
      "Determining classes statistics... 2 classes detected: {0: 167, 1: 120}\n",
      "Under-sampling performed: Counter({1: 120, 0: 48})\n"
     ]
    }
   ],
   "source": [
    "splitter = pipeline.OverUnderSplitter(test_size=0.2, under_sample=0.4, over_sample=0.8)\n",
    "overunder_scorers = pipeline.monte_carlo_validation(Xp, Yp, models, splitter, n=50)"
   ]
  },
  {
   "cell_type": "code",
   "execution_count": 3490,
   "metadata": {
    "collapsed": false,
    "scrolled": true
   },
   "outputs": [
    {
     "data": {
      "image/png": "[encoded data removed]",
      "text/plain": [
       "<matplotlib.figure.Figure at 0x170f4b550>"
      ]
     },
     "metadata": {},
     "output_type": "display_data"
    }
   ],
   "source": [
    "for key, scorer in overunder_scorers.iteritems():\n",
    "    scorer.plot_roc_curve(mean_label=key, mean_line=True, show_all=False)"
   ]
  },
  {
   "cell_type": "code",
   "execution_count": 3485,
   "metadata": {
    "collapsed": false
   },
   "outputs": [
    {
     "data": {
      "text/html": [
       "<div>\n",
       "<table border=\"1\" class=\"dataframe\">\n",
       "  <thead>\n",
       "    <tr style=\"text-align: right;\">\n",
       "      <th></th>\n",
       "      <th>RandomForest</th>\n",
       "      <th>ExtraTrees</th>\n",
       "      <th>GradientBoost</th>\n",
       "      <th>AdaBoost</th>\n",
       "    </tr>\n",
       "  </thead>\n",
       "  <tbody>\n",
       "    <tr>\n",
       "      <th>F1</th>\n",
       "      <td>0.548745</td>\n",
       "      <td>0.583188</td>\n",
       "      <td>0.546389</td>\n",
       "      <td>0.549007</td>\n",
       "    </tr>\n",
       "    <tr>\n",
       "      <th>F2</th>\n",
       "      <td>0.695434</td>\n",
       "      <td>0.704861</td>\n",
       "      <td>0.675865</td>\n",
       "      <td>0.658299</td>\n",
       "    </tr>\n",
       "    <tr>\n",
       "      <th>F0.5</th>\n",
       "      <td>0.454072</td>\n",
       "      <td>0.498930</td>\n",
       "      <td>0.459672</td>\n",
       "      <td>0.472353</td>\n",
       "    </tr>\n",
       "  </tbody>\n",
       "</table>\n",
       "</div>"
      ],
      "text/plain": [
       "      RandomForest  ExtraTrees  GradientBoost  AdaBoost\n",
       "F1        0.548745    0.583188       0.546389  0.549007\n",
       "F2        0.695434    0.704861       0.675865  0.658299\n",
       "F0.5      0.454072    0.498930       0.459672  0.472353"
      ]
     },
     "execution_count": 3485,
     "metadata": {},
     "output_type": "execute_result"
    }
   ],
   "source": [
    "f_score_summary(overunder_scorers)"
   ]
  },
  {
   "cell_type": "code",
   "execution_count": 3398,
   "metadata": {
    "collapsed": false,
    "scrolled": true
   },
   "outputs": [
    {
     "data": {
      "text/html": [
       "<div>\n",
       "<table border=\"1\" class=\"dataframe\">\n",
       "  <thead>\n",
       "    <tr style=\"text-align: right;\">\n",
       "      <th></th>\n",
       "      <th>RandomForest</th>\n",
       "    </tr>\n",
       "  </thead>\n",
       "  <tbody>\n",
       "    <tr>\n",
       "      <th>count</th>\n",
       "      <td>50.000000</td>\n",
       "    </tr>\n",
       "    <tr>\n",
       "      <th>mean</th>\n",
       "      <td>0.898258</td>\n",
       "    </tr>\n",
       "    <tr>\n",
       "      <th>std</th>\n",
       "      <td>0.042592</td>\n",
       "    </tr>\n",
       "    <tr>\n",
       "      <th>min</th>\n",
       "      <td>0.813025</td>\n",
       "    </tr>\n",
       "    <tr>\n",
       "      <th>25%</th>\n",
       "      <td>0.865721</td>\n",
       "    </tr>\n",
       "    <tr>\n",
       "      <th>50%</th>\n",
       "      <td>0.905869</td>\n",
       "    </tr>\n",
       "    <tr>\n",
       "      <th>75%</th>\n",
       "      <td>0.934174</td>\n",
       "    </tr>\n",
       "    <tr>\n",
       "      <th>max</th>\n",
       "      <td>0.964986</td>\n",
       "    </tr>\n",
       "  </tbody>\n",
       "</table>\n",
       "</div>"
      ],
      "text/plain": [
       "       RandomForest\n",
       "count     50.000000\n",
       "mean       0.898258\n",
       "std        0.042592\n",
       "min        0.813025\n",
       "25%        0.865721\n",
       "50%        0.905869\n",
       "75%        0.934174\n",
       "max        0.964986"
      ]
     },
     "execution_count": 3398,
     "metadata": {},
     "output_type": "execute_result"
    }
   ],
   "source": [
    "summarise_scorers(smote_scorers)"
   ]
  },
  {
   "cell_type": "markdown",
   "metadata": {},
   "source": [
    "### Testing with SMOTE + Undersampling"
   ]
  },
  {
   "cell_type": "code",
   "execution_count": 3491,
   "metadata": {
    "collapsed": false
   },
   "outputs": [
    {
     "name": "stdout",
     "output_type": "stream",
     "text": [
      "Determining classes statistics... 2 classes detected: {0: 167, 1: 67}\n",
      "Finding the 3 nearest neighbours...done!\n",
      "Creating synthetic samples...Generated 53 new samples ...\n",
      "done!\n",
      "Determining classes statistics... 2 classes detected: {0.0: 167, 1.0: 120}\n",
      "Under-sampling performed: Counter({0.0: 120, 1.0: 120})\n",
      "Determining classes statistics... 2 classes detected: {0: 167, 1: 67}\n",
      "Finding the 3 nearest neighbours...done!\n",
      "Creating synthetic samples...Generated 53 new samples ...\n",
      "done!\n",
      "Determining classes statistics... 2 classes detected: {0.0: 167, 1.0: 120}\n",
      "Under-sampling performed: Counter({0.0: 120, 1.0: 120})\n",
      "Determining classes statistics... 2 classes detected: {0: 167, 1: 67}\n",
      "Finding the 3 nearest neighbours...done!\n",
      "Creating synthetic samples...Generated 53 new samples ...\n",
      "done!\n",
      "Determining classes statistics... 2 classes detected: {0.0: 167, 1.0: 120}\n",
      "Under-sampling performed: Counter({0.0: 120, 1.0: 120})\n",
      "Determining classes statistics... 2 classes detected: {0: 167, 1: 67}\n",
      "Finding the 3 nearest neighbours...done!\n",
      "Creating synthetic samples...Generated 53 new samples ...\n",
      "done!\n",
      "Determining classes statistics... 2 classes detected: {0.0: 167, 1.0: 120}\n",
      "Under-sampling performed: Counter({0.0: 120, 1.0: 120})\n",
      "Determining classes statistics... 2 classes detected: {0: 167, 1: 67}\n",
      "Finding the 3 nearest neighbours...done!\n",
      "Creating synthetic samples...Generated 53 new samples ...\n",
      "done!\n",
      "Determining classes statistics... 2 classes detected: {0.0: 167, 1.0: 120}\n",
      "Under-sampling performed: Counter({0.0: 120, 1.0: 120})\n",
      "Determining classes statistics... 2 classes detected: {0: 167, 1: 67}\n",
      "Finding the 3 nearest neighbours...done!\n",
      "Creating synthetic samples...Generated 53 new samples ...\n",
      "done!\n",
      "Determining classes statistics... 2 classes detected: {0.0: 167, 1.0: 120}\n",
      "Under-sampling performed: Counter({0.0: 120, 1.0: 120})\n",
      "Determining classes statistics... 2 classes detected: {0: 167, 1: 67}\n",
      "Finding the 3 nearest neighbours...done!\n",
      "Creating synthetic samples...Generated 53 new samples ...\n",
      "done!\n",
      "Determining classes statistics... 2 classes detected: {0.0: 167, 1.0: 120}\n",
      "Under-sampling performed: Counter({0.0: 120, 1.0: 120})\n",
      "Determining classes statistics... 2 classes detected: {0: 167, 1: 67}\n",
      "Finding the 3 nearest neighbours...done!\n",
      "Creating synthetic samples...Generated 53 new samples ...\n",
      "done!\n",
      "Determining classes statistics... 2 classes detected: {0.0: 167, 1.0: 120}\n",
      "Under-sampling performed: Counter({0.0: 120, 1.0: 120})\n",
      "Determining classes statistics... 2 classes detected: {0: 167, 1: 67}\n",
      "Finding the 3 nearest neighbours...done!\n",
      "Creating synthetic samples...Generated 53 new samples ...\n",
      "done!\n",
      "Determining classes statistics... 2 classes detected: {0.0: 167, 1.0: 120}\n",
      "Under-sampling performed: Counter({0.0: 120, 1.0: 120})\n",
      "Determining classes statistics... 2 classes detected: {0: 167, 1: 67}\n",
      "Finding the 3 nearest neighbours...done!\n",
      "Creating synthetic samples...Generated 53 new samples ...\n",
      "done!\n",
      "Determining classes statistics... 2 classes detected: {0.0: 167, 1.0: 120}\n",
      "Under-sampling performed: Counter({0.0: 120, 1.0: 120})\n",
      "Determining classes statistics... 2 classes detected: {0: 167, 1: 67}\n",
      "Finding the 3 nearest neighbours...done!\n",
      "Creating synthetic samples...Generated 53 new samples ...\n",
      "done!\n",
      "Determining classes statistics... 2 classes detected: {0.0: 167, 1.0: 120}\n",
      "Under-sampling performed: Counter({0.0: 120, 1.0: 120})\n",
      "Determining classes statistics... 2 classes detected: {0: 167, 1: 67}\n",
      "Finding the 3 nearest neighbours...done!\n",
      "Creating synthetic samples...Generated 53 new samples ...\n",
      "done!\n",
      "Determining classes statistics... 2 classes detected: {0.0: 167, 1.0: 120}\n",
      "Under-sampling performed: Counter({0.0: 120, 1.0: 120})\n",
      "Determining classes statistics... 2 classes detected: {0: 167, 1: 67}\n",
      "Finding the 3 nearest neighbours...done!\n",
      "Creating synthetic samples...Generated 53 new samples ...\n",
      "done!\n",
      "Determining classes statistics... 2 classes detected: {0.0: 167, 1.0: 120}\n",
      "Under-sampling performed: Counter({0.0: 120, 1.0: 120})\n",
      "Determining classes statistics... 2 classes detected: {0: 167, 1: 67}\n",
      "Finding the 3 nearest neighbours...done!\n",
      "Creating synthetic samples...Generated 53 new samples ...\n",
      "done!\n",
      "Determining classes statistics... 2 classes detected: {0.0: 167, 1.0: 120}\n",
      "Under-sampling performed: Counter({0.0: 120, 1.0: 120})\n",
      "Determining classes statistics... 2 classes detected: {0: 167, 1: 67}\n",
      "Finding the 3 nearest neighbours...done!\n",
      "Creating synthetic samples...Generated 53 new samples ...\n",
      "done!\n",
      "Determining classes statistics... 2 classes detected: {0.0: 167, 1.0: 120}\n",
      "Under-sampling performed: Counter({0.0: 120, 1.0: 120})\n",
      "Determining classes statistics... 2 classes detected: {0: 167, 1: 67}\n",
      "Finding the 3 nearest neighbours...done!\n",
      "Creating synthetic samples...Generated 53 new samples ...\n",
      "done!\n",
      "Determining classes statistics... 2 classes detected: {0.0: 167, 1.0: 120}\n",
      "Under-sampling performed: Counter({0.0: 120, 1.0: 120})\n",
      "Determining classes statistics... 2 classes detected: {0: 167, 1: 67}\n",
      "Finding the 3 nearest neighbours...done!\n",
      "Creating synthetic samples...Generated 53 new samples ...\n",
      "done!\n",
      "Determining classes statistics... 2 classes detected: {0.0: 167, 1.0: 120}\n",
      "Under-sampling performed: Counter({0.0: 120, 1.0: 120})\n",
      "Determining classes statistics... 2 classes detected: {0: 167, 1: 67}\n",
      "Finding the 3 nearest neighbours...done!\n",
      "Creating synthetic samples...Generated 53 new samples ...\n",
      "done!\n",
      "Determining classes statistics... 2 classes detected: {0.0: 167, 1.0: 120}\n",
      "Under-sampling performed: Counter({0.0: 120, 1.0: 120})\n",
      "Determining classes statistics... 2 classes detected: {0: 167, 1: 67}\n",
      "Finding the 3 nearest neighbours...done!\n",
      "Creating synthetic samples...Generated 53 new samples ...\n",
      "done!\n",
      "Determining classes statistics... 2 classes detected: {0.0: 167, 1.0: 120}\n",
      "Under-sampling performed: Counter({0.0: 120, 1.0: 120})\n",
      "Determining classes statistics... 2 classes detected: {0: 167, 1: 67}\n",
      "Finding the 3 nearest neighbours...done!\n",
      "Creating synthetic samples...Generated 53 new samples ...\n",
      "done!\n",
      "Determining classes statistics... 2 classes detected: {0.0: 167, 1.0: 120}\n",
      "Under-sampling performed: Counter({0.0: 120, 1.0: 120})\n",
      "Determining classes statistics... 2 classes detected: {0: 167, 1: 67}\n",
      "Finding the 3 nearest neighbours...done!\n",
      "Creating synthetic samples...Generated 53 new samples ...\n",
      "done!\n",
      "Determining classes statistics... 2 classes detected: {0.0: 167, 1.0: 120}\n",
      "Under-sampling performed: Counter({0.0: 120, 1.0: 120})\n",
      "Determining classes statistics... 2 classes detected: {0: 167, 1: 67}\n",
      "Finding the 3 nearest neighbours...done!\n",
      "Creating synthetic samples...Generated 53 new samples ...\n",
      "done!\n",
      "Determining classes statistics... 2 classes detected: {0.0: 167, 1.0: 120}\n",
      "Under-sampling performed: Counter({0.0: 120, 1.0: 120})\n",
      "Determining classes statistics... 2 classes detected: {0: 167, 1: 67}\n",
      "Finding the 3 nearest neighbours...done!\n",
      "Creating synthetic samples...Generated 53 new samples ...\n",
      "done!\n",
      "Determining classes statistics... 2 classes detected: {0.0: 167, 1.0: 120}\n",
      "Under-sampling performed: Counter({0.0: 120, 1.0: 120})\n",
      "Determining classes statistics... 2 classes detected: {0: 167, 1: 67}\n",
      "Finding the 3 nearest neighbours...done!\n",
      "Creating synthetic samples...Generated 53 new samples ...\n",
      "done!\n",
      "Determining classes statistics... 2 classes detected: {0.0: 167, 1.0: 120}\n",
      "Under-sampling performed: Counter({0.0: 120, 1.0: 120})\n",
      "Determining classes statistics... 2 classes detected: {0: 167, 1: 67}\n",
      "Finding the 3 nearest neighbours...done!\n",
      "Creating synthetic samples...Generated 53 new samples ...\n",
      "done!\n",
      "Determining classes statistics... 2 classes detected: {0.0: 167, 1.0: 120}\n",
      "Under-sampling performed: Counter({0.0: 120, 1.0: 120})\n",
      "Determining classes statistics... 2 classes detected: {0: 167, 1: 67}\n",
      "Finding the 3 nearest neighbours...done!\n",
      "Creating synthetic samples...Generated 53 new samples ...\n",
      "done!\n",
      "Determining classes statistics... 2 classes detected: {0.0: 167, 1.0: 120}\n",
      "Under-sampling performed: Counter({0.0: 120, 1.0: 120})\n",
      "Determining classes statistics... 2 classes detected: {0: 167, 1: 67}\n",
      "Finding the 3 nearest neighbours...done!\n",
      "Creating synthetic samples...Generated 53 new samples ...\n",
      "done!\n",
      "Determining classes statistics... 2 classes detected: {0.0: 167, 1.0: 120}\n",
      "Under-sampling performed: Counter({0.0: 120, 1.0: 120})\n",
      "Determining classes statistics... 2 classes detected: {0: 167, 1: 67}\n",
      "Finding the 3 nearest neighbours...done!\n",
      "Creating synthetic samples...Generated 53 new samples ...\n",
      "done!\n",
      "Determining classes statistics... 2 classes detected: {0.0: 167, 1.0: 120}\n",
      "Under-sampling performed: Counter({0.0: 120, 1.0: 120})\n",
      "Determining classes statistics... 2 classes detected: {0: 167, 1: 67}\n",
      "Finding the 3 nearest neighbours...done!\n",
      "Creating synthetic samples...Generated 53 new samples ...\n",
      "done!\n",
      "Determining classes statistics... 2 classes detected: {0.0: 167, 1.0: 120}\n",
      "Under-sampling performed: Counter({0.0: 120, 1.0: 120})\n",
      "Determining classes statistics... 2 classes detected: {0: 167, 1: 67}\n",
      "Finding the 3 nearest neighbours...done!\n",
      "Creating synthetic samples...Generated 53 new samples ...\n",
      "done!\n",
      "Determining classes statistics... 2 classes detected: {0.0: 167, 1.0: 120}\n",
      "Under-sampling performed: Counter({0.0: 120, 1.0: 120})\n",
      "Determining classes statistics... 2 classes detected: {0: 167, 1: 67}\n",
      "Finding the 3 nearest neighbours...done!\n",
      "Creating synthetic samples...Generated 53 new samples ...\n",
      "done!\n",
      "Determining classes statistics... 2 classes detected: {0.0: 167, 1.0: 120}\n",
      "Under-sampling performed: Counter({0.0: 120, 1.0: 120})\n",
      "Determining classes statistics... 2 classes detected: {0: 167, 1: 67}\n",
      "Finding the 3 nearest neighbours...done!\n",
      "Creating synthetic samples...Generated 53 new samples ...\n",
      "done!\n",
      "Determining classes statistics... 2 classes detected: {0.0: 167, 1.0: 120}\n",
      "Under-sampling performed: Counter({0.0: 120, 1.0: 120})\n",
      "Determining classes statistics... 2 classes detected: {0: 167, 1: 67}\n",
      "Finding the 3 nearest neighbours...done!\n",
      "Creating synthetic samples...Generated 53 new samples ...\n",
      "done!\n",
      "Determining classes statistics... 2 classes detected: {0.0: 167, 1.0: 120}\n",
      "Under-sampling performed: Counter({0.0: 120, 1.0: 120})\n",
      "Determining classes statistics... 2 classes detected: {0: 167, 1: 67}\n",
      "Finding the 3 nearest neighbours...done!\n",
      "Creating synthetic samples...Generated 53 new samples ...\n",
      "done!\n",
      "Determining classes statistics... 2 classes detected: {0.0: 167, 1.0: 120}\n",
      "Under-sampling performed: Counter({0.0: 120, 1.0: 120})\n",
      "Determining classes statistics... 2 classes detected: {0: 167, 1: 67}\n",
      "Finding the 3 nearest neighbours...done!\n",
      "Creating synthetic samples...Generated 53 new samples ...\n",
      "done!\n",
      "Determining classes statistics... 2 classes detected: {0.0: 167, 1.0: 120}\n",
      "Under-sampling performed: Counter({0.0: 120, 1.0: 120})\n",
      "Determining classes statistics... 2 classes detected: {0: 167, 1: 67}\n",
      "Finding the 3 nearest neighbours...done!\n",
      "Creating synthetic samples...Generated 53 new samples ...\n",
      "done!\n",
      "Determining classes statistics... 2 classes detected: {0.0: 167, 1.0: 120}\n",
      "Under-sampling performed: Counter({0.0: 120, 1.0: 120})\n",
      "Determining classes statistics... 2 classes detected: {0: 167, 1: 67}\n",
      "Finding the 3 nearest neighbours...done!\n",
      "Creating synthetic samples...Generated 53 new samples ...\n",
      "done!\n",
      "Determining classes statistics... 2 classes detected: {0.0: 167, 1.0: 120}\n",
      "Under-sampling performed: Counter({0.0: 120, 1.0: 120})\n",
      "Determining classes statistics... 2 classes detected: {0: 167, 1: 67}\n",
      "Finding the 3 nearest neighbours...done!\n",
      "Creating synthetic samples...Generated 53 new samples ...\n",
      "done!\n",
      "Determining classes statistics... 2 classes detected: {0.0: 167, 1.0: 120}\n",
      "Under-sampling performed: Counter({0.0: 120, 1.0: 120})\n",
      "Determining classes statistics... 2 classes detected: {0: 167, 1: 67}\n",
      "Finding the 3 nearest neighbours...done!\n",
      "Creating synthetic samples...Generated 53 new samples ...\n",
      "done!\n",
      "Determining classes statistics... 2 classes detected: {0.0: 167, 1.0: 120}\n",
      "Under-sampling performed: Counter({0.0: 120, 1.0: 120})\n",
      "Determining classes statistics... 2 classes detected: {0: 167, 1: 67}\n",
      "Finding the 3 nearest neighbours...done!\n",
      "Creating synthetic samples...Generated 53 new samples ...\n",
      "done!\n",
      "Determining classes statistics... 2 classes detected: {0.0: 167, 1.0: 120}\n",
      "Under-sampling performed: Counter({0.0: 120, 1.0: 120})\n",
      "Determining classes statistics... 2 classes detected: {0: 167, 1: 67}\n",
      "Finding the 3 nearest neighbours...done!\n",
      "Creating synthetic samples...Generated 53 new samples ...\n",
      "done!\n",
      "Determining classes statistics... 2 classes detected: {0.0: 167, 1.0: 120}\n",
      "Under-sampling performed: Counter({0.0: 120, 1.0: 120})\n",
      "Determining classes statistics... 2 classes detected: {0: 167, 1: 67}\n",
      "Finding the 3 nearest neighbours...done!\n",
      "Creating synthetic samples...Generated 53 new samples ...\n",
      "done!\n",
      "Determining classes statistics... 2 classes detected: {0.0: 167, 1.0: 120}\n",
      "Under-sampling performed: Counter({0.0: 120, 1.0: 120})\n",
      "Determining classes statistics... 2 classes detected: {0: 167, 1: 67}\n",
      "Finding the 3 nearest neighbours...done!\n",
      "Creating synthetic samples...Generated 53 new samples ...\n",
      "done!\n",
      "Determining classes statistics... 2 classes detected: {0.0: 167, 1.0: 120}\n",
      "Under-sampling performed: Counter({0.0: 120, 1.0: 120})\n",
      "Determining classes statistics... 2 classes detected: {0: 167, 1: 67}\n",
      "Finding the 3 nearest neighbours...done!\n",
      "Creating synthetic samples...Generated 53 new samples ...\n",
      "done!\n",
      "Determining classes statistics... 2 classes detected: {0.0: 167, 1.0: 120}\n",
      "Under-sampling performed: Counter({0.0: 120, 1.0: 120})\n",
      "Determining classes statistics... 2 classes detected: {0: 167, 1: 67}\n",
      "Finding the 3 nearest neighbours...done!\n",
      "Creating synthetic samples...Generated 53 new samples ...\n",
      "done!\n",
      "Determining classes statistics... 2 classes detected: {0.0: 167, 1.0: 120}\n",
      "Under-sampling performed: Counter({0.0: 120, 1.0: 120})\n",
      "Determining classes statistics... 2 classes detected: {0: 167, 1: 67}\n",
      "Finding the 3 nearest neighbours...done!\n",
      "Creating synthetic samples...Generated 53 new samples ...\n",
      "done!\n",
      "Determining classes statistics... 2 classes detected: {0.0: 167, 1.0: 120}\n",
      "Under-sampling performed: Counter({0.0: 120, 1.0: 120})\n",
      "Determining classes statistics... 2 classes detected: {0: 167, 1: 67}\n",
      "Finding the 3 nearest neighbours...done!\n",
      "Creating synthetic samples...Generated 53 new samples ...\n",
      "done!\n",
      "Determining classes statistics... 2 classes detected: {0.0: 167, 1.0: 120}\n",
      "Under-sampling performed: Counter({0.0: 120, 1.0: 120})\n",
      "Determining classes statistics... 2 classes detected: {0: 167, 1: 67}\n",
      "Finding the 3 nearest neighbours...done!\n",
      "Creating synthetic samples...Generated 53 new samples ...\n",
      "done!\n",
      "Determining classes statistics... 2 classes detected: {0.0: 167, 1.0: 120}\n",
      "Under-sampling performed: Counter({0.0: 120, 1.0: 120})\n",
      "Determining classes statistics... 2 classes detected: {0: 167, 1: 67}\n",
      "Finding the 3 nearest neighbours...done!\n",
      "Creating synthetic samples...Generated 53 new samples ...\n",
      "done!\n",
      "Determining classes statistics... 2 classes detected: {0.0: 167, 1.0: 120}\n",
      "Under-sampling performed: Counter({0.0: 120, 1.0: 120})\n",
      "Determining classes statistics... 2 classes detected: {0: 167, 1: 67}\n",
      "Finding the 3 nearest neighbours...done!\n",
      "Creating synthetic samples...Generated 53 new samples ...\n",
      "done!\n",
      "Determining classes statistics... 2 classes detected: {0.0: 167, 1.0: 120}\n",
      "Under-sampling performed: Counter({0.0: 120, 1.0: 120})\n"
     ]
    }
   ],
   "source": [
    "smote_params = {'kind': 'regular', 'k':3, 'ratio': 0.8, 'verbose': 1}\n",
    "splitter = pipeline.SMOTESplitter(test_size=0.2, under_sample=1.0, smote_params=smote_params)\n",
    "smote_scorers = pipeline.monte_carlo_validation(Xp, Yp, models, splitter, n=50)"
   ]
  },
  {
   "cell_type": "code",
   "execution_count": 3492,
   "metadata": {
    "collapsed": false
   },
   "outputs": [
    {
     "data": {
      "image/png": "[encoded data removed]",
      "text/plain": [
       "<matplotlib.figure.Figure at 0x173500a50>"
      ]
     },
     "metadata": {},
     "output_type": "display_data"
    }
   ],
   "source": [
    "for key, scorer in smote_scorers.iteritems():\n",
    "    scorer.plot_roc_curve(mean_label=key, mean_line=True, show_all=False)\n",
    "    \n",
    "plt.plot(np.arange(0,1.1, 0.1), np.arange(0,1.1, 0.1), '--')\n",
    "plt.savefig(\"img/roc_smote.png\")"
   ]
  },
  {
   "cell_type": "code",
   "execution_count": 3493,
   "metadata": {
    "collapsed": false,
    "scrolled": true
   },
   "outputs": [
    {
     "name": "stdout",
     "output_type": "stream",
     "text": [
      "\\begin{tabular}{lrrrr}\n",
      "\\toprule\n",
      "{} &  RandomForest &  ExtraTrees &  GradientBoost &  AdaBoost \\\\\n",
      "\\midrule\n",
      "F1   &      0.608050 &    0.607756 &       0.613770 &  0.606394 \\\\\n",
      "F2   &      0.630137 &    0.644210 &       0.640147 &  0.642141 \\\\\n",
      "F0.5 &      0.592520 &    0.578812 &       0.594403 &  0.578318 \\\\\n",
      "\\bottomrule\n",
      "\\end{tabular}\n",
      "\n"
     ]
    },
    {
     "data": {
      "text/html": [
       "<div>\n",
       "<table border=\"1\" class=\"dataframe\">\n",
       "  <thead>\n",
       "    <tr style=\"text-align: right;\">\n",
       "      <th></th>\n",
       "      <th>RandomForest</th>\n",
       "      <th>ExtraTrees</th>\n",
       "      <th>GradientBoost</th>\n",
       "      <th>AdaBoost</th>\n",
       "    </tr>\n",
       "  </thead>\n",
       "  <tbody>\n",
       "    <tr>\n",
       "      <th>F1</th>\n",
       "      <td>0.608050</td>\n",
       "      <td>0.607756</td>\n",
       "      <td>0.613770</td>\n",
       "      <td>0.606394</td>\n",
       "    </tr>\n",
       "    <tr>\n",
       "      <th>F2</th>\n",
       "      <td>0.630137</td>\n",
       "      <td>0.644210</td>\n",
       "      <td>0.640147</td>\n",
       "      <td>0.642141</td>\n",
       "    </tr>\n",
       "    <tr>\n",
       "      <th>F0.5</th>\n",
       "      <td>0.592520</td>\n",
       "      <td>0.578812</td>\n",
       "      <td>0.594403</td>\n",
       "      <td>0.578318</td>\n",
       "    </tr>\n",
       "  </tbody>\n",
       "</table>\n",
       "</div>"
      ],
      "text/plain": [
       "      RandomForest  ExtraTrees  GradientBoost  AdaBoost\n",
       "F1        0.608050    0.607756       0.613770  0.606394\n",
       "F2        0.630137    0.644210       0.640147  0.642141\n",
       "F0.5      0.592520    0.578812       0.594403  0.578318"
      ]
     },
     "execution_count": 3493,
     "metadata": {},
     "output_type": "execute_result"
    }
   ],
   "source": [
    "smote_f_scores = f_score_summary(smote_scorers)\n",
    "print smote_f_scores.to_latex()\n",
    "smote_f_scores"
   ]
  },
  {
   "cell_type": "markdown",
   "metadata": {},
   "source": [
    "## Predicton on Test Set\n",
    "\n",
    "Finally, based on the best combination of techniques used in the preceeding sections, and using the classifier with the best AUC performance, make probalistic predictions based on the unlabelled test data."
   ]
  }
 ],
 "metadata": {
  "kernelspec": {
   "display_name": "Python 2",
   "language": "python",
   "name": "python2"
  },
  "language_info": {
   "codemirror_mode": {
    "name": "ipython",
    "version": 2
   },
   "file_extension": ".py",
   "mimetype": "text/x-python",
   "name": "python",
   "nbconvert_exporter": "python",
   "pygments_lexer": "ipython2",
   "version": "2.7.10"
  }
 },
 "nbformat": 4,
 "nbformat_minor": 0
}
