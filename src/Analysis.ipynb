{
 "cells": [
  {
   "cell_type": "code",
   "execution_count": 466,
   "metadata": {
    "collapsed": false
   },
   "outputs": [],
   "source": [
    "%matplotlib inline\n",
    "import pandas as pd\n",
    "import numpy as np\n",
    "import matplotlib.pyplot as plt"
   ]
  },
  {
   "cell_type": "code",
   "execution_count": 1181,
   "metadata": {
    "collapsed": true
   },
   "outputs": [],
   "source": [
    "df = pd.DataFrame.from_csv(\"../data/train_risk.csv\", index_col=False)\n",
    "test = pd.DataFrame.from_csv(\"../data/test_risk.csv\", index_col=False)"
   ]
  },
  {
   "cell_type": "code",
   "execution_count": 1182,
   "metadata": {
    "collapsed": true
   },
   "outputs": [],
   "source": [
    "X, y = df[df.columns[:-1]], df[df.columns[-1]]"
   ]
  },
  {
   "cell_type": "markdown",
   "metadata": {},
   "source": [
    "## Analysing the Data\n",
    "\n",
    "Looking at the difference between the number of positive and negative samples in the dataset shows that there are more negative examples than positive examples. Only 28% of all samples are of the positive class."
   ]
  },
  {
   "cell_type": "code",
   "execution_count": 428,
   "metadata": {
    "collapsed": false
   },
   "outputs": [
    {
     "name": "stdout",
     "output_type": "stream",
     "text": [
      "Total number of samples: 300\n",
      "Number of positive samples: 84\n",
      "Number of negative samples: 216\n",
      "Ratio of positive to total number of samples: 0.28\n"
     ]
    }
   ],
   "source": [
    "def class_balance_summary(y):\n",
    "    \"\"\" Summarise the imbalance in the dataset\"\"\"\n",
    "    total_size = y.size\n",
    "    negative_class = y[y == 0].size\n",
    "    positive_class = y[y > 0].size\n",
    "    ratio = positive_class / float(positive_class + negative_class)\n",
    "\n",
    "    print \"Total number of samples: %d\" % total_size\n",
    "    print \"Number of positive samples: %d\" % positive_class\n",
    "    print \"Number of negative samples: %d\" % negative_class\n",
    "    print \"Ratio of positive to total number of samples: %.2f\" % ratio\n",
    "\n",
    "\n",
    "class_balance_summary(y)"
   ]
  },
  {
   "cell_type": "markdown",
   "metadata": {},
   "source": [
    "Some initial observations about the data before it is preprocessed:\n",
    " - PRE32 is all zeros. This can be removed\n",
    " - PRE14 looks catagorical. Consider splitting into multiple binary variables\n",
    " - PRE6 looks catagorical. As above.\n",
    " - DGN looks catagorical. As above.\n",
    " - PRE5 looks to have some outliers. See box plot below. Potentially remove or split into two extra variable?"
   ]
  },
  {
   "cell_type": "code",
   "execution_count": 832,
   "metadata": {
    "collapsed": false,
    "scrolled": false
   },
   "outputs": [
    {
     "data": {
      "text/html": [
       "<div>\n",
       "<table border=\"1\" class=\"dataframe\">\n",
       "  <thead>\n",
       "    <tr style=\"text-align: right;\">\n",
       "      <th></th>\n",
       "      <th>DGN</th>\n",
       "      <th>PRE4</th>\n",
       "      <th>PRE5</th>\n",
       "      <th>PRE6</th>\n",
       "      <th>PRE7</th>\n",
       "      <th>PRE8</th>\n",
       "      <th>PRE9</th>\n",
       "      <th>PRE10</th>\n",
       "      <th>PRE11</th>\n",
       "      <th>PRE14</th>\n",
       "      <th>PRE17</th>\n",
       "      <th>PRE19</th>\n",
       "      <th>PRE25</th>\n",
       "      <th>PRE30</th>\n",
       "      <th>PRE32</th>\n",
       "      <th>AGE</th>\n",
       "    </tr>\n",
       "  </thead>\n",
       "  <tbody>\n",
       "    <tr>\n",
       "      <th>0</th>\n",
       "      <td>3</td>\n",
       "      <td>2.08</td>\n",
       "      <td>1.52</td>\n",
       "      <td>1</td>\n",
       "      <td>0</td>\n",
       "      <td>0</td>\n",
       "      <td>0</td>\n",
       "      <td>1</td>\n",
       "      <td>0</td>\n",
       "      <td>4</td>\n",
       "      <td>0</td>\n",
       "      <td>0</td>\n",
       "      <td>0</td>\n",
       "      <td>1</td>\n",
       "      <td>0</td>\n",
       "      <td>49</td>\n",
       "    </tr>\n",
       "    <tr>\n",
       "      <th>1</th>\n",
       "      <td>3</td>\n",
       "      <td>4.36</td>\n",
       "      <td>3.76</td>\n",
       "      <td>0</td>\n",
       "      <td>0</td>\n",
       "      <td>0</td>\n",
       "      <td>0</td>\n",
       "      <td>0</td>\n",
       "      <td>0</td>\n",
       "      <td>1</td>\n",
       "      <td>0</td>\n",
       "      <td>0</td>\n",
       "      <td>0</td>\n",
       "      <td>1</td>\n",
       "      <td>0</td>\n",
       "      <td>72</td>\n",
       "    </tr>\n",
       "    <tr>\n",
       "      <th>2</th>\n",
       "      <td>3</td>\n",
       "      <td>3.52</td>\n",
       "      <td>2.28</td>\n",
       "      <td>0</td>\n",
       "      <td>0</td>\n",
       "      <td>0</td>\n",
       "      <td>0</td>\n",
       "      <td>0</td>\n",
       "      <td>0</td>\n",
       "      <td>3</td>\n",
       "      <td>0</td>\n",
       "      <td>0</td>\n",
       "      <td>0</td>\n",
       "      <td>1</td>\n",
       "      <td>0</td>\n",
       "      <td>51</td>\n",
       "    </tr>\n",
       "    <tr>\n",
       "      <th>3</th>\n",
       "      <td>3</td>\n",
       "      <td>3.36</td>\n",
       "      <td>2.67</td>\n",
       "      <td>1</td>\n",
       "      <td>0</td>\n",
       "      <td>0</td>\n",
       "      <td>0</td>\n",
       "      <td>1</td>\n",
       "      <td>0</td>\n",
       "      <td>1</td>\n",
       "      <td>0</td>\n",
       "      <td>0</td>\n",
       "      <td>0</td>\n",
       "      <td>1</td>\n",
       "      <td>0</td>\n",
       "      <td>72</td>\n",
       "    </tr>\n",
       "    <tr>\n",
       "      <th>4</th>\n",
       "      <td>3</td>\n",
       "      <td>3.56</td>\n",
       "      <td>2.80</td>\n",
       "      <td>0</td>\n",
       "      <td>0</td>\n",
       "      <td>0</td>\n",
       "      <td>0</td>\n",
       "      <td>0</td>\n",
       "      <td>0</td>\n",
       "      <td>2</td>\n",
       "      <td>0</td>\n",
       "      <td>0</td>\n",
       "      <td>0</td>\n",
       "      <td>0</td>\n",
       "      <td>0</td>\n",
       "      <td>69</td>\n",
       "    </tr>\n",
       "  </tbody>\n",
       "</table>\n",
       "</div>"
      ],
      "text/plain": [
       "   DGN  PRE4  PRE5  PRE6  PRE7  PRE8  PRE9  PRE10  PRE11  PRE14  PRE17  PRE19  \\\n",
       "0    3  2.08  1.52     1     0     0     0      1      0      4      0      0   \n",
       "1    3  4.36  3.76     0     0     0     0      0      0      1      0      0   \n",
       "2    3  3.52  2.28     0     0     0     0      0      0      3      0      0   \n",
       "3    3  3.36  2.67     1     0     0     0      1      0      1      0      0   \n",
       "4    3  3.56  2.80     0     0     0     0      0      0      2      0      0   \n",
       "\n",
       "   PRE25  PRE30  PRE32  AGE  \n",
       "0      0      1      0   49  \n",
       "1      0      1      0   72  \n",
       "2      0      1      0   51  \n",
       "3      0      1      0   72  \n",
       "4      0      0      0   69  "
      ]
     },
     "execution_count": 832,
     "metadata": {},
     "output_type": "execute_result"
    }
   ],
   "source": [
    "X.head()"
   ]
  },
  {
   "cell_type": "code",
   "execution_count": 21,
   "metadata": {
    "collapsed": false,
    "scrolled": true
   },
   "outputs": [
    {
     "data": {
      "text/plain": [
       "<matplotlib.axes._subplots.AxesSubplot at 0x10d867d50>"
      ]
     },
     "execution_count": 21,
     "metadata": {},
     "output_type": "execute_result"
    },
    {
     "data": {
      "image/png": "[encoded data removed]",
      "text/plain": [
       "<matplotlib.figure.Figure at 0x10d90bfd0>"
      ]
     },
     "metadata": {},
     "output_type": "display_data"
    }
   ],
   "source": [
    "X.PRE5.plot(kind='box')"
   ]
  },
  {
   "cell_type": "markdown",
   "metadata": {},
   "source": [
    "## Preprocessing\n",
    "\n",
    "Create a new matrix of preprocessed features. This will encode catagorical data as one hot vectors, remove outliers, and normalise the data.  "
   ]
  },
  {
   "cell_type": "code",
   "execution_count": 1184,
   "metadata": {
    "collapsed": false,
    "scrolled": true
   },
   "outputs": [
    {
     "data": {
      "text/html": [
       "<div>\n",
       "<table border=\"1\" class=\"dataframe\">\n",
       "  <thead>\n",
       "    <tr style=\"text-align: right;\">\n",
       "      <th></th>\n",
       "      <th>PRE4</th>\n",
       "      <th>PRE5</th>\n",
       "      <th>PRE7</th>\n",
       "      <th>PRE8</th>\n",
       "      <th>PRE9</th>\n",
       "      <th>PRE10</th>\n",
       "      <th>PRE11</th>\n",
       "      <th>PRE17</th>\n",
       "      <th>PRE19</th>\n",
       "      <th>PRE25</th>\n",
       "      <th>...</th>\n",
       "      <th>PRE6_0</th>\n",
       "      <th>PRE6_1</th>\n",
       "      <th>PRE6_2</th>\n",
       "      <th>DGN_1</th>\n",
       "      <th>DGN_2</th>\n",
       "      <th>DGN_3</th>\n",
       "      <th>DGN_4</th>\n",
       "      <th>DGN_5</th>\n",
       "      <th>DGN_6</th>\n",
       "      <th>DGN_8</th>\n",
       "    </tr>\n",
       "  </thead>\n",
       "  <tbody>\n",
       "    <tr>\n",
       "      <th>0</th>\n",
       "      <td>2.08</td>\n",
       "      <td>1.52</td>\n",
       "      <td>0</td>\n",
       "      <td>0</td>\n",
       "      <td>0</td>\n",
       "      <td>1</td>\n",
       "      <td>0</td>\n",
       "      <td>0</td>\n",
       "      <td>0</td>\n",
       "      <td>0</td>\n",
       "      <td>...</td>\n",
       "      <td>0.0</td>\n",
       "      <td>1.0</td>\n",
       "      <td>0.0</td>\n",
       "      <td>0.0</td>\n",
       "      <td>0.0</td>\n",
       "      <td>1.0</td>\n",
       "      <td>0.0</td>\n",
       "      <td>0.0</td>\n",
       "      <td>0.0</td>\n",
       "      <td>0.0</td>\n",
       "    </tr>\n",
       "    <tr>\n",
       "      <th>1</th>\n",
       "      <td>4.36</td>\n",
       "      <td>3.76</td>\n",
       "      <td>0</td>\n",
       "      <td>0</td>\n",
       "      <td>0</td>\n",
       "      <td>0</td>\n",
       "      <td>0</td>\n",
       "      <td>0</td>\n",
       "      <td>0</td>\n",
       "      <td>0</td>\n",
       "      <td>...</td>\n",
       "      <td>1.0</td>\n",
       "      <td>0.0</td>\n",
       "      <td>0.0</td>\n",
       "      <td>0.0</td>\n",
       "      <td>0.0</td>\n",
       "      <td>1.0</td>\n",
       "      <td>0.0</td>\n",
       "      <td>0.0</td>\n",
       "      <td>0.0</td>\n",
       "      <td>0.0</td>\n",
       "    </tr>\n",
       "    <tr>\n",
       "      <th>2</th>\n",
       "      <td>3.52</td>\n",
       "      <td>2.28</td>\n",
       "      <td>0</td>\n",
       "      <td>0</td>\n",
       "      <td>0</td>\n",
       "      <td>0</td>\n",
       "      <td>0</td>\n",
       "      <td>0</td>\n",
       "      <td>0</td>\n",
       "      <td>0</td>\n",
       "      <td>...</td>\n",
       "      <td>1.0</td>\n",
       "      <td>0.0</td>\n",
       "      <td>0.0</td>\n",
       "      <td>0.0</td>\n",
       "      <td>0.0</td>\n",
       "      <td>1.0</td>\n",
       "      <td>0.0</td>\n",
       "      <td>0.0</td>\n",
       "      <td>0.0</td>\n",
       "      <td>0.0</td>\n",
       "    </tr>\n",
       "    <tr>\n",
       "      <th>3</th>\n",
       "      <td>3.36</td>\n",
       "      <td>2.67</td>\n",
       "      <td>0</td>\n",
       "      <td>0</td>\n",
       "      <td>0</td>\n",
       "      <td>1</td>\n",
       "      <td>0</td>\n",
       "      <td>0</td>\n",
       "      <td>0</td>\n",
       "      <td>0</td>\n",
       "      <td>...</td>\n",
       "      <td>0.0</td>\n",
       "      <td>1.0</td>\n",
       "      <td>0.0</td>\n",
       "      <td>0.0</td>\n",
       "      <td>0.0</td>\n",
       "      <td>1.0</td>\n",
       "      <td>0.0</td>\n",
       "      <td>0.0</td>\n",
       "      <td>0.0</td>\n",
       "      <td>0.0</td>\n",
       "    </tr>\n",
       "    <tr>\n",
       "      <th>4</th>\n",
       "      <td>3.56</td>\n",
       "      <td>2.80</td>\n",
       "      <td>0</td>\n",
       "      <td>0</td>\n",
       "      <td>0</td>\n",
       "      <td>0</td>\n",
       "      <td>0</td>\n",
       "      <td>0</td>\n",
       "      <td>0</td>\n",
       "      <td>0</td>\n",
       "      <td>...</td>\n",
       "      <td>1.0</td>\n",
       "      <td>0.0</td>\n",
       "      <td>0.0</td>\n",
       "      <td>0.0</td>\n",
       "      <td>0.0</td>\n",
       "      <td>1.0</td>\n",
       "      <td>0.0</td>\n",
       "      <td>0.0</td>\n",
       "      <td>0.0</td>\n",
       "      <td>0.0</td>\n",
       "    </tr>\n",
       "  </tbody>\n",
       "</table>\n",
       "<p>5 rows × 26 columns</p>\n",
       "</div>"
      ],
      "text/plain": [
       "   PRE4  PRE5  PRE7  PRE8  PRE9  PRE10  PRE11  PRE17  PRE19  PRE25  ...    \\\n",
       "0  2.08  1.52     0     0     0      1      0      0      0      0  ...     \n",
       "1  4.36  3.76     0     0     0      0      0      0      0      0  ...     \n",
       "2  3.52  2.28     0     0     0      0      0      0      0      0  ...     \n",
       "3  3.36  2.67     0     0     0      1      0      0      0      0  ...     \n",
       "4  3.56  2.80     0     0     0      0      0      0      0      0  ...     \n",
       "\n",
       "   PRE6_0  PRE6_1  PRE6_2  DGN_1  DGN_2  DGN_3  DGN_4  DGN_5  DGN_6  DGN_8  \n",
       "0     0.0     1.0     0.0    0.0    0.0    1.0    0.0    0.0    0.0    0.0  \n",
       "1     1.0     0.0     0.0    0.0    0.0    1.0    0.0    0.0    0.0    0.0  \n",
       "2     1.0     0.0     0.0    0.0    0.0    1.0    0.0    0.0    0.0    0.0  \n",
       "3     0.0     1.0     0.0    0.0    0.0    1.0    0.0    0.0    0.0    0.0  \n",
       "4     1.0     0.0     0.0    0.0    0.0    1.0    0.0    0.0    0.0    0.0  \n",
       "\n",
       "[5 rows x 26 columns]"
      ]
     },
     "execution_count": 1184,
     "metadata": {},
     "output_type": "execute_result"
    }
   ],
   "source": [
    "from sklearn import preprocessing\n",
    "\n",
    "def encode_onehot(x_data, column_name):\n",
    "    \"\"\" Encode a catagorical column from a data frame into a data frame of one hot features\"\"\"\n",
    "    enc = preprocessing.OneHotEncoder()\n",
    "    features = enc.fit_transform(x_data[[column_name]]).toarray()\n",
    "    names = ['%s_%d' % (column_name, i) for i in enc.active_features_]\n",
    "    features = pd.DataFrame(features, columns=names, index=x_data.index)\n",
    "    return features\n",
    "\n",
    "def preprocess(x_data, y_data):\n",
    "    # drop zero var PRE32\n",
    "    Xp = x_data.drop(\"PRE32\", axis=1)\n",
    "\n",
    "    # remove outliers via median fill\n",
    "    mask = Xp.PRE5 > 30  \n",
    "    Xp.PRE5.loc[mask] = Xp.PRE5.median() \n",
    "    Yp = y_data.copy()\n",
    "    \n",
    "    # encode catagorical data as one hot vectors\n",
    "    pre14_encoded = encode_onehot(Xp, 'PRE14')\n",
    "    pre6_encoded = encode_onehot(Xp, 'PRE6')\n",
    "    dgn_encoded = encode_onehot(Xp, 'DGN')\n",
    "\n",
    "    #combine into a single data frame\n",
    "    new_features = pd.concat([pre14_encoded, pre6_encoded, dgn_encoded], axis=1)\n",
    "\n",
    "    # drop the catagorical variables that have been encoded\n",
    "    Xp.drop([\"PRE14\", \"PRE6\", \"DGN\"], inplace=True, axis=1)\n",
    "    # add new features\n",
    "    Xp = pd.concat([Xp, new_features], axis=1)\n",
    "\n",
    "    return Xp, Yp\n",
    "\n",
    "Xp, Yp = preprocess(X, y)\n",
    "Xp.head()"
   ]
  },
  {
   "cell_type": "code",
   "execution_count": 930,
   "metadata": {
    "collapsed": false
   },
   "outputs": [
    {
     "data": {
      "text/plain": [
       "array([[<matplotlib.axes._subplots.AxesSubplot object at 0x13e5a54d0>,\n",
       "        <matplotlib.axes._subplots.AxesSubplot object at 0x13f13b210>,\n",
       "        <matplotlib.axes._subplots.AxesSubplot object at 0x13f19ea50>],\n",
       "       [<matplotlib.axes._subplots.AxesSubplot object at 0x13e362710>,\n",
       "        <matplotlib.axes._subplots.AxesSubplot object at 0x13e356ed0>,\n",
       "        <matplotlib.axes._subplots.AxesSubplot object at 0x13dcc05d0>],\n",
       "       [<matplotlib.axes._subplots.AxesSubplot object at 0x13f0b0290>,\n",
       "        <matplotlib.axes._subplots.AxesSubplot object at 0x13efe5450>,\n",
       "        <matplotlib.axes._subplots.AxesSubplot object at 0x13e2f38d0>]], dtype=object)"
      ]
     },
     "execution_count": 930,
     "metadata": {},
     "output_type": "execute_result"
    },
    {
     "data": {
      "image/png": "[encoded data removed]",
      "text/plain": [
       "<matplotlib.figure.Figure at 0x13f1d47d0>"
      ]
     },
     "metadata": {},
     "output_type": "display_data"
    }
   ],
   "source": [
    "pd.tools.plotting.scatter_matrix(Xp[['PRE4', 'PRE5', 'AGE']], c=Yp)"
   ]
  },
  {
   "cell_type": "markdown",
   "metadata": {},
   "source": [
    "## Learning\n",
    "\n",
    "We do not have access to the labels for the final testing dataset. First split the training data into a training and validation set so we have something seperate to test on. Here we're using a  simple 80/20 split. Therefore the validation set contains 60 examples."
   ]
  },
  {
   "cell_type": "code",
   "execution_count": 1416,
   "metadata": {
    "collapsed": false
   },
   "outputs": [
    {
     "name": "stdout",
     "output_type": "stream",
     "text": [
      "(307, 26)\n",
      "Determining classes statistics... 2 classes detected: {0.0: 173, 1.0: 134}\n",
      "Under-sampling performed: Counter({0.0: 173, 1.0: 134})\n",
      "(307, 26)\n",
      "Total number of samples: 240\n",
      "Number of positive samples: 67\n",
      "Number of negative samples: 173\n",
      "Ratio of positive to total number of samples: 0.28\n"
     ]
    }
   ],
   "source": [
    "from sklearn import cross_validation\n",
    "from unbalanced_dataset import SMOTE, UnderSampler\n",
    "from unbalanced_dataset.pipeline import Pipeline\n",
    "\n",
    "def apply_smote(x_data, y_data, kind='regular'):\n",
    "    sm = SMOTE(kind=kind, verbose=2)\n",
    "    svmx, svmy = sm.fit_transform(x_data.as_matrix(), y_data.as_matrix())\n",
    "    svmx = pd.DataFrame(svmx, columns=x_data.columns)\n",
    "    svmy = pd.Series(svmy)\n",
    "    svmy = svmy.astype(int)\n",
    "    return svmx, svmy\n",
    "\n",
    "\n",
    "Xt, Xv = cross_validation.train_test_split(Xp, test_size = 0.2, stratify=Yp)\n",
    "Yt, Yv = Yp.loc[Xt.index], Yp.loc[Xv.index]\n",
    "\n",
    "pip = Pipeline(Xt.as_matrix(), Yt.as_matrix())\n",
    "Xt_smote, Yt_smote = pip.pipeline([SMOTE(kind='regular'), UnderSampler(ratio = 2)])\n",
    "\n",
    "# Xt_smote, Yt_smote = apply_smote(Xt, Yt)\n",
    "\n",
    "class_balance_summary(Yt)\n",
    "# class_balance_summary(Yv)"
   ]
  },
  {
   "cell_type": "markdown",
   "metadata": {},
   "source": [
    "## Cross Validation and ROC Analysis"
   ]
  },
  {
   "cell_type": "code",
   "execution_count": 1417,
   "metadata": {
    "collapsed": false
   },
   "outputs": [
    {
     "data": {
      "image/png": "[encoded data removed]",
      "text/plain": [
       "<matplotlib.figure.Figure at 0x1457afa10>"
      ]
     },
     "metadata": {},
     "output_type": "display_data"
    }
   ],
   "source": [
    "from sklearn.pipeline import Pipeline\n",
    "from roc_analysis import ROCAnalysisScorer\n",
    "reload(roc_analysis)\n",
    "\n",
    "gb = GradientBoostingClassifier(n_estimators=100, learning_rate=0.01, max_depth=12, subsample=0.8, min_samples_split=1)\n",
    "rf = RandomForestClassifier(n_estimators=700, max_features=5)\n",
    "\n",
    "gb_pipe = Pipeline([('scaler', scaler), ('GradientBoost', gb)])\n",
    "rf_pipe = Pipeline([('scaler', scaler), ('RandomForest', rf)])\n",
    "\n",
    "models = [\n",
    "    {'name': 'GradientBoost', 'train_data': (Xt, Yt), 'test_data': (Xv, Yv), 'model': gb_pipe},\n",
    "    {'name': 'RandomForest', 'train_data': (Xt, Yt), 'test_data': (Xv, Yv), 'model': rf_pipe},\n",
    "    {'name': 'RandomForestSMOTE', 'train_data': (Xt_smote, Yt_smote), 'test_data': (Xv, Yv), 'model': rf_pipe}\n",
    "]\n",
    "\n",
    "def cv_pipeline(model, x_data, y_data, cv=None):\n",
    "    roc_data = ROCAnalysisScorer()\n",
    "    roc_data_scorer = make_scorer(roc_data, greater_is_better=True, needs_proba=True, average='weighted')\n",
    "    cross_validation.cross_val_score(model, x_data, y_data, cv=cv, scoring=roc_data_scorer)\n",
    "    return roc_data\n",
    "\n",
    "def test_pipeline(model, x_data, y_data, x_test, y_test):\n",
    "    model.fit(x_data, y_data)\n",
    "    y_hat = model.predict_proba(x_test)\n",
    "\n",
    "    test_result = ROCAnalysisScorer()\n",
    "    test_result.auc_score(y_test, y_hat)\n",
    "    return test_result\n",
    "        \n",
    "def score_pipelines(models, cv=None):\n",
    "    results = {}\n",
    "    for data in models:\n",
    "        name = data['name']\n",
    "        model = data['model']\n",
    "        \n",
    "        x_data, y_data = data['train_data']\n",
    "        x_test, y_test = data['test_data']\n",
    "        cv_results = cv_pipeline(model, x_data, y_data)\n",
    "\n",
    "        test_results = test_pipeline(model, x_data, y_data, x_test, y_test)\n",
    "        results[name] = (cv_results, test_results)\n",
    "    return results\n",
    "\n",
    "results = score_pipelines(models, cv=skf)\n",
    "\n",
    "results['RandomForest'][1].plot_roc_curve(labels='RF;')\n",
    "results['RandomForestSMOTE'][1].plot_roc_curve(labels='RF SMOTE;')\n",
    "results['GradientBoost'][1].plot_roc_curve(labels='GradientBoost;', chance_line=True)"
   ]
  }
 ],
 "metadata": {
  "kernelspec": {
   "display_name": "Python 2",
   "language": "python",
   "name": "python2"
  },
  "language_info": {
   "codemirror_mode": {
    "name": "ipython",
    "version": 2
   },
   "file_extension": ".py",
   "mimetype": "text/x-python",
   "name": "python",
   "nbconvert_exporter": "python",
   "pygments_lexer": "ipython2",
   "version": "2.7.10"
  }
 },
 "nbformat": 4,
 "nbformat_minor": 0
}
