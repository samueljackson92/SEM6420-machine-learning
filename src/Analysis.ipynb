{
 "cells": [
  {
   "cell_type": "code",
   "execution_count": 1536,
   "metadata": {
    "collapsed": false
   },
   "outputs": [],
   "source": [
    "%matplotlib inline\n",
    "import pandas as pd\n",
    "import numpy as np\n",
    "import matplotlib.pyplot as plt"
   ]
  },
  {
   "cell_type": "markdown",
   "metadata": {},
   "source": [
    "### Loading the Datasets"
   ]
  },
  {
   "cell_type": "code",
   "execution_count": 2556,
   "metadata": {
    "collapsed": true
   },
   "outputs": [],
   "source": [
    "df = pd.DataFrame.from_csv(\"../data/train_risk.csv\", index_col=False)\n",
    "test = pd.DataFrame.from_csv(\"../data/test_risk.csv\", index_col=False)\n",
    "X, y = df[df.columns[:-1]], df[df.columns[-1]]"
   ]
  },
  {
   "cell_type": "markdown",
   "metadata": {},
   "source": [
    "## Analysing the Data\n",
    "\n",
    "Looking at the difference between the number of positive and negative samples in the dataset shows that there are more negative examples than positive examples. Only 28% of all samples are of the positive class."
   ]
  },
  {
   "cell_type": "code",
   "execution_count": 428,
   "metadata": {
    "collapsed": false
   },
   "outputs": [
    {
     "name": "stdout",
     "output_type": "stream",
     "text": [
      "Total number of samples: 300\n",
      "Number of positive samples: 84\n",
      "Number of negative samples: 216\n",
      "Ratio of positive to total number of samples: 0.28\n"
     ]
    }
   ],
   "source": [
    "def class_balance_summary(y):\n",
    "    \"\"\" Summarise the imbalance in the dataset\"\"\"\n",
    "    total_size = y.size\n",
    "    negative_class = y[y == 0].size\n",
    "    positive_class = y[y > 0].size\n",
    "    ratio = positive_class / float(positive_class + negative_class)\n",
    "\n",
    "    print \"Total number of samples: %d\" % total_size\n",
    "    print \"Number of positive samples: %d\" % positive_class\n",
    "    print \"Number of negative samples: %d\" % negative_class\n",
    "    print \"Ratio of positive to total number of samples: %.2f\" % ratio\n",
    "\n",
    "\n",
    "class_balance_summary(y)"
   ]
  },
  {
   "cell_type": "markdown",
   "metadata": {},
   "source": [
    "Some initial observations about the data before it is preprocessed:\n",
    " - PRE32 is all zeros. This can be removed\n",
    " - PRE14 looks catagorical. Should be split into multiple binary variables\n",
    " - DGN looks catagorical. As above.\n",
    " - PRE5 looks to have some outliers. See box plot below. Potentially remove or split into two extra variable?"
   ]
  },
  {
   "cell_type": "code",
   "execution_count": 2391,
   "metadata": {
    "collapsed": false,
    "scrolled": false
   },
   "outputs": [
    {
     "data": {
      "text/html": [
       "<div>\n",
       "<table border=\"1\" class=\"dataframe\">\n",
       "  <thead>\n",
       "    <tr style=\"text-align: right;\">\n",
       "      <th></th>\n",
       "      <th>DGN</th>\n",
       "      <th>PRE4</th>\n",
       "      <th>PRE5</th>\n",
       "      <th>PRE6</th>\n",
       "      <th>PRE7</th>\n",
       "      <th>PRE8</th>\n",
       "      <th>PRE9</th>\n",
       "      <th>PRE10</th>\n",
       "      <th>PRE11</th>\n",
       "      <th>PRE14</th>\n",
       "      <th>PRE17</th>\n",
       "      <th>PRE19</th>\n",
       "      <th>PRE25</th>\n",
       "      <th>PRE30</th>\n",
       "      <th>PRE32</th>\n",
       "      <th>AGE</th>\n",
       "    </tr>\n",
       "  </thead>\n",
       "  <tbody>\n",
       "    <tr>\n",
       "      <th>0</th>\n",
       "      <td>3</td>\n",
       "      <td>2.08</td>\n",
       "      <td>1.52</td>\n",
       "      <td>1</td>\n",
       "      <td>0</td>\n",
       "      <td>0</td>\n",
       "      <td>0</td>\n",
       "      <td>1</td>\n",
       "      <td>0</td>\n",
       "      <td>4</td>\n",
       "      <td>0</td>\n",
       "      <td>0</td>\n",
       "      <td>0</td>\n",
       "      <td>1</td>\n",
       "      <td>0</td>\n",
       "      <td>49</td>\n",
       "    </tr>\n",
       "    <tr>\n",
       "      <th>1</th>\n",
       "      <td>3</td>\n",
       "      <td>4.36</td>\n",
       "      <td>3.76</td>\n",
       "      <td>0</td>\n",
       "      <td>0</td>\n",
       "      <td>0</td>\n",
       "      <td>0</td>\n",
       "      <td>0</td>\n",
       "      <td>0</td>\n",
       "      <td>1</td>\n",
       "      <td>0</td>\n",
       "      <td>0</td>\n",
       "      <td>0</td>\n",
       "      <td>1</td>\n",
       "      <td>0</td>\n",
       "      <td>72</td>\n",
       "    </tr>\n",
       "    <tr>\n",
       "      <th>2</th>\n",
       "      <td>3</td>\n",
       "      <td>3.52</td>\n",
       "      <td>2.28</td>\n",
       "      <td>0</td>\n",
       "      <td>0</td>\n",
       "      <td>0</td>\n",
       "      <td>0</td>\n",
       "      <td>0</td>\n",
       "      <td>0</td>\n",
       "      <td>3</td>\n",
       "      <td>0</td>\n",
       "      <td>0</td>\n",
       "      <td>0</td>\n",
       "      <td>1</td>\n",
       "      <td>0</td>\n",
       "      <td>51</td>\n",
       "    </tr>\n",
       "    <tr>\n",
       "      <th>3</th>\n",
       "      <td>3</td>\n",
       "      <td>3.36</td>\n",
       "      <td>2.67</td>\n",
       "      <td>1</td>\n",
       "      <td>0</td>\n",
       "      <td>0</td>\n",
       "      <td>0</td>\n",
       "      <td>1</td>\n",
       "      <td>0</td>\n",
       "      <td>1</td>\n",
       "      <td>0</td>\n",
       "      <td>0</td>\n",
       "      <td>0</td>\n",
       "      <td>1</td>\n",
       "      <td>0</td>\n",
       "      <td>72</td>\n",
       "    </tr>\n",
       "    <tr>\n",
       "      <th>4</th>\n",
       "      <td>3</td>\n",
       "      <td>3.56</td>\n",
       "      <td>2.80</td>\n",
       "      <td>0</td>\n",
       "      <td>0</td>\n",
       "      <td>0</td>\n",
       "      <td>0</td>\n",
       "      <td>0</td>\n",
       "      <td>0</td>\n",
       "      <td>2</td>\n",
       "      <td>0</td>\n",
       "      <td>0</td>\n",
       "      <td>0</td>\n",
       "      <td>0</td>\n",
       "      <td>0</td>\n",
       "      <td>69</td>\n",
       "    </tr>\n",
       "  </tbody>\n",
       "</table>\n",
       "</div>"
      ],
      "text/plain": [
       "   DGN  PRE4  PRE5  PRE6  PRE7  PRE8  PRE9  PRE10  PRE11  PRE14  PRE17  PRE19  \\\n",
       "0    3  2.08  1.52     1     0     0     0      1      0      4      0      0   \n",
       "1    3  4.36  3.76     0     0     0     0      0      0      1      0      0   \n",
       "2    3  3.52  2.28     0     0     0     0      0      0      3      0      0   \n",
       "3    3  3.36  2.67     1     0     0     0      1      0      1      0      0   \n",
       "4    3  3.56  2.80     0     0     0     0      0      0      2      0      0   \n",
       "\n",
       "   PRE25  PRE30  PRE32  AGE  \n",
       "0      0      1      0   49  \n",
       "1      0      1      0   72  \n",
       "2      0      1      0   51  \n",
       "3      0      1      0   72  \n",
       "4      0      0      0   69  "
      ]
     },
     "execution_count": 2391,
     "metadata": {},
     "output_type": "execute_result"
    }
   ],
   "source": [
    "X.head()"
   ]
  },
  {
   "cell_type": "markdown",
   "metadata": {},
   "source": [
    "Box plot below shows the outliers in PRE5. It is worth noting that all of these outliers are of the negative class. This variable is the volume that can be exhaled in one second given full inhilation. It is likely that these values are therefore errors in reporting as it is unlikely that humans can exhale such a large volume so quickly."
   ]
  },
  {
   "cell_type": "code",
   "execution_count": 3501,
   "metadata": {
    "collapsed": false,
    "scrolled": true
   },
   "outputs": [
    {
     "name": "stdout",
     "output_type": "stream",
     "text": [
      "11     0\n",
      "25     0\n",
      "101    0\n",
      "108    0\n",
      "122    0\n",
      "212    0\n",
      "240    0\n",
      "Name: Risk1Yr, dtype: int64\n"
     ]
    },
    {
     "data": {
      "image/png": "[encoded data removed]",
      "text/plain": [
       "<matplotlib.figure.Figure at 0x1713c0450>"
      ]
     },
     "metadata": {},
     "output_type": "display_data"
    }
   ],
   "source": [
    "# X.PRE5.plot(kind='box')\n",
    "X.PRE5.plot(kind='box')\n",
    "print y[X.PRE5 > 30 ]"
   ]
  },
  {
   "cell_type": "markdown",
   "metadata": {},
   "source": [
    "## Preprocessing\n",
    "\n",
    "Create a new matrix of preprocessed features. This will encode catagorical data as one hot vectors, remove outliers, and normalise the data.  "
   ]
  },
  {
   "cell_type": "code",
   "execution_count": 4081,
   "metadata": {
    "collapsed": false,
    "scrolled": true
   },
   "outputs": [
    {
     "data": {
      "text/html": [
       "<div>\n",
       "<table border=\"1\" class=\"dataframe\">\n",
       "  <thead>\n",
       "    <tr style=\"text-align: right;\">\n",
       "      <th></th>\n",
       "      <th>PRE4</th>\n",
       "      <th>PRE5</th>\n",
       "      <th>PRE6</th>\n",
       "      <th>PRE7</th>\n",
       "      <th>PRE8</th>\n",
       "      <th>PRE9</th>\n",
       "      <th>PRE10</th>\n",
       "      <th>PRE11</th>\n",
       "      <th>PRE14</th>\n",
       "      <th>PRE17</th>\n",
       "      <th>...</th>\n",
       "      <th>PRE25</th>\n",
       "      <th>PRE30</th>\n",
       "      <th>AGE</th>\n",
       "      <th>DGN_1</th>\n",
       "      <th>DGN_2</th>\n",
       "      <th>DGN_3</th>\n",
       "      <th>DGN_4</th>\n",
       "      <th>DGN_5</th>\n",
       "      <th>DGN_6</th>\n",
       "      <th>DGN_8</th>\n",
       "    </tr>\n",
       "  </thead>\n",
       "  <tbody>\n",
       "    <tr>\n",
       "      <th>0</th>\n",
       "      <td>2.08</td>\n",
       "      <td>1.52</td>\n",
       "      <td>1</td>\n",
       "      <td>0</td>\n",
       "      <td>0</td>\n",
       "      <td>0</td>\n",
       "      <td>1</td>\n",
       "      <td>0</td>\n",
       "      <td>4</td>\n",
       "      <td>0</td>\n",
       "      <td>...</td>\n",
       "      <td>0</td>\n",
       "      <td>1</td>\n",
       "      <td>49</td>\n",
       "      <td>0.0</td>\n",
       "      <td>0.0</td>\n",
       "      <td>1.0</td>\n",
       "      <td>0.0</td>\n",
       "      <td>0.0</td>\n",
       "      <td>0.0</td>\n",
       "      <td>0.0</td>\n",
       "    </tr>\n",
       "    <tr>\n",
       "      <th>1</th>\n",
       "      <td>4.36</td>\n",
       "      <td>3.76</td>\n",
       "      <td>0</td>\n",
       "      <td>0</td>\n",
       "      <td>0</td>\n",
       "      <td>0</td>\n",
       "      <td>0</td>\n",
       "      <td>0</td>\n",
       "      <td>1</td>\n",
       "      <td>0</td>\n",
       "      <td>...</td>\n",
       "      <td>0</td>\n",
       "      <td>1</td>\n",
       "      <td>72</td>\n",
       "      <td>0.0</td>\n",
       "      <td>0.0</td>\n",
       "      <td>1.0</td>\n",
       "      <td>0.0</td>\n",
       "      <td>0.0</td>\n",
       "      <td>0.0</td>\n",
       "      <td>0.0</td>\n",
       "    </tr>\n",
       "    <tr>\n",
       "      <th>2</th>\n",
       "      <td>3.52</td>\n",
       "      <td>2.28</td>\n",
       "      <td>0</td>\n",
       "      <td>0</td>\n",
       "      <td>0</td>\n",
       "      <td>0</td>\n",
       "      <td>0</td>\n",
       "      <td>0</td>\n",
       "      <td>3</td>\n",
       "      <td>0</td>\n",
       "      <td>...</td>\n",
       "      <td>0</td>\n",
       "      <td>1</td>\n",
       "      <td>51</td>\n",
       "      <td>0.0</td>\n",
       "      <td>0.0</td>\n",
       "      <td>1.0</td>\n",
       "      <td>0.0</td>\n",
       "      <td>0.0</td>\n",
       "      <td>0.0</td>\n",
       "      <td>0.0</td>\n",
       "    </tr>\n",
       "    <tr>\n",
       "      <th>3</th>\n",
       "      <td>3.36</td>\n",
       "      <td>2.67</td>\n",
       "      <td>1</td>\n",
       "      <td>0</td>\n",
       "      <td>0</td>\n",
       "      <td>0</td>\n",
       "      <td>1</td>\n",
       "      <td>0</td>\n",
       "      <td>1</td>\n",
       "      <td>0</td>\n",
       "      <td>...</td>\n",
       "      <td>0</td>\n",
       "      <td>1</td>\n",
       "      <td>72</td>\n",
       "      <td>0.0</td>\n",
       "      <td>0.0</td>\n",
       "      <td>1.0</td>\n",
       "      <td>0.0</td>\n",
       "      <td>0.0</td>\n",
       "      <td>0.0</td>\n",
       "      <td>0.0</td>\n",
       "    </tr>\n",
       "    <tr>\n",
       "      <th>4</th>\n",
       "      <td>3.56</td>\n",
       "      <td>2.80</td>\n",
       "      <td>0</td>\n",
       "      <td>0</td>\n",
       "      <td>0</td>\n",
       "      <td>0</td>\n",
       "      <td>0</td>\n",
       "      <td>0</td>\n",
       "      <td>2</td>\n",
       "      <td>0</td>\n",
       "      <td>...</td>\n",
       "      <td>0</td>\n",
       "      <td>0</td>\n",
       "      <td>69</td>\n",
       "      <td>0.0</td>\n",
       "      <td>0.0</td>\n",
       "      <td>1.0</td>\n",
       "      <td>0.0</td>\n",
       "      <td>0.0</td>\n",
       "      <td>0.0</td>\n",
       "      <td>0.0</td>\n",
       "    </tr>\n",
       "  </tbody>\n",
       "</table>\n",
       "<p>5 rows × 21 columns</p>\n",
       "</div>"
      ],
      "text/plain": [
       "   PRE4  PRE5  PRE6  PRE7  PRE8  PRE9  PRE10  PRE11  PRE14  PRE17  ...    \\\n",
       "0  2.08  1.52     1     0     0     0      1      0      4      0  ...     \n",
       "1  4.36  3.76     0     0     0     0      0      0      1      0  ...     \n",
       "2  3.52  2.28     0     0     0     0      0      0      3      0  ...     \n",
       "3  3.36  2.67     1     0     0     0      1      0      1      0  ...     \n",
       "4  3.56  2.80     0     0     0     0      0      0      2      0  ...     \n",
       "\n",
       "   PRE25  PRE30  AGE  DGN_1  DGN_2  DGN_3  DGN_4  DGN_5  DGN_6  DGN_8  \n",
       "0      0      1   49    0.0    0.0    1.0    0.0    0.0    0.0    0.0  \n",
       "1      0      1   72    0.0    0.0    1.0    0.0    0.0    0.0    0.0  \n",
       "2      0      1   51    0.0    0.0    1.0    0.0    0.0    0.0    0.0  \n",
       "3      0      1   72    0.0    0.0    1.0    0.0    0.0    0.0    0.0  \n",
       "4      0      0   69    0.0    0.0    1.0    0.0    0.0    0.0    0.0  \n",
       "\n",
       "[5 rows x 21 columns]"
      ]
     },
     "execution_count": 4081,
     "metadata": {},
     "output_type": "execute_result"
    }
   ],
   "source": [
    "from sklearn import preprocessing\n",
    "\n",
    "def encode_onehot(x_data, column_name, digitize=False):\n",
    "    \"\"\" Encode a catagorical column from a data frame into a data frame of one hot features\"\"\"\n",
    "    data = x_data[[column_name]]\n",
    "\n",
    "    if digitize:\n",
    "        data = np.digitize(data, np.arange(data.min(), data.max(), 10))\n",
    "    \n",
    "    enc = preprocessing.OneHotEncoder()\n",
    "    features = enc.fit_transform(data).toarray()\n",
    "    names = ['%s_%d' % (column_name, i) for i in enc.active_features_]\n",
    "    features = pd.DataFrame(features, columns=names, index=x_data.index)\n",
    "    return features\n",
    "\n",
    "\n",
    "def preprocess(x_data, y_data=None):\n",
    "    # drop zero var PRE32\n",
    "    Xp = x_data.drop(\"PRE32\", axis=1)\n",
    "    \n",
    "    # remove outliers\n",
    "    if y_data is not None: \n",
    "        mask = Xp.PRE5 < 30\n",
    "        Xp = Xp.loc[mask]\n",
    "        Yp = y_data.copy()\n",
    "        Yp = Yp.loc[mask]\n",
    "    else:\n",
    "        Yp = None\n",
    "    \n",
    "    # encode catagorical data as one hot vectors\n",
    "    one_hot_names = [\"DGN\"]\n",
    "    encoded = map(lambda name: encode_onehot(Xp, name), one_hot_names)\n",
    "    #combine into a single data frame\n",
    "    new_features = pd.concat(encoded, axis=1)\n",
    "\n",
    "    # drop the catagorical variables that have been encoded\n",
    "    Xp.drop([\"DGN\"], inplace=True, axis=1)\n",
    "    # add new features\n",
    "    Xp = pd.concat([Xp, new_features], axis=1)\n",
    "\n",
    "    return Xp, Yp\n",
    "\n",
    "Xp, Yp = preprocess(X, y)\n",
    "Xp.head()"
   ]
  },
  {
   "cell_type": "markdown",
   "metadata": {},
   "source": [
    "Measure the effectiveness of each feature using the variable importance measure from a Random Forest"
   ]
  },
  {
   "cell_type": "code",
   "execution_count": 4043,
   "metadata": {
    "collapsed": false
   },
   "outputs": [
    {
     "data": {
      "image/png": "[encoded data removed]",
      "text/plain": [
       "<matplotlib.figure.Figure at 0x17c3cab10>"
      ]
     },
     "metadata": {},
     "output_type": "display_data"
    }
   ],
   "source": [
    "def measure_importance(x_data, y_data):\n",
    "    rf_selector = RandomForestClassifier(criterion='gini', class_weight='balanced')\n",
    "    rf_selector.fit(scaler.fit_transform(x_data), y_data)\n",
    "    feature_importance = pd.Series(rf_selector.feature_importances_, index=x_data.columns).sort_values(ascending=False)\n",
    "    feature_importance.plot(kind='bar')\n",
    "    return feature_importance\n",
    "\n",
    "feature_importance = measure_importance(Xp, Yp)\n",
    "Xp.drop(feature_importance[feature_importance == 0].index, inplace=True, axis=1)"
   ]
  },
  {
   "cell_type": "code",
   "execution_count": 3967,
   "metadata": {
    "collapsed": false
   },
   "outputs": [
    {
     "data": {
      "image/png": "[encoded data removed]",
      "text/plain": [
       "<matplotlib.figure.Figure at 0x17fea98d0>"
      ]
     },
     "metadata": {},
     "output_type": "display_data"
    }
   ],
   "source": [
    "feature_importance.plot(kind='barh')\n",
    "plt.xlabel('Gini Impurity')\n",
    "plt.tight_layout()\n",
    "plt.savefig(\"img/feature_importance.png\")"
   ]
  },
  {
   "cell_type": "markdown",
   "metadata": {},
   "source": [
    "The numerical features appear to be the most important ones. Plot a scatter plot matrix to see how the how the correlate with each other"
   ]
  },
  {
   "cell_type": "code",
   "execution_count": 3757,
   "metadata": {
    "collapsed": false
   },
   "outputs": [
    {
     "data": {
      "text/plain": [
       "array([[<matplotlib.axes._subplots.AxesSubplot object at 0x1756c3dd0>,\n",
       "        <matplotlib.axes._subplots.AxesSubplot object at 0x17a46f850>,\n",
       "        <matplotlib.axes._subplots.AxesSubplot object at 0x1a4388f50>],\n",
       "       [<matplotlib.axes._subplots.AxesSubplot object at 0x198cbfe90>,\n",
       "        <matplotlib.axes._subplots.AxesSubplot object at 0x17829be10>,\n",
       "        <matplotlib.axes._subplots.AxesSubplot object at 0x19eb01ad0>],\n",
       "       [<matplotlib.axes._subplots.AxesSubplot object at 0x17c32da50>,\n",
       "        <matplotlib.axes._subplots.AxesSubplot object at 0x1767ab8d0>,\n",
       "        <matplotlib.axes._subplots.AxesSubplot object at 0x188c8bad0>]], dtype=object)"
      ]
     },
     "execution_count": 3757,
     "metadata": {},
     "output_type": "execute_result"
    },
    {
     "data": {
      "image/png": "[encoded data removed]",
      "text/plain": [
       "<matplotlib.figure.Figure at 0x170d869d0>"
      ]
     },
     "metadata": {},
     "output_type": "display_data"
    }
   ],
   "source": [
    "pd.tools.plotting.scatter_matrix(Xp[['PRE4', 'PRE5', 'AGE']], c=Yp)"
   ]
  },
  {
   "cell_type": "markdown",
   "metadata": {},
   "source": [
    "## Tuning Model Parameters\n",
    "\n",
    "Given the current status of the data tune the model parameters to it before we evalute the overall performance. Note that all of the tuning presented here is orientated towards obtaining the highest AUC score. Other metrics might be more desirable given the problem domain, but AUC is the measurement used for assignment points."
   ]
  },
  {
   "cell_type": "code",
   "execution_count": 3532,
   "metadata": {
    "collapsed": true
   },
   "outputs": [],
   "source": [
    "from sklearn import cross_validation\n",
    "skf = cross_validation.StratifiedKFold(Yp, n_folds=5)"
   ]
  },
  {
   "cell_type": "markdown",
   "metadata": {},
   "source": [
    "### Random Forest Tuning\n",
    "Run a grid search over a range of parameters for a Random Forest. The dataset is small enough that we can do them all at once. ```n_estimators``` is neglected because this should always improve as it is increased so we should attempt to make it as large as possible subject to lack of improvement"
   ]
  },
  {
   "cell_type": "code",
   "execution_count": 3835,
   "metadata": {
    "collapsed": false
   },
   "outputs": [
    {
     "data": {
      "text/plain": [
       "GridSearchCV(cv=sklearn.cross_validation.StratifiedKFold(labels=[1 0 ..., 0 0], n_folds=5, shuffle=False, random_state=None),\n",
       "       error_score='raise',\n",
       "       estimator=RandomForestClassifier(bootstrap=True, class_weight='balanced',\n",
       "            criterion='gini', max_depth=None, max_features='auto',\n",
       "            max_leaf_nodes=None, min_samples_leaf=1, min_samples_split=2,\n",
       "            min_weight_fraction_leaf=0.0, n_estimators=50, n_jobs=1,\n",
       "            oob_score=False, random_state=50, verbose=0, warm_start=False),\n",
       "       fit_params={}, iid=True, n_jobs=-1,\n",
       "       param_grid={'max_features': [2, 5, 8, 11, 14, 17], 'min_samples_split': [1, 2, 3, 4], 'max_depth': [1, 4, 7, 10, 13, 16, 19], 'min_samples_leaf': [1, 2, 3, 4]},\n",
       "       pre_dispatch='2*n_jobs', refit=True, scoring='roc_auc', verbose=0)"
      ]
     },
     "execution_count": 3835,
     "metadata": {},
     "output_type": "execute_result"
    }
   ],
   "source": [
    "param_grid = {\"max_depth\": range(2, 20, 3),\n",
    "              \"max_features\": range(2, 20, 3),\n",
    "              \"min_samples_split\": range(1, 5),\n",
    "              \"min_samples_leaf\": range(1, 5),\n",
    "             }\n",
    "\n",
    "rf = RandomForestClassifier(class_weight='balanced', n_estimators=50, random_state=50)\n",
    "rf_clf = grid_search.GridSearchCV(rf, param_grid, n_jobs=-1, cv=skf, scoring='roc_auc')\n",
    "rf_clf.fit(Xp, Yp)"
   ]
  },
  {
   "cell_type": "code",
   "execution_count": 3836,
   "metadata": {
    "collapsed": false
   },
   "outputs": [
    {
     "name": "stdout",
     "output_type": "stream",
     "text": [
      "{'max_features': 5, 'min_samples_split': 1, 'max_depth': 16, 'min_samples_leaf': 1}\n"
     ]
    }
   ],
   "source": [
    "print rf_clf.best_params_"
   ]
  },
  {
   "cell_type": "markdown",
   "metadata": {},
   "source": [
    "Now take a look at the number of estimators and see where performance begins to level off."
   ]
  },
  {
   "cell_type": "code",
   "execution_count": 3838,
   "metadata": {
    "collapsed": false,
    "scrolled": true
   },
   "outputs": [
    {
     "data": {
      "text/plain": [
       "GridSearchCV(cv=sklearn.cross_validation.StratifiedKFold(labels=[1 0 ..., 0 0], n_folds=5, shuffle=False, random_state=None),\n",
       "       error_score='raise',\n",
       "       estimator=RandomForestClassifier(bootstrap=True, class_weight='balanced',\n",
       "            criterion='gini', max_depth=16, max_features=1,\n",
       "            max_leaf_nodes=None, min_samples_leaf=1, min_samples_split=1,\n",
       "            min_weight_fraction_leaf=0.0, n_estimators=50, n_jobs=1,\n",
       "            oob_score=False, random_state=50, verbose=0, warm_start=False),\n",
       "       fit_params={}, iid=True, n_jobs=-1,\n",
       "       param_grid={'n_estimators': [50, 100, 150, 200, 250, 300, 350, 400, 450]},\n",
       "       pre_dispatch='2*n_jobs', refit=True, scoring='roc_auc', verbose=0)"
      ]
     },
     "execution_count": 3838,
     "metadata": {},
     "output_type": "execute_result"
    }
   ],
   "source": [
    "param_grid = {\"n_estimators\": range(50, 500, 50)}\n",
    "const_params = {'max_features': 1, 'min_samples_split': 1, 'max_depth': 16, 'min_samples_leaf': 1}\n",
    "\n",
    "rf = RandomForestClassifier(class_weight='balanced', n_estimators=50, random_state=50, **const_params)\n",
    "rf_clf2 = grid_search.GridSearchCV(rf, param_grid, n_jobs=-1, cv=skf, scoring='roc_auc')\n",
    "rf_clf2.fit(Xp, Yp)"
   ]
  },
  {
   "cell_type": "markdown",
   "metadata": {},
   "source": [
    "The best parameters for ```n_estimators``` levels off after around 300 estimators"
   ]
  },
  {
   "cell_type": "code",
   "execution_count": 3840,
   "metadata": {
    "collapsed": false
   },
   "outputs": [
    {
     "name": "stdout",
     "output_type": "stream",
     "text": [
      "{'n_estimators': 100}\n",
      "0.89217869367\n"
     ]
    },
    {
     "data": {
      "image/png": "[encoded data removed]",
      "text/plain": [
       "<matplotlib.figure.Figure at 0x1788b9210>"
      ]
     },
     "metadata": {},
     "output_type": "display_data"
    }
   ],
   "source": [
    "plt.plot([d[0]['n_estimators'] for d in rf_clf2.grid_scores_], [d[1] for d in rf_clf2.grid_scores_])\n",
    "print rf_clf2.best_params_\n",
    "print rf_clf2.best_score_"
   ]
  },
  {
   "cell_type": "code",
   "execution_count": 3725,
   "metadata": {
    "collapsed": false
   },
   "outputs": [
    {
     "data": {
      "text/plain": [
       "{'bootstrap': True,\n",
       " 'class_weight': 'balanced',\n",
       " 'criterion': 'gini',\n",
       " 'max_depth': 16,\n",
       " 'max_features': 1,\n",
       " 'max_leaf_nodes': None,\n",
       " 'min_samples_leaf': 1,\n",
       " 'min_samples_split': 1,\n",
       " 'min_weight_fraction_leaf': 0.0,\n",
       " 'n_estimators': 300,\n",
       " 'n_jobs': 1,\n",
       " 'oob_score': False,\n",
       " 'random_state': 50,\n",
       " 'verbose': 0,\n",
       " 'warm_start': False}"
      ]
     },
     "execution_count": 3725,
     "metadata": {},
     "output_type": "execute_result"
    }
   ],
   "source": [
    "rf_clf2.best_estimator_.get_params()"
   ]
  },
  {
   "cell_type": "markdown",
   "metadata": {},
   "source": [
    "### Gradient Boosting Tuning\n",
    "\n",
    "Gradient boosting is difficult to tune effectively. [This guide](http://www.analyticsvidhya.com/blog/2016/02/complete-guide-parameter-tuning-gradient-boosting-gbm-python/) suggests starting by fixing the learning rate and number of estimators to a relatively low number in order to tune the other hyperparameters. After they are optimised the learning rate is gradually lowered and the number of estimators increased until we find convergance on the optimum parameters"
   ]
  },
  {
   "cell_type": "code",
   "execution_count": 3587,
   "metadata": {
    "collapsed": false
   },
   "outputs": [
    {
     "data": {
      "text/plain": [
       "GridSearchCV(cv=sklearn.cross_validation.StratifiedKFold(labels=[1 0 ..., 0 0], n_folds=5, shuffle=False, random_state=None),\n",
       "       error_score='raise',\n",
       "       estimator=GradientBoostingClassifier(init=None, learning_rate=0.1, loss='deviance',\n",
       "              max_depth=8, max_features='sqrt', max_leaf_nodes=None,\n",
       "              min_samples_leaf=3, min_samples_split=1,\n",
       "              min_weight_fraction_leaf=0.0, n_estimators=100,\n",
       "              presort='auto', random_state=50, subsample=0.8, verbose=0,\n",
       "              warm_start=False),\n",
       "       fit_params={}, iid=True, n_jobs=1,\n",
       "       param_grid=[{'n_estimators': [20, 30, 40, 50, 60, 70, 80, 90, 100, 110, 120, 130, 140]}],\n",
       "       pre_dispatch='2*n_jobs', refit=True, scoring='roc_auc', verbose=0)"
      ]
     },
     "execution_count": 3587,
     "metadata": {},
     "output_type": "execute_result"
    }
   ],
   "source": [
    "param_grid = [\n",
    "   {'n_estimators': range(20,150,10)}\n",
    "]\n",
    "\n",
    "const_params = {'learning_rate': 0.1, 'min_samples_split': 1, 'min_samples_leaf': 3, 'max_depth': 8, 'max_features': 'sqrt', 'subsample': 0.8}\n",
    "gbc = GradientBoostingClassifier(random_state=50, **const_params)\n",
    "\n",
    "gbc_clf = grid_search.GridSearchCV(gbc, param_grid, cv=skf, scoring='roc_auc')\n",
    "gbc_clf.fit(Xp, Yp)"
   ]
  },
  {
   "cell_type": "markdown",
   "metadata": {},
   "source": [
    "```n_estimators``` plateaus at around 100, so we'll use this instead of the optimum as less trees == quicker training and we'll need to decrease the learning rate and increase the number of trees later in the tuning anyway."
   ]
  },
  {
   "cell_type": "code",
   "execution_count": 3588,
   "metadata": {
    "collapsed": false
   },
   "outputs": [
    {
     "name": "stdout",
     "output_type": "stream",
     "text": [
      "{'n_estimators': 120}\n"
     ]
    },
    {
     "data": {
      "image/png": "[encoded data removed]",
      "text/plain": [
       "<matplotlib.figure.Figure at 0x1a4899710>"
      ]
     },
     "metadata": {},
     "output_type": "display_data"
    }
   ],
   "source": [
    "plt.plot([d[0]['n_estimators'] for d in gbc_clf.grid_scores_], [d[1] for d in gbc_clf.grid_scores_])\n",
    "print gbc_clf.best_params_"
   ]
  },
  {
   "cell_type": "markdown",
   "metadata": {},
   "source": [
    "Now tune the ```max_depth``` and the ```min_samples_split``` parameters."
   ]
  },
  {
   "cell_type": "code",
   "execution_count": 3594,
   "metadata": {
    "collapsed": false,
    "scrolled": true
   },
   "outputs": [
    {
     "data": {
      "text/plain": [
       "GridSearchCV(cv=sklearn.cross_validation.StratifiedKFold(labels=[1 0 ..., 0 0], n_folds=5, shuffle=False, random_state=None),\n",
       "       error_score='raise',\n",
       "       estimator=GradientBoostingClassifier(init=None, learning_rate=0.1, loss='deviance',\n",
       "              max_depth=3, max_features='sqrt', max_leaf_nodes=None,\n",
       "              min_samples_leaf=3, min_samples_split=2,\n",
       "              min_weight_fraction_leaf=0.0, n_estimators=100,\n",
       "              presort='auto', random_state=50, subsample=0.8, verbose=0,\n",
       "              warm_start=False),\n",
       "       fit_params={}, iid=True, n_jobs=1,\n",
       "       param_grid=[{'min_samples_split': [1, 4, 7, 10, 13, 16, 19], 'max_depth': [5, 7, 9, 11, 13, 15]}],\n",
       "       pre_dispatch='2*n_jobs', refit=True, scoring='roc_auc', verbose=0)"
      ]
     },
     "execution_count": 3594,
     "metadata": {},
     "output_type": "execute_result"
    }
   ],
   "source": [
    "const_params = {'n_estimators':100, \n",
    "                'learning_rate': 0.1, \n",
    "                'min_samples_leaf': 3, \n",
    "                'max_features': 'sqrt', \n",
    "                'subsample': 0.8\n",
    "               }\n",
    "\n",
    "param_grid = [\n",
    "    {'max_depth':range(5,16,2), 'min_samples_split':range(1, 20, 3)}\n",
    "]\n",
    "\n",
    "\n",
    "gbc = GradientBoostingClassifier(random_state=50, **const_params)\n",
    "gbc_clf = grid_search.GridSearchCV(gbc, param_grid, cv=skf, scoring='roc_auc')\n",
    "gbc_clf.fit(Xp, Yp)"
   ]
  },
  {
   "cell_type": "code",
   "execution_count": 3595,
   "metadata": {
    "collapsed": false,
    "scrolled": true
   },
   "outputs": [
    {
     "name": "stdout",
     "output_type": "stream",
     "text": [
      "{'min_samples_split': 7, 'max_depth': 9}\n"
     ]
    },
    {
     "data": {
      "text/plain": [
       "[mean: 0.88220, std: 0.04754, params: {'min_samples_split': 1, 'max_depth': 5},\n",
       " mean: 0.88220, std: 0.04754, params: {'min_samples_split': 4, 'max_depth': 5},\n",
       " mean: 0.87967, std: 0.04768, params: {'min_samples_split': 7, 'max_depth': 5},\n",
       " mean: 0.89035, std: 0.04813, params: {'min_samples_split': 10, 'max_depth': 5},\n",
       " mean: 0.87719, std: 0.05057, params: {'min_samples_split': 13, 'max_depth': 5},\n",
       " mean: 0.87051, std: 0.05437, params: {'min_samples_split': 16, 'max_depth': 5},\n",
       " mean: 0.86807, std: 0.05291, params: {'min_samples_split': 19, 'max_depth': 5},\n",
       " mean: 0.89821, std: 0.04452, params: {'min_samples_split': 1, 'max_depth': 7},\n",
       " mean: 0.89821, std: 0.04452, params: {'min_samples_split': 4, 'max_depth': 7},\n",
       " mean: 0.89473, std: 0.04767, params: {'min_samples_split': 7, 'max_depth': 7},\n",
       " mean: 0.89704, std: 0.04538, params: {'min_samples_split': 10, 'max_depth': 7},\n",
       " mean: 0.89991, std: 0.03903, params: {'min_samples_split': 13, 'max_depth': 7},\n",
       " mean: 0.88864, std: 0.05408, params: {'min_samples_split': 16, 'max_depth': 7},\n",
       " mean: 0.87621, std: 0.05107, params: {'min_samples_split': 19, 'max_depth': 7},\n",
       " mean: 0.89880, std: 0.04033, params: {'min_samples_split': 1, 'max_depth': 9},\n",
       " mean: 0.89880, std: 0.04033, params: {'min_samples_split': 4, 'max_depth': 9},\n",
       " mean: 0.90692, std: 0.03731, params: {'min_samples_split': 7, 'max_depth': 9},\n",
       " mean: 0.89665, std: 0.04752, params: {'min_samples_split': 10, 'max_depth': 9},\n",
       " mean: 0.88990, std: 0.05752, params: {'min_samples_split': 13, 'max_depth': 9},\n",
       " mean: 0.88361, std: 0.05478, params: {'min_samples_split': 16, 'max_depth': 9},\n",
       " mean: 0.88795, std: 0.05857, params: {'min_samples_split': 19, 'max_depth': 9},\n",
       " mean: 0.90182, std: 0.04990, params: {'min_samples_split': 1, 'max_depth': 11},\n",
       " mean: 0.90182, std: 0.04990, params: {'min_samples_split': 4, 'max_depth': 11},\n",
       " mean: 0.90548, std: 0.04183, params: {'min_samples_split': 7, 'max_depth': 11},\n",
       " mean: 0.90343, std: 0.04153, params: {'min_samples_split': 10, 'max_depth': 11},\n",
       " mean: 0.90027, std: 0.03692, params: {'min_samples_split': 13, 'max_depth': 11},\n",
       " mean: 0.90187, std: 0.04195, params: {'min_samples_split': 16, 'max_depth': 11},\n",
       " mean: 0.88890, std: 0.04956, params: {'min_samples_split': 19, 'max_depth': 11},\n",
       " mean: 0.90676, std: 0.03600, params: {'min_samples_split': 1, 'max_depth': 13},\n",
       " mean: 0.90676, std: 0.03600, params: {'min_samples_split': 4, 'max_depth': 13},\n",
       " mean: 0.89853, std: 0.04138, params: {'min_samples_split': 7, 'max_depth': 13},\n",
       " mean: 0.89806, std: 0.04020, params: {'min_samples_split': 10, 'max_depth': 13},\n",
       " mean: 0.89211, std: 0.02916, params: {'min_samples_split': 13, 'max_depth': 13},\n",
       " mean: 0.89481, std: 0.03565, params: {'min_samples_split': 16, 'max_depth': 13},\n",
       " mean: 0.89722, std: 0.04099, params: {'min_samples_split': 19, 'max_depth': 13},\n",
       " mean: 0.90546, std: 0.04644, params: {'min_samples_split': 1, 'max_depth': 15},\n",
       " mean: 0.90546, std: 0.04644, params: {'min_samples_split': 4, 'max_depth': 15},\n",
       " mean: 0.90100, std: 0.04406, params: {'min_samples_split': 7, 'max_depth': 15},\n",
       " mean: 0.89495, std: 0.04222, params: {'min_samples_split': 10, 'max_depth': 15},\n",
       " mean: 0.89991, std: 0.02674, params: {'min_samples_split': 13, 'max_depth': 15},\n",
       " mean: 0.89207, std: 0.03377, params: {'min_samples_split': 16, 'max_depth': 15},\n",
       " mean: 0.89242, std: 0.04819, params: {'min_samples_split': 19, 'max_depth': 15}]"
      ]
     },
     "execution_count": 3595,
     "metadata": {},
     "output_type": "execute_result"
    }
   ],
   "source": [
    "print gbc_clf.best_params_\n",
    "gbc_clf.grid_scores_"
   ]
  },
  {
   "cell_type": "markdown",
   "metadata": {},
   "source": [
    "Now train ```max_features```:"
   ]
  },
  {
   "cell_type": "code",
   "execution_count": 3600,
   "metadata": {
    "collapsed": false
   },
   "outputs": [
    {
     "data": {
      "text/plain": [
       "GridSearchCV(cv=sklearn.cross_validation.StratifiedKFold(labels=[1 0 ..., 0 0], n_folds=5, shuffle=False, random_state=None),\n",
       "       error_score='raise',\n",
       "       estimator=GradientBoostingClassifier(init=None, learning_rate=0.1, loss='deviance',\n",
       "              max_depth=9, max_features='sqrt', max_leaf_nodes=None,\n",
       "              min_samples_leaf=3, min_samples_split=7,\n",
       "              min_weight_fraction_leaf=0.0, n_estimators=100,\n",
       "              presort='auto', random_state=50, subsample=0.8, verbose=0,\n",
       "              warm_start=False),\n",
       "       fit_params={}, iid=True, n_jobs=1,\n",
       "       param_grid=[{'max_features': [5, 7, 9, 11, 13, 15, 17, 19]}],\n",
       "       pre_dispatch='2*n_jobs', refit=True, scoring='roc_auc', verbose=0)"
      ]
     },
     "execution_count": 3600,
     "metadata": {},
     "output_type": "execute_result"
    }
   ],
   "source": [
    "const_params = {'n_estimators':100, \n",
    "                'learning_rate': 0.1, \n",
    "                'min_samples_leaf': 3, \n",
    "                'max_features': 'sqrt',\n",
    "                'max_depth': 9,\n",
    "                'min_samples_split': 7,\n",
    "                'subsample': 0.8\n",
    "               }\n",
    "\n",
    "param_grid = [\n",
    "    {'max_features':range(5,20,2)}\n",
    "]\n",
    "\n",
    "\n",
    "gbc = GradientBoostingClassifier(random_state=50, **const_params)\n",
    "gbc_clf = grid_search.GridSearchCV(gbc, param_grid, cv=skf, scoring='roc_auc')\n",
    "gbc_clf.fit(Xp, Yp)"
   ]
  },
  {
   "cell_type": "code",
   "execution_count": 3601,
   "metadata": {
    "collapsed": false
   },
   "outputs": [
    {
     "name": "stdout",
     "output_type": "stream",
     "text": [
      "{'max_features': 11}\n"
     ]
    },
    {
     "data": {
      "image/png": "[encoded data removed]",
      "text/plain": [
       "<matplotlib.figure.Figure at 0x173002150>"
      ]
     },
     "metadata": {},
     "output_type": "display_data"
    }
   ],
   "source": [
    "plt.plot([d[0]['max_features'] for d in gbc_clf.grid_scores_], [d[1] for d in gbc_clf.grid_scores_])\n",
    "print gbc_clf.best_params_"
   ]
  },
  {
   "cell_type": "markdown",
   "metadata": {},
   "source": [
    "Now train to tune the ```subsample``` rate."
   ]
  },
  {
   "cell_type": "code",
   "execution_count": 3603,
   "metadata": {
    "collapsed": false
   },
   "outputs": [
    {
     "data": {
      "text/plain": [
       "GridSearchCV(cv=sklearn.cross_validation.StratifiedKFold(labels=[1 0 ..., 0 0], n_folds=5, shuffle=False, random_state=None),\n",
       "       error_score='raise',\n",
       "       estimator=GradientBoostingClassifier(init=None, learning_rate=0.1, loss='deviance',\n",
       "              max_depth=9, max_features=11, max_leaf_nodes=None,\n",
       "              min_samples_leaf=3, min_samples_split=7,\n",
       "              min_weight_fraction_leaf=0.0, n_estimators=100,\n",
       "              presort='auto', random_state=50, subsample=0.8, verbose=0,\n",
       "              warm_start=False),\n",
       "       fit_params={}, iid=True, n_jobs=1,\n",
       "       param_grid=[{'subsample': [0.6, 0.7, 0.75, 0.8, 0.85, 0.9]}],\n",
       "       pre_dispatch='2*n_jobs', refit=True, scoring='roc_auc', verbose=0)"
      ]
     },
     "execution_count": 3603,
     "metadata": {},
     "output_type": "execute_result"
    }
   ],
   "source": [
    "const_params = {'n_estimators':100, \n",
    "                'learning_rate': 0.1, \n",
    "                'min_samples_leaf': 3, \n",
    "                'max_features': 'sqrt',\n",
    "                'max_depth': 9,\n",
    "                'min_samples_split': 7,\n",
    "                'max_features': 11,\n",
    "                'subsample': 0.8\n",
    "               }\n",
    "\n",
    "param_grid = [\n",
    "    {'subsample': [0.6, 0.7, 0.75, 0.8, 0.85, 0.9]}\n",
    "]\n",
    "\n",
    "\n",
    "gbc = GradientBoostingClassifier(random_state=50, **const_params)\n",
    "gbc_clf = grid_search.GridSearchCV(gbc, param_grid, cv=skf, scoring='roc_auc')\n",
    "gbc_clf.fit(Xp, Yp)"
   ]
  },
  {
   "cell_type": "code",
   "execution_count": 3604,
   "metadata": {
    "collapsed": false,
    "scrolled": true
   },
   "outputs": [
    {
     "name": "stdout",
     "output_type": "stream",
     "text": [
      "{'subsample': 0.8}\n"
     ]
    },
    {
     "data": {
      "image/png": "[encoded data removed]",
      "text/plain": [
       "<matplotlib.figure.Figure at 0x176b69d50>"
      ]
     },
     "metadata": {},
     "output_type": "display_data"
    }
   ],
   "source": [
    "plt.plot([d[0]['subsample'] for d in gbc_clf.grid_scores_], [d[1] for d in gbc_clf.grid_scores_])\n",
    "print gbc_clf.best_params_"
   ]
  },
  {
   "cell_type": "markdown",
   "metadata": {},
   "source": [
    "Now cross validate with all the parameters set:"
   ]
  },
  {
   "cell_type": "code",
   "execution_count": 3614,
   "metadata": {
    "collapsed": false
   },
   "outputs": [
    {
     "data": {
      "text/plain": [
       "GridSearchCV(cv=sklearn.cross_validation.StratifiedKFold(labels=[1 0 ..., 0 0], n_folds=5, shuffle=False, random_state=None),\n",
       "       error_score='raise',\n",
       "       estimator=GradientBoostingClassifier(init=None, learning_rate=0.1, loss='deviance',\n",
       "              max_depth=9, max_features=11, max_leaf_nodes=None,\n",
       "              min_samples_leaf=1, min_samples_split=7,\n",
       "              min_weight_fraction_leaf=0.0, n_estimators=100,\n",
       "              presort='auto', random_state=50, subsample=0.8, verbose=0,\n",
       "              warm_start=False),\n",
       "       fit_params={}, iid=True, n_jobs=1,\n",
       "       param_grid=[{'n_estimators': [100], 'learning_rate': [0.1]}, {'n_estimators': [200], 'learning_rate': [0.05]}, {'n_estimators': [1000], 'learning_rate': [0.01]}, {'n_estimators': [1500], 'learning_rate': [0.005]}],\n",
       "       pre_dispatch='2*n_jobs', refit=True, scoring='roc_auc', verbose=0)"
      ]
     },
     "execution_count": 3614,
     "metadata": {},
     "output_type": "execute_result"
    }
   ],
   "source": [
    "const_params = { \n",
    "                'min_samples_leaf': 1, \n",
    "                'min_samples_split': 7, \n",
    "                'max_depth': 9, \n",
    "                'max_features': 11, \n",
    "                'subsample': 0.8\n",
    "               }\n",
    "\n",
    "param_grid = [\n",
    "    {'n_estimators': [100], 'learning_rate': [0.1]},\n",
    "    {'n_estimators': [200], 'learning_rate': [0.05]},\n",
    "    {'n_estimators': [1000], 'learning_rate': [0.01]},\n",
    "    {'n_estimators': [1500], 'learning_rate': [0.005]},\n",
    "]\n",
    "\n",
    "gbc = GradientBoostingClassifier(random_state=50, **const_params)\n",
    "\n",
    "gbc_clf = grid_search.GridSearchCV(gbc, param_grid, cv=skf, scoring='roc_auc')\n",
    "gbc_clf.fit(Xp, Yp)"
   ]
  },
  {
   "cell_type": "code",
   "execution_count": 3718,
   "metadata": {
    "collapsed": false
   },
   "outputs": [
    {
     "name": "stdout",
     "output_type": "stream",
     "text": [
      "{'n_estimators': 1000, 'learning_rate': 0.01}\n"
     ]
    },
    {
     "data": {
      "text/plain": [
       "[mean: 0.90460, std: 0.03726, params: {'n_estimators': 100, 'learning_rate': 0.1},\n",
       " mean: 0.90313, std: 0.03876, params: {'n_estimators': 200, 'learning_rate': 0.05},\n",
       " mean: 0.90830, std: 0.03889, params: {'n_estimators': 1000, 'learning_rate': 0.01},\n",
       " mean: 0.90370, std: 0.03988, params: {'n_estimators': 1500, 'learning_rate': 0.005}]"
      ]
     },
     "execution_count": 3718,
     "metadata": {},
     "output_type": "execute_result"
    }
   ],
   "source": [
    "print gbc_clf.best_params_\n",
    "gbc_clf.grid_scores_"
   ]
  },
  {
   "cell_type": "code",
   "execution_count": 3854,
   "metadata": {
    "collapsed": false
   },
   "outputs": [
    {
     "name": "stdout",
     "output_type": "stream",
     "text": [
      "\\begin{tabular}{ll}\n",
      "\\toprule\n",
      "{} &     Value \\\\\n",
      "Parameter                &           \\\\\n",
      "\\midrule\n",
      "init                     &      None \\\\\n",
      "learning\\_rate            &      0.01 \\\\\n",
      "loss                     &  deviance \\\\\n",
      "max\\_depth                &         9 \\\\\n",
      "max\\_features             &        11 \\\\\n",
      "max\\_leaf\\_nodes           &      None \\\\\n",
      "min\\_samples\\_leaf         &         1 \\\\\n",
      "min\\_samples\\_split        &         7 \\\\\n",
      "min\\_weight\\_fraction\\_leaf &         0 \\\\\n",
      "n\\_estimators             &      1000 \\\\\n",
      "presort                  &      auto \\\\\n",
      "random\\_state             &        50 \\\\\n",
      "subsample                &       0.8 \\\\\n",
      "verbose                  &         0 \\\\\n",
      "warm\\_start               &     False \\\\\n",
      "\\bottomrule\n",
      "\\end{tabular}\n",
      "\n"
     ]
    }
   ],
   "source": [
    "p = pd.DataFrame(gbc_clf.best_estimator_.get_params(), index=['Value']).T\n",
    "p.index.name = \"Parameter\"\n",
    "print p.to_latex()"
   ]
  },
  {
   "cell_type": "markdown",
   "metadata": {},
   "source": [
    "### AdaBoost Tuning\n",
    "Perhaps the easiest train due to a fairly limited number of parameters. Adjusting the ```max_depth``` suggests that 4 appears to be roughly the best option for the depth of the decision trees."
   ]
  },
  {
   "cell_type": "code",
   "execution_count": 3764,
   "metadata": {
    "collapsed": false
   },
   "outputs": [
    {
     "data": {
      "text/plain": [
       "GridSearchCV(cv=sklearn.cross_validation.StratifiedKFold(labels=[1 0 ..., 0 0], n_folds=5, shuffle=False, random_state=None),\n",
       "       error_score='raise',\n",
       "       estimator=AdaBoostClassifier(algorithm='SAMME.R',\n",
       "          base_estimator=DecisionTreeClassifier(class_weight='balanced', criterion='gini', max_depth=4,\n",
       "            max_features=None, max_leaf_nodes=None, min_samples_leaf=1,\n",
       "            min_samples_split=2, min_weight_fraction_leaf=0.0,\n",
       "            presort=False, random_state=None, splitter='best'),\n",
       "          learning_rate=0.1, n_estimators=50, random_state=None),\n",
       "       fit_params={}, iid=True, n_jobs=-1,\n",
       "       param_grid={'n_estimators': [50, 100, 150, 200, 250, 300, 350, 400, 450, 500, 550, 600, 650, 700, 750, 800, 850, 900, 950], 'learning_rate': [0.1, 0.5, 0.01, 0.005]},\n",
       "       pre_dispatch='2*n_jobs', refit=True, scoring='roc_auc', verbose=0)"
      ]
     },
     "execution_count": 3764,
     "metadata": {},
     "output_type": "execute_result"
    }
   ],
   "source": [
    "param_grid = {\"n_estimators\": range(50, 1000, 50), 'learning_rate': [0.1, 0.5, 0.01, 0.005]}\n",
    "\n",
    "dt = DecisionTreeClassifier(class_weight='balanced', max_depth=4)\n",
    "adb = AdaBoostClassifier(dt)\n",
    "adb_clf = grid_search.GridSearchCV(adb, param_grid, n_jobs=-1, cv=skf, scoring='roc_auc')\n",
    "adb_clf.fit(Xp, Yp)"
   ]
  },
  {
   "cell_type": "code",
   "execution_count": 3781,
   "metadata": {
    "collapsed": false
   },
   "outputs": [
    {
     "name": "stdout",
     "output_type": "stream",
     "text": [
      "{'n_estimators': 400, 'learning_rate': 0.5}\n",
      "0.898625942927\n"
     ]
    },
    {
     "data": {
      "text/plain": [
       "[mean: 0.81604, std: 0.09086, params: {'n_estimators': 50, 'learning_rate': 0.1},\n",
       " mean: 0.82380, std: 0.06706, params: {'n_estimators': 100, 'learning_rate': 0.1},\n",
       " mean: 0.82011, std: 0.06168, params: {'n_estimators': 150, 'learning_rate': 0.1},\n",
       " mean: 0.83886, std: 0.05610, params: {'n_estimators': 200, 'learning_rate': 0.1},\n",
       " mean: 0.82707, std: 0.05400, params: {'n_estimators': 250, 'learning_rate': 0.1},\n",
       " mean: 0.83609, std: 0.05725, params: {'n_estimators': 300, 'learning_rate': 0.1},\n",
       " mean: 0.85398, std: 0.05896, params: {'n_estimators': 350, 'learning_rate': 0.1},\n",
       " mean: 0.83988, std: 0.06063, params: {'n_estimators': 400, 'learning_rate': 0.1},\n",
       " mean: 0.85468, std: 0.04492, params: {'n_estimators': 450, 'learning_rate': 0.1},\n",
       " mean: 0.84810, std: 0.03408, params: {'n_estimators': 500, 'learning_rate': 0.1},\n",
       " mean: 0.84320, std: 0.03759, params: {'n_estimators': 550, 'learning_rate': 0.1},\n",
       " mean: 0.86687, std: 0.06168, params: {'n_estimators': 600, 'learning_rate': 0.1},\n",
       " mean: 0.85343, std: 0.05496, params: {'n_estimators': 650, 'learning_rate': 0.1},\n",
       " mean: 0.84681, std: 0.04085, params: {'n_estimators': 700, 'learning_rate': 0.1},\n",
       " mean: 0.84218, std: 0.06393, params: {'n_estimators': 750, 'learning_rate': 0.1},\n",
       " mean: 0.83508, std: 0.05867, params: {'n_estimators': 800, 'learning_rate': 0.1},\n",
       " mean: 0.83509, std: 0.03651, params: {'n_estimators': 850, 'learning_rate': 0.1},\n",
       " mean: 0.84979, std: 0.05202, params: {'n_estimators': 900, 'learning_rate': 0.1},\n",
       " mean: 0.83524, std: 0.03882, params: {'n_estimators': 950, 'learning_rate': 0.1},\n",
       " mean: 0.85616, std: 0.05094, params: {'n_estimators': 50, 'learning_rate': 0.5},\n",
       " mean: 0.88002, std: 0.04807, params: {'n_estimators': 100, 'learning_rate': 0.5},\n",
       " mean: 0.86445, std: 0.05526, params: {'n_estimators': 150, 'learning_rate': 0.5},\n",
       " mean: 0.87179, std: 0.04243, params: {'n_estimators': 200, 'learning_rate': 0.5},\n",
       " mean: 0.87571, std: 0.04440, params: {'n_estimators': 250, 'learning_rate': 0.5},\n",
       " mean: 0.88136, std: 0.04933, params: {'n_estimators': 300, 'learning_rate': 0.5},\n",
       " mean: 0.86297, std: 0.04431, params: {'n_estimators': 350, 'learning_rate': 0.5},\n",
       " mean: 0.89863, std: 0.03614, params: {'n_estimators': 400, 'learning_rate': 0.5},\n",
       " mean: 0.87606, std: 0.03936, params: {'n_estimators': 450, 'learning_rate': 0.5},\n",
       " mean: 0.87972, std: 0.05611, params: {'n_estimators': 500, 'learning_rate': 0.5},\n",
       " mean: 0.88111, std: 0.02830, params: {'n_estimators': 550, 'learning_rate': 0.5},\n",
       " mean: 0.88124, std: 0.04582, params: {'n_estimators': 600, 'learning_rate': 0.5},\n",
       " mean: 0.87828, std: 0.04418, params: {'n_estimators': 650, 'learning_rate': 0.5},\n",
       " mean: 0.86320, std: 0.04748, params: {'n_estimators': 700, 'learning_rate': 0.5},\n",
       " mean: 0.88115, std: 0.03266, params: {'n_estimators': 750, 'learning_rate': 0.5},\n",
       " mean: 0.88156, std: 0.03102, params: {'n_estimators': 800, 'learning_rate': 0.5},\n",
       " mean: 0.87483, std: 0.03801, params: {'n_estimators': 850, 'learning_rate': 0.5},\n",
       " mean: 0.88320, std: 0.03020, params: {'n_estimators': 900, 'learning_rate': 0.5},\n",
       " mean: 0.88671, std: 0.03463, params: {'n_estimators': 950, 'learning_rate': 0.5},\n",
       " mean: 0.72016, std: 0.10635, params: {'n_estimators': 50, 'learning_rate': 0.01},\n",
       " mean: 0.76391, std: 0.09382, params: {'n_estimators': 100, 'learning_rate': 0.01},\n",
       " mean: 0.75591, std: 0.11900, params: {'n_estimators': 150, 'learning_rate': 0.01},\n",
       " mean: 0.75888, std: 0.12449, params: {'n_estimators': 200, 'learning_rate': 0.01},\n",
       " mean: 0.72914, std: 0.09521, params: {'n_estimators': 250, 'learning_rate': 0.01},\n",
       " mean: 0.75434, std: 0.07796, params: {'n_estimators': 300, 'learning_rate': 0.01},\n",
       " mean: 0.76913, std: 0.06759, params: {'n_estimators': 350, 'learning_rate': 0.01},\n",
       " mean: 0.76410, std: 0.08484, params: {'n_estimators': 400, 'learning_rate': 0.01},\n",
       " mean: 0.77088, std: 0.08914, params: {'n_estimators': 450, 'learning_rate': 0.01},\n",
       " mean: 0.75380, std: 0.09167, params: {'n_estimators': 500, 'learning_rate': 0.01},\n",
       " mean: 0.79806, std: 0.08337, params: {'n_estimators': 550, 'learning_rate': 0.01},\n",
       " mean: 0.77566, std: 0.09159, params: {'n_estimators': 600, 'learning_rate': 0.01},\n",
       " mean: 0.76275, std: 0.09476, params: {'n_estimators': 650, 'learning_rate': 0.01},\n",
       " mean: 0.79606, std: 0.09143, params: {'n_estimators': 700, 'learning_rate': 0.01},\n",
       " mean: 0.79669, std: 0.09392, params: {'n_estimators': 750, 'learning_rate': 0.01},\n",
       " mean: 0.78803, std: 0.08860, params: {'n_estimators': 800, 'learning_rate': 0.01},\n",
       " mean: 0.79535, std: 0.08959, params: {'n_estimators': 850, 'learning_rate': 0.01},\n",
       " mean: 0.80631, std: 0.09250, params: {'n_estimators': 900, 'learning_rate': 0.01},\n",
       " mean: 0.80001, std: 0.08379, params: {'n_estimators': 950, 'learning_rate': 0.01},\n",
       " mean: 0.76647, std: 0.09119, params: {'n_estimators': 50, 'learning_rate': 0.005},\n",
       " mean: 0.75694, std: 0.11073, params: {'n_estimators': 100, 'learning_rate': 0.005},\n",
       " mean: 0.75762, std: 0.10184, params: {'n_estimators': 150, 'learning_rate': 0.005},\n",
       " mean: 0.77939, std: 0.10277, params: {'n_estimators': 200, 'learning_rate': 0.005},\n",
       " mean: 0.78979, std: 0.09014, params: {'n_estimators': 250, 'learning_rate': 0.005},\n",
       " mean: 0.77683, std: 0.08775, params: {'n_estimators': 300, 'learning_rate': 0.005},\n",
       " mean: 0.75723, std: 0.07152, params: {'n_estimators': 350, 'learning_rate': 0.005},\n",
       " mean: 0.76043, std: 0.07355, params: {'n_estimators': 400, 'learning_rate': 0.005},\n",
       " mean: 0.75747, std: 0.07594, params: {'n_estimators': 450, 'learning_rate': 0.005},\n",
       " mean: 0.75407, std: 0.07616, params: {'n_estimators': 500, 'learning_rate': 0.005},\n",
       " mean: 0.78996, std: 0.07956, params: {'n_estimators': 550, 'learning_rate': 0.005},\n",
       " mean: 0.76600, std: 0.07753, params: {'n_estimators': 600, 'learning_rate': 0.005},\n",
       " mean: 0.79512, std: 0.08854, params: {'n_estimators': 650, 'learning_rate': 0.005},\n",
       " mean: 0.77854, std: 0.07721, params: {'n_estimators': 700, 'learning_rate': 0.005},\n",
       " mean: 0.77627, std: 0.07821, params: {'n_estimators': 750, 'learning_rate': 0.005},\n",
       " mean: 0.75797, std: 0.06653, params: {'n_estimators': 800, 'learning_rate': 0.005},\n",
       " mean: 0.79347, std: 0.08544, params: {'n_estimators': 850, 'learning_rate': 0.005},\n",
       " mean: 0.77119, std: 0.07737, params: {'n_estimators': 900, 'learning_rate': 0.005},\n",
       " mean: 0.76420, std: 0.05808, params: {'n_estimators': 950, 'learning_rate': 0.005}]"
      ]
     },
     "execution_count": 3781,
     "metadata": {},
     "output_type": "execute_result"
    }
   ],
   "source": [
    "print adb_clf.best_params_\n",
    "print adb_clf.best_score_\n",
    "adb_clf.grid_scores_"
   ]
  },
  {
   "cell_type": "markdown",
   "metadata": {},
   "source": [
    "### Extremely Random Trees Tuning\n",
    "\n",
    "This is very similar to Random Forests. In fact we will start with the same parameter set for the grid search."
   ]
  },
  {
   "cell_type": "code",
   "execution_count": 3800,
   "metadata": {
    "collapsed": false
   },
   "outputs": [
    {
     "data": {
      "text/plain": [
       "GridSearchCV(cv=sklearn.cross_validation.StratifiedKFold(labels=[1 0 ..., 0 0], n_folds=5, shuffle=False, random_state=None),\n",
       "       error_score='raise',\n",
       "       estimator=ExtraTreesClassifier(bootstrap=True, class_weight='balanced',\n",
       "           criterion='gini', max_depth=None, max_features='auto',\n",
       "           max_leaf_nodes=None, min_samples_leaf=1, min_samples_split=2,\n",
       "           min_weight_fraction_leaf=0.0, n_estimators=50, n_jobs=1,\n",
       "           oob_score=False, random_state=50, verbose=0, warm_start=False),\n",
       "       fit_params={}, iid=True, n_jobs=-1,\n",
       "       param_grid={'max_features': [1, 4, 7, 10, 13, 16, 19], 'min_samples_split': [1, 2, 3, 4], 'max_depth': [1, 4, 7, 10, 13, 16, 19], 'min_samples_leaf': [1, 2, 3, 4]},\n",
       "       pre_dispatch='2*n_jobs', refit=True, scoring='roc_auc', verbose=0)"
      ]
     },
     "execution_count": 3800,
     "metadata": {},
     "output_type": "execute_result"
    }
   ],
   "source": [
    "param_grid = {\"max_depth\": range(2, 20, 3),\n",
    "              \"max_features\": range(2, 20, 3),\n",
    "              \"min_samples_split\": range(1, 5),\n",
    "              \"min_samples_leaf\": range(1, 5),\n",
    "             }\n",
    "etc = ExtraTreesClassifier(class_weight='balanced', bootstrap=True, n_estimators=50, random_state=50)\n",
    "etc_clf = grid_search.GridSearchCV(etc, param_grid, n_jobs=-1, cv=skf, scoring='roc_auc')\n",
    "etc_clf.fit(Xp, Yp)"
   ]
  },
  {
   "cell_type": "code",
   "execution_count": 3801,
   "metadata": {
    "collapsed": false
   },
   "outputs": [
    {
     "name": "stdout",
     "output_type": "stream",
     "text": [
      "{'max_features': 16, 'min_samples_split': 1, 'max_depth': 19, 'min_samples_leaf': 1}\n",
      "0.887051406553\n"
     ]
    }
   ],
   "source": [
    "print etc_clf.best_params_\n",
    "print etc_clf.best_score_"
   ]
  },
  {
   "cell_type": "markdown",
   "metadata": {},
   "source": [
    "Now check increasing the number of estimators and find the drop off point"
   ]
  },
  {
   "cell_type": "code",
   "execution_count": 3805,
   "metadata": {
    "collapsed": false
   },
   "outputs": [
    {
     "data": {
      "text/plain": [
       "GridSearchCV(cv=sklearn.cross_validation.StratifiedKFold(labels=[1 0 ..., 0 0], n_folds=5, shuffle=False, random_state=None),\n",
       "       error_score='raise',\n",
       "       estimator=ExtraTreesClassifier(bootstrap=True, class_weight='balanced',\n",
       "           criterion='gini', max_depth=19, max_features=16,\n",
       "           max_leaf_nodes=None, min_samples_leaf=1, min_samples_split=1,\n",
       "           min_weight_fraction_leaf=0.0, n_estimators=10, n_jobs=1,\n",
       "           oob_score=False, random_state=50, verbose=0, warm_start=False),\n",
       "       fit_params={}, iid=True, n_jobs=-1,\n",
       "       param_grid={'n_estimators': [50, 100, 150, 200, 250, 300, 350, 400, 450]},\n",
       "       pre_dispatch='2*n_jobs', refit=True, scoring='roc_auc', verbose=0)"
      ]
     },
     "execution_count": 3805,
     "metadata": {},
     "output_type": "execute_result"
    }
   ],
   "source": [
    "param_grid = {\"n_estimators\": range(50, 500, 50)}\n",
    "const_params = {'max_features': 16, 'min_samples_split': 1, 'max_depth': 19, 'min_samples_leaf': 1}\n",
    "\n",
    "etc = ExtraTreesClassifier(class_weight='balanced', bootstrap=True, random_state=50, **const_params)\n",
    "etc_clf2 = grid_search.GridSearchCV(etc, param_grid, n_jobs=-1, cv=skf, scoring='roc_auc')\n",
    "etc_clf2.fit(Xp, Yp)"
   ]
  },
  {
   "cell_type": "code",
   "execution_count": 3806,
   "metadata": {
    "collapsed": false
   },
   "outputs": [
    {
     "name": "stdout",
     "output_type": "stream",
     "text": [
      "{'n_estimators': 200}\n",
      "0.890377576778\n"
     ]
    },
    {
     "data": {
      "image/png": "[encoded data removed]",
      "text/plain": [
       "<matplotlib.figure.Figure at 0x186aaba90>"
      ]
     },
     "metadata": {},
     "output_type": "display_data"
    }
   ],
   "source": [
    "plt.plot([d[0]['n_estimators'] for d in etc_clf2.grid_scores_], [d[1] for d in etc_clf2.grid_scores_])\n",
    "print etc_clf2.best_params_\n",
    "print etc_clf2.best_score_"
   ]
  },
  {
   "cell_type": "code",
   "execution_count": 3807,
   "metadata": {
    "collapsed": false
   },
   "outputs": [
    {
     "data": {
      "text/plain": [
       "{'bootstrap': True,\n",
       " 'class_weight': 'balanced',\n",
       " 'criterion': 'gini',\n",
       " 'max_depth': 19,\n",
       " 'max_features': 16,\n",
       " 'max_leaf_nodes': None,\n",
       " 'min_samples_leaf': 1,\n",
       " 'min_samples_split': 1,\n",
       " 'min_weight_fraction_leaf': 0.0,\n",
       " 'n_estimators': 200,\n",
       " 'n_jobs': 1,\n",
       " 'oob_score': False,\n",
       " 'random_state': 50,\n",
       " 'verbose': 0,\n",
       " 'warm_start': False}"
      ]
     },
     "execution_count": 3807,
     "metadata": {},
     "output_type": "execute_result"
    }
   ],
   "source": [
    "etc_clf2.best_estimator_.get_params()"
   ]
  },
  {
   "cell_type": "markdown",
   "metadata": {},
   "source": [
    "## Model Performance\n",
    "Test the performance of each of the models on the preprocessed dataset before trying any more complicated feature engineering/resampling. This should give us some rough baseline AUC measures to work with. Firstly, set up the models. This creates a set of pipelines for each of the models we want to use. "
   ]
  },
  {
   "cell_type": "code",
   "execution_count": 3971,
   "metadata": {
    "collapsed": false
   },
   "outputs": [],
   "source": [
    "from sklearn.pipeline import Pipeline\n",
    "from sklearn.svm import SVC\n",
    "from sklearn.ensemble import ExtraTreesClassifier, AdaBoostClassifier\n",
    "from sklearn.neighbors import KNeighborsClassifier\n",
    "from sklearn.tree import DecisionTreeClassifier\n",
    "reload(pipeline)\n",
    "import pipeline\n",
    "reload(roc_analysis)\n",
    "from roc_analysis import ROCAnalysisScorer\n",
    "\n",
    "scaler = preprocessing.StandardScaler()\n",
    "\n",
    "# set up classifier objects\n",
    "knn = KNeighborsClassifier(n_neighbors=5, weights='distance')\n",
    "dct = DecisionTreeClassifier(class_weight='balanced', max_depth=4)\n",
    "abt = AdaBoostClassifier(dct, n_estimators=400, learning_rate=0.5)\n",
    "\n",
    "gbc_params = { \n",
    "    'min_samples_leaf': 1, \n",
    "    'min_samples_split': 7, \n",
    "    'max_depth': 9, \n",
    "    'max_features': 11, \n",
    "    'subsample': 0.8,\n",
    "    'n_estimators': 1000,\n",
    "    'learning_rate': 0.01\n",
    "}\n",
    "gbc = GradientBoostingClassifier(**gbc_params)\n",
    "\n",
    "exf_params = {\n",
    "    'bootstrap': True,\n",
    "    'class_weight': 'balanced',\n",
    "    'criterion': 'gini',\n",
    "    'max_depth': 19,\n",
    "    'max_features': 16,\n",
    "    'max_leaf_nodes': None,\n",
    "    'min_samples_leaf': 1,\n",
    "    'min_samples_split': 1,\n",
    "    'min_weight_fraction_leaf': 0.0,\n",
    "    'n_estimators': 200,\n",
    "    'n_jobs': 1,\n",
    "    'oob_score': False,\n",
    "    'random_state': 50,\n",
    "    'verbose': 0,\n",
    "    'warm_start': False\n",
    "}\n",
    "\n",
    "\n",
    "exf = ExtraTreesClassifier(**exf_params)\n",
    "\n",
    "rf_params = {\n",
    "    'bootstrap': True,\n",
    "    'class_weight': 'balanced',\n",
    "    'criterion': 'gini',\n",
    "    'max_depth': 16,\n",
    "    'max_features': 1,\n",
    "    'max_leaf_nodes': None,\n",
    "    'min_samples_leaf': 1,\n",
    "    'min_samples_split': 1,\n",
    "    'min_weight_fraction_leaf': 0.0,\n",
    "    'n_estimators': 300\n",
    "}\n",
    "rf_balanced = RandomForestClassifier(**rf_params)\n",
    "\n",
    "# create pipelines for each model\n",
    "abt_pipe = Pipeline([('scaler', scaler), ('AdaBoost', abt)])\n",
    "exf_pipe = Pipeline([('scaler', scaler), ('ExtraTrees', exf)])\n",
    "gbc_pipe = Pipeline([('scaler', scaler), ('GradientBoostingClassifer', gbc)])\n",
    "rfs_pipe = Pipeline([('scaler', scaler), ('RandomForest', rf_balanced)])\n",
    "\n",
    "# create list of model data\n",
    "models = [\n",
    "    {'name': 'AdaBoost', 'model': abt_pipe},\n",
    "    {'name': 'ExtraTrees', 'model': exf_pipe},\n",
    "    {'name': 'RandomForest', 'model': rfs_pipe},\n",
    "    {'name': 'GradientBoost', 'model': gbc_pipe},\n",
    "]\n",
    "\n",
    "# set the same training set for all models.\n",
    "# this is just the preprocessed dataset.\n",
    "for model in models:\n",
    "    model['train_data'] = (Xp, Yp)"
   ]
  },
  {
   "cell_type": "markdown",
   "metadata": {},
   "source": [
    "Define some useful helper functions for summarising the results of k-fold/monte carlo cross validation"
   ]
  },
  {
   "cell_type": "code",
   "execution_count": 3829,
   "metadata": {
    "collapsed": true
   },
   "outputs": [],
   "source": [
    "def f_score_summary(scorers):\n",
    "    \"\"\" Create a summary of the average f-scores for all folds/trials\"\"\"\n",
    "    series = []\n",
    "    columns = []\n",
    "    for key, scorer in scorers.iteritems():\n",
    "        f_scores = [np.mean(scorer.f1scores_), np.mean(scorer.f2scores_), np.mean(scorer.fhalf_scores_)]\n",
    "        s = pd.Series(f_scores, index=['F1', 'F2', 'F0.5'])\n",
    "        series.append(s)\n",
    "        columns.append(key)\n",
    "    \n",
    "    frame = pd.concat(series, axis = 1)    \n",
    "    frame.columns = columns\n",
    "    return frame\n",
    "\n",
    "def summarise_scorers(scorers):\n",
    "    \"\"\" Create a summary of the scorers AUCs for all folds/trials\"\"\"\n",
    "    names = [name for name in scorers.keys()]\n",
    "    aucs = [scorer.aucs_ for scorer in scorers.values()]\n",
    "    aucs = pd.DataFrame(np.array(aucs).T, columns=names)\n",
    "    return aucs.describe()"
   ]
  },
  {
   "cell_type": "markdown",
   "metadata": {},
   "source": [
    "Perform n iterations of k fold cross validation. Here I am using 10 iterations and 5 folds at each iteration."
   ]
  },
  {
   "cell_type": "code",
   "execution_count": 3972,
   "metadata": {
    "collapsed": true
   },
   "outputs": [],
   "source": [
    "scorers = pipeline.repeated_cross_fold_validation(models, n=10, k=5)"
   ]
  },
  {
   "cell_type": "markdown",
   "metadata": {},
   "source": [
    "Plot an ROC curve and the mean AUCs."
   ]
  },
  {
   "cell_type": "code",
   "execution_count": 3973,
   "metadata": {
    "collapsed": false
   },
   "outputs": [
    {
     "data": {
      "text/plain": [
       "[<matplotlib.lines.Line2D at 0x16be3da10>]"
      ]
     },
     "execution_count": 3973,
     "metadata": {},
     "output_type": "execute_result"
    },
    {
     "data": {
      "image/png": "[encoded data removed]",
      "text/plain": [
       "<matplotlib.figure.Figure at 0x1799403d0>"
      ]
     },
     "metadata": {},
     "output_type": "display_data"
    }
   ],
   "source": [
    "%matplotlib inline\n",
    "for key, scorer in scorers.iteritems():\n",
    "    scorer.plot_roc_curve(mean_label=key, mean_line=True, show_all=False)\n",
    "\n",
    "plt.plot(np.arange(0,1.1, 0.1), np.arange(0,1.1, 0.1), '--')\n",
    "# plt.savefig(\"img/roc_cv.png\")"
   ]
  },
  {
   "cell_type": "markdown",
   "metadata": {},
   "source": [
    "Plot bar chart of the F2 scores"
   ]
  },
  {
   "cell_type": "code",
   "execution_count": 3862,
   "metadata": {
    "collapsed": false
   },
   "outputs": [
    {
     "data": {
      "image/png": "[encoded data removed]",
      "text/plain": [
       "<matplotlib.figure.Figure at 0x172c85ed0>"
      ]
     },
     "metadata": {},
     "output_type": "display_data"
    }
   ],
   "source": [
    "f_scores = f_score_summary(scorers)\n",
    "ax = f_scores.loc['F2'].plot(kind='barh', title='F2 Measure for All Classifiers', color=['b', 'r', 'g', 'y'])\n",
    "ax.set_xlabel('F2 Score')\n",
    "plt.tight_layout()\n",
    "plt.savefig('img/f2_score.png')"
   ]
  },
  {
   "cell_type": "markdown",
   "metadata": {},
   "source": [
    "Summarise the F scores"
   ]
  },
  {
   "cell_type": "code",
   "execution_count": 3833,
   "metadata": {
    "collapsed": false
   },
   "outputs": [
    {
     "name": "stdout",
     "output_type": "stream",
     "text": [
      "\\begin{tabular}{lrrrr}\n",
      "\\toprule\n",
      "{} &  RandomForest &  ExtraTrees &  GradientBoost &  AdaBoost \\\\\n",
      "\\midrule\n",
      "F1   &      0.601006 &    0.606542 &       0.623161 &  0.607031 \\\\\n",
      "F2   &      0.522676 &    0.546392 &       0.567522 &  0.549125 \\\\\n",
      "F0.5 &      0.715848 &    0.688120 &       0.700784 &  0.683489 \\\\\n",
      "\\bottomrule\n",
      "\\end{tabular}\n",
      "\n"
     ]
    },
    {
     "data": {
      "text/html": [
       "<div>\n",
       "<table border=\"1\" class=\"dataframe\">\n",
       "  <thead>\n",
       "    <tr style=\"text-align: right;\">\n",
       "      <th></th>\n",
       "      <th>RandomForest</th>\n",
       "      <th>ExtraTrees</th>\n",
       "      <th>GradientBoost</th>\n",
       "      <th>AdaBoost</th>\n",
       "    </tr>\n",
       "  </thead>\n",
       "  <tbody>\n",
       "    <tr>\n",
       "      <th>F1</th>\n",
       "      <td>0.601006</td>\n",
       "      <td>0.606542</td>\n",
       "      <td>0.623161</td>\n",
       "      <td>0.607031</td>\n",
       "    </tr>\n",
       "    <tr>\n",
       "      <th>F2</th>\n",
       "      <td>0.522676</td>\n",
       "      <td>0.546392</td>\n",
       "      <td>0.567522</td>\n",
       "      <td>0.549125</td>\n",
       "    </tr>\n",
       "    <tr>\n",
       "      <th>F0.5</th>\n",
       "      <td>0.715848</td>\n",
       "      <td>0.688120</td>\n",
       "      <td>0.700784</td>\n",
       "      <td>0.683489</td>\n",
       "    </tr>\n",
       "  </tbody>\n",
       "</table>\n",
       "</div>"
      ],
      "text/plain": [
       "      RandomForest  ExtraTrees  GradientBoost  AdaBoost\n",
       "F1        0.601006    0.606542       0.623161  0.607031\n",
       "F2        0.522676    0.546392       0.567522  0.549125\n",
       "F0.5      0.715848    0.688120       0.700784  0.683489"
      ]
     },
     "execution_count": 3833,
     "metadata": {},
     "output_type": "execute_result"
    }
   ],
   "source": [
    "f_scores = f_score_summary(scorers)\n",
    "print f_scores.to_latex()\n",
    "f_scores"
   ]
  },
  {
   "cell_type": "markdown",
   "metadata": {},
   "source": [
    "## Feature Engineering\n",
    "\n",
    "Test creating some new features based on combinations of existing ones in the dataset. Cross validate each set of new features to see if it improves performance."
   ]
  },
  {
   "cell_type": "markdown",
   "metadata": {},
   "source": [
    "### Binary Features"
   ]
  },
  {
   "cell_type": "code",
   "execution_count": 3917,
   "metadata": {
    "collapsed": false
   },
   "outputs": [
    {
     "data": {
      "image/png": "[encoded data removed]",
      "text/plain": [
       "<matplotlib.figure.Figure at 0x16c13d150>"
      ]
     },
     "metadata": {},
     "output_type": "display_data"
    }
   ],
   "source": [
    "import itertools\n",
    "\n",
    "def binary_combinations(x_data, names):\n",
    "    name_pairs = itertools.combinations(names, 2)\n",
    "    features = []\n",
    "    for a_name, b_name in name_pairs:\n",
    "        a, b = x_data[a_name], x_data[b_name]\n",
    "        features.append(np.logical_xor(a, b).astype(int))\n",
    "        features.append(np.logical_and(a, b).astype(int))\n",
    "        features.append(np.logical_or(a, b).astype(int))\n",
    "        \n",
    "    return pd.DataFrame(np.array(features).T, index=x_data.index)\n",
    "\n",
    "binary_features = binary_combinations(Xp, ['PRE7', 'PRE8', 'PRE9', 'PRE10', 'PRE11', 'PRE17', 'PRE30'])\n",
    "Xp_binary = pd.concat([Xp, binary_features], axis=1)\n",
    "feature_importance = measure_importance(Xp_binary, Yp)\n",
    "Xp_binary.drop(feature_importance[feature_importance == 0].index, inplace=True, axis=1)"
   ]
  },
  {
   "cell_type": "code",
   "execution_count": 3879,
   "metadata": {
    "collapsed": true
   },
   "outputs": [],
   "source": [
    "for model in models:\n",
    "    model['train_data'] = (Xp_binary, Yp)\n",
    "    \n",
    "scorers = pipeline.repeated_cross_fold_validation(models, n=10, k=5)"
   ]
  },
  {
   "cell_type": "code",
   "execution_count": 3881,
   "metadata": {
    "collapsed": false
   },
   "outputs": [
    {
     "data": {
      "image/png": "[encoded data removed]",
      "text/plain": [
       "<matplotlib.figure.Figure at 0x179f50c10>"
      ]
     },
     "metadata": {},
     "output_type": "display_data"
    }
   ],
   "source": [
    "%matplotlib inline\n",
    "for key, scorer in scorers.iteritems():\n",
    "    scorer.plot_roc_curve(mean_label=key, mean_line=True, show_all=False)\n",
    "\n",
    "plt.plot(np.arange(0,1.1, 0.1), np.arange(0,1.1, 0.1), '--')\n",
    "plt.savefig(\"img/roc_binary_features.png\")"
   ]
  },
  {
   "cell_type": "code",
   "execution_count": 3882,
   "metadata": {
    "collapsed": false
   },
   "outputs": [
    {
     "name": "stdout",
     "output_type": "stream",
     "text": [
      "\\begin{tabular}{lrrrr}\n",
      "\\toprule\n",
      "{} &  RandomForest &  ExtraTrees &  GradientBoost &  AdaBoost \\\\\n",
      "\\midrule\n",
      "F1   &      0.543811 &    0.560718 &       0.612539 &  0.646753 \\\\\n",
      "F2   &      0.465938 &    0.489906 &       0.547107 &  0.591129 \\\\\n",
      "F0.5 &      0.662682 &    0.660713 &       0.705097 &  0.721499 \\\\\n",
      "\\bottomrule\n",
      "\\end{tabular}\n",
      "\n"
     ]
    },
    {
     "data": {
      "text/html": [
       "<div>\n",
       "<table border=\"1\" class=\"dataframe\">\n",
       "  <thead>\n",
       "    <tr style=\"text-align: right;\">\n",
       "      <th></th>\n",
       "      <th>RandomForest</th>\n",
       "      <th>ExtraTrees</th>\n",
       "      <th>GradientBoost</th>\n",
       "      <th>AdaBoost</th>\n",
       "    </tr>\n",
       "  </thead>\n",
       "  <tbody>\n",
       "    <tr>\n",
       "      <th>F1</th>\n",
       "      <td>0.543811</td>\n",
       "      <td>0.560718</td>\n",
       "      <td>0.612539</td>\n",
       "      <td>0.646753</td>\n",
       "    </tr>\n",
       "    <tr>\n",
       "      <th>F2</th>\n",
       "      <td>0.465938</td>\n",
       "      <td>0.489906</td>\n",
       "      <td>0.547107</td>\n",
       "      <td>0.591129</td>\n",
       "    </tr>\n",
       "    <tr>\n",
       "      <th>F0.5</th>\n",
       "      <td>0.662682</td>\n",
       "      <td>0.660713</td>\n",
       "      <td>0.705097</td>\n",
       "      <td>0.721499</td>\n",
       "    </tr>\n",
       "  </tbody>\n",
       "</table>\n",
       "</div>"
      ],
      "text/plain": [
       "      RandomForest  ExtraTrees  GradientBoost  AdaBoost\n",
       "F1        0.543811    0.560718       0.612539  0.646753\n",
       "F2        0.465938    0.489906       0.547107  0.591129\n",
       "F0.5      0.662682    0.660713       0.705097  0.721499"
      ]
     },
     "execution_count": 3882,
     "metadata": {},
     "output_type": "execute_result"
    }
   ],
   "source": [
    "f_scores = f_score_summary(scorers)\n",
    "print f_scores.to_latex()\n",
    "f_scores"
   ]
  },
  {
   "cell_type": "markdown",
   "metadata": {},
   "source": [
    "### Spirometry Based Features"
   ]
  },
  {
   "cell_type": "code",
   "execution_count": 4031,
   "metadata": {
    "collapsed": false
   },
   "outputs": [],
   "source": [
    "def create_spiro_features(x_data):\n",
    "    # create new feature FER\n",
    "    # this is the raito of FEV1 and FVC\n",
    "    FER = (x_data.PRE5 / x_data.PRE4) * 100\n",
    "    FER.index = x_data.index\n",
    "\n",
    "    # create a new feature OBS\n",
    "    # this is whether the instance has a FER below 70%\n",
    "    # which implies an obstructive disease.\n",
    "    OBS = pd.Series(np.zeros(x_data.AGE.shape))\n",
    "    OBS.index = x_data.index\n",
    "    OBS.loc[FER < 70] = 1.0\n",
    "    \n",
    "    spiro = pd.concat([FER, OBS], axis=1)\n",
    "    spiro.columns = ['FER', 'OBS']\n",
    "    return spiro"
   ]
  },
  {
   "cell_type": "code",
   "execution_count": 4032,
   "metadata": {
    "collapsed": false
   },
   "outputs": [
    {
     "data": {
      "image/png": "[encoded data removed]",
      "text/plain": [
       "<matplotlib.figure.Figure at 0x18e0e4750>"
      ]
     },
     "metadata": {},
     "output_type": "display_data"
    }
   ],
   "source": [
    "spiro_features = create_spiro_features(Xp)\n",
    "Xp_spiro = pd.concat([Xp, spiro_features], axis=1)\n",
    "feature_importance = measure_importance(Xp_spiro, Yp)\n",
    "Xp_spiro.drop(feature_importance[feature_importance == 0].index, inplace=True, axis=1)"
   ]
  },
  {
   "cell_type": "code",
   "execution_count": 3954,
   "metadata": {
    "collapsed": true
   },
   "outputs": [],
   "source": [
    "for model in models:\n",
    "    model['train_data'] = (Xp_spiro, Yp)\n",
    "    \n",
    "scorers = pipeline.repeated_cross_fold_validation(models, n=10, k=5)"
   ]
  },
  {
   "cell_type": "code",
   "execution_count": 3955,
   "metadata": {
    "collapsed": false
   },
   "outputs": [
    {
     "data": {
      "image/png": "[encoded data removed]",
      "text/plain": [
       "<matplotlib.figure.Figure at 0x1792bf890>"
      ]
     },
     "metadata": {},
     "output_type": "display_data"
    }
   ],
   "source": [
    "%matplotlib inline\n",
    "for key, scorer in scorers.iteritems():\n",
    "    scorer.plot_roc_curve(mean_label=key, mean_line=True, show_all=False)\n",
    "\n",
    "plt.plot(np.arange(0,1.1, 0.1), np.arange(0,1.1, 0.1), '--')\n",
    "plt.savefig(\"img/roc_spiro_features.png\")"
   ]
  },
  {
   "cell_type": "code",
   "execution_count": 3957,
   "metadata": {
    "collapsed": false
   },
   "outputs": [
    {
     "data": {
      "image/png": "[encoded data removed]",
      "text/plain": [
       "<matplotlib.figure.Figure at 0x196e699d0>"
      ]
     },
     "metadata": {},
     "output_type": "display_data"
    }
   ],
   "source": [
    "feature_importance.plot(kind='barh')\n",
    "plt.xlabel('Gini Impurity')\n",
    "plt.tight_layout()\n",
    "plt.savefig(\"img/importance_spiro_features.png\")"
   ]
  },
  {
   "cell_type": "code",
   "execution_count": 3958,
   "metadata": {
    "collapsed": false
   },
   "outputs": [
    {
     "name": "stdout",
     "output_type": "stream",
     "text": [
      "\\begin{tabular}{lrrrr}\n",
      "\\toprule\n",
      "{} &  RandomForest &  ExtraTrees &  GradientBoost &  AdaBoost \\\\\n",
      "\\midrule\n",
      "F1   &      0.566669 &    0.617225 &       0.600845 &  0.614050 \\\\\n",
      "F2   &      0.483774 &    0.549281 &       0.538619 &  0.561441 \\\\\n",
      "F0.5 &      0.699297 &    0.715047 &       0.688793 &  0.683218 \\\\\n",
      "\\bottomrule\n",
      "\\end{tabular}\n",
      "\n"
     ]
    },
    {
     "data": {
      "text/html": [
       "<div>\n",
       "<table border=\"1\" class=\"dataframe\">\n",
       "  <thead>\n",
       "    <tr style=\"text-align: right;\">\n",
       "      <th></th>\n",
       "      <th>RandomForest</th>\n",
       "      <th>ExtraTrees</th>\n",
       "      <th>GradientBoost</th>\n",
       "      <th>AdaBoost</th>\n",
       "    </tr>\n",
       "  </thead>\n",
       "  <tbody>\n",
       "    <tr>\n",
       "      <th>F1</th>\n",
       "      <td>0.566669</td>\n",
       "      <td>0.617225</td>\n",
       "      <td>0.600845</td>\n",
       "      <td>0.614050</td>\n",
       "    </tr>\n",
       "    <tr>\n",
       "      <th>F2</th>\n",
       "      <td>0.483774</td>\n",
       "      <td>0.549281</td>\n",
       "      <td>0.538619</td>\n",
       "      <td>0.561441</td>\n",
       "    </tr>\n",
       "    <tr>\n",
       "      <th>F0.5</th>\n",
       "      <td>0.699297</td>\n",
       "      <td>0.715047</td>\n",
       "      <td>0.688793</td>\n",
       "      <td>0.683218</td>\n",
       "    </tr>\n",
       "  </tbody>\n",
       "</table>\n",
       "</div>"
      ],
      "text/plain": [
       "      RandomForest  ExtraTrees  GradientBoost  AdaBoost\n",
       "F1        0.566669    0.617225       0.600845  0.614050\n",
       "F2        0.483774    0.549281       0.538619  0.561441\n",
       "F0.5      0.699297    0.715047       0.688793  0.683218"
      ]
     },
     "execution_count": 3958,
     "metadata": {},
     "output_type": "execute_result"
    }
   ],
   "source": [
    "f_scores = f_score_summary(scorers)\n",
    "print f_scores.to_latex()\n",
    "f_scores"
   ]
  },
  {
   "cell_type": "markdown",
   "metadata": {},
   "source": [
    "### Polynomial Combinations"
   ]
  },
  {
   "cell_type": "code",
   "execution_count": 3959,
   "metadata": {
    "collapsed": false
   },
   "outputs": [
    {
     "data": {
      "image/png": "[encoded data removed]",
      "text/plain": [
       "<matplotlib.figure.Figure at 0x17c6a42d0>"
      ]
     },
     "metadata": {},
     "output_type": "display_data"
    }
   ],
   "source": [
    "def create_poly_features(x_data, names):\n",
    "    # create new features base on Polynomials of the original best two predictors\n",
    "    poly = sklearn.preprocessing.PolynomialFeatures(2, include_bias=False, interaction_only=True)\n",
    "    poly_features = pd.DataFrame(poly.fit_transform(x_data[names]), index=x_data.index)\n",
    "    poly_features.columns = [\"POLY_%d\" % i for i in poly_features.columns]\n",
    "    return poly_features\n",
    "\n",
    "poly_features = create_poly_features(Xp, ['PRE4', 'PRE5'])\n",
    "Xp_poly = pd.concat([Xp, poly_features], axis=1)\n",
    "feature_importance = measure_importance(Xp_poly, Yp)\n",
    "Xp_poly.drop(feature_importance[feature_importance == 0].index, inplace=True, axis=1)"
   ]
  },
  {
   "cell_type": "code",
   "execution_count": 3960,
   "metadata": {
    "collapsed": true
   },
   "outputs": [],
   "source": [
    "for model in models:\n",
    "    model['train_data'] = (Xp_poly, Yp)\n",
    "    \n",
    "scorers = pipeline.repeated_cross_fold_validation(models, n=10, k=5)"
   ]
  },
  {
   "cell_type": "code",
   "execution_count": 3961,
   "metadata": {
    "collapsed": false
   },
   "outputs": [
    {
     "data": {
      "image/png": "[encoded data removed]",
      "text/plain": [
       "<matplotlib.figure.Figure at 0x16aec7910>"
      ]
     },
     "metadata": {},
     "output_type": "display_data"
    }
   ],
   "source": [
    "%matplotlib inline\n",
    "for key, scorer in scorers.iteritems():\n",
    "    scorer.plot_roc_curve(mean_label=key, mean_line=True, show_all=False)\n",
    "\n",
    "plt.plot(np.arange(0,1.1, 0.1), np.arange(0,1.1, 0.1), '--')\n",
    "plt.savefig(\"img/roc_poly_features.png\")"
   ]
  },
  {
   "cell_type": "code",
   "execution_count": 3962,
   "metadata": {
    "collapsed": false
   },
   "outputs": [
    {
     "data": {
      "image/png": "[encoded data removed]",
      "text/plain": [
       "<matplotlib.figure.Figure at 0x16aed00d0>"
      ]
     },
     "metadata": {},
     "output_type": "display_data"
    }
   ],
   "source": [
    "feature_importance.plot(kind='barh')\n",
    "plt.xlabel('Gini Impurity')\n",
    "plt.tight_layout()\n",
    "plt.savefig(\"img/importance_poly_features.png\")"
   ]
  },
  {
   "cell_type": "code",
   "execution_count": 3964,
   "metadata": {
    "collapsed": false
   },
   "outputs": [
    {
     "name": "stdout",
     "output_type": "stream",
     "text": [
      "\\begin{tabular}{lrrrr}\n",
      "\\toprule\n",
      "{} &  RandomForest &  ExtraTrees &  GradientBoost &  AdaBoost \\\\\n",
      "\\midrule\n",
      "F1   &      0.604371 &    0.634325 &       0.615442 &  0.662434 \\\\\n",
      "F2   &      0.517592 &    0.563459 &       0.560582 &  0.613066 \\\\\n",
      "F0.5 &      0.736327 &    0.732681 &       0.690843 &  0.726515 \\\\\n",
      "\\bottomrule\n",
      "\\end{tabular}\n",
      "\n"
     ]
    },
    {
     "data": {
      "text/html": [
       "<div>\n",
       "<table border=\"1\" class=\"dataframe\">\n",
       "  <thead>\n",
       "    <tr style=\"text-align: right;\">\n",
       "      <th></th>\n",
       "      <th>RandomForest</th>\n",
       "      <th>ExtraTrees</th>\n",
       "      <th>GradientBoost</th>\n",
       "      <th>AdaBoost</th>\n",
       "    </tr>\n",
       "  </thead>\n",
       "  <tbody>\n",
       "    <tr>\n",
       "      <th>F1</th>\n",
       "      <td>0.604371</td>\n",
       "      <td>0.634325</td>\n",
       "      <td>0.615442</td>\n",
       "      <td>0.662434</td>\n",
       "    </tr>\n",
       "    <tr>\n",
       "      <th>F2</th>\n",
       "      <td>0.517592</td>\n",
       "      <td>0.563459</td>\n",
       "      <td>0.560582</td>\n",
       "      <td>0.613066</td>\n",
       "    </tr>\n",
       "    <tr>\n",
       "      <th>F0.5</th>\n",
       "      <td>0.736327</td>\n",
       "      <td>0.732681</td>\n",
       "      <td>0.690843</td>\n",
       "      <td>0.726515</td>\n",
       "    </tr>\n",
       "  </tbody>\n",
       "</table>\n",
       "</div>"
      ],
      "text/plain": [
       "      RandomForest  ExtraTrees  GradientBoost  AdaBoost\n",
       "F1        0.604371    0.634325       0.615442  0.662434\n",
       "F2        0.517592    0.563459       0.560582  0.613066\n",
       "F0.5      0.736327    0.732681       0.690843  0.726515"
      ]
     },
     "execution_count": 3964,
     "metadata": {},
     "output_type": "execute_result"
    }
   ],
   "source": [
    "f_scores = f_score_summary(scorers)\n",
    "print f_scores.to_latex()\n",
    "f_scores"
   ]
  },
  {
   "cell_type": "markdown",
   "metadata": {},
   "source": [
    "## Resampling the Dataset\n",
    "\n",
    "Testing whether using resampling improves performance"
   ]
  },
  {
   "cell_type": "markdown",
   "metadata": {},
   "source": [
    "### Testing with regular Over/Under sampling"
   ]
  },
  {
   "cell_type": "code",
   "execution_count": 3906,
   "metadata": {
    "collapsed": false
   },
   "outputs": [
    {
     "name": "stdout",
     "output_type": "stream",
     "text": [
      "Determining classes statistics... 2 classes detected: {0: 167, 1: 67}\n",
      "Over-sampling performed: Counter({0: 167, 1: 120})\n",
      "Determining classes statistics... 2 classes detected: {0: 167, 1: 120}\n",
      "Under-sampling performed: Counter({1: 120, 0: 48})\n",
      "Determining classes statistics... 2 classes detected: {0: 167, 1: 67}\n",
      "Over-sampling performed: Counter({0: 167, 1: 120})\n",
      "Determining classes statistics... 2 classes detected: {0: 167, 1: 120}\n",
      "Under-sampling performed: Counter({1: 120, 0: 48})\n",
      "Determining classes statistics... 2 classes detected: {0: 167, 1: 67}\n",
      "Over-sampling performed: Counter({0: 167, 1: 120})\n",
      "Determining classes statistics... 2 classes detected: {0: 167, 1: 120}\n",
      "Under-sampling performed: Counter({1: 120, 0: 48})\n",
      "Determining classes statistics... 2 classes detected: {0: 167, 1: 67}\n",
      "Over-sampling performed: Counter({0: 167, 1: 120})\n",
      "Determining classes statistics... 2 classes detected: {0: 167, 1: 120}\n",
      "Under-sampling performed: Counter({1: 120, 0: 48})\n",
      "Determining classes statistics... 2 classes detected: {0: 167, 1: 67}\n",
      "Over-sampling performed: Counter({0: 167, 1: 120})\n",
      "Determining classes statistics... 2 classes detected: {0: 167, 1: 120}\n",
      "Under-sampling performed: Counter({1: 120, 0: 48})\n",
      "Determining classes statistics... 2 classes detected: {0: 167, 1: 67}\n",
      "Over-sampling performed: Counter({0: 167, 1: 120})\n",
      "Determining classes statistics... 2 classes detected: {0: 167, 1: 120}\n",
      "Under-sampling performed: Counter({1: 120, 0: 48})\n",
      "Determining classes statistics... 2 classes detected: {0: 167, 1: 67}\n",
      "Over-sampling performed: Counter({0: 167, 1: 120})\n",
      "Determining classes statistics... 2 classes detected: {0: 167, 1: 120}\n",
      "Under-sampling performed: Counter({1: 120, 0: 48})\n",
      "Determining classes statistics... 2 classes detected: {0: 167, 1: 67}\n",
      "Over-sampling performed: Counter({0: 167, 1: 120})\n",
      "Determining classes statistics... 2 classes detected: {0: 167, 1: 120}\n",
      "Under-sampling performed: Counter({1: 120, 0: 48})\n",
      "Determining classes statistics... 2 classes detected: {0: 167, 1: 67}\n",
      "Over-sampling performed: Counter({0: 167, 1: 120})\n",
      "Determining classes statistics... 2 classes detected: {0: 167, 1: 120}\n",
      "Under-sampling performed: Counter({1: 120, 0: 48})\n",
      "Determining classes statistics... 2 classes detected: {0: 167, 1: 67}\n",
      "Over-sampling performed: Counter({0: 167, 1: 120})\n",
      "Determining classes statistics... 2 classes detected: {0: 167, 1: 120}\n",
      "Under-sampling performed: Counter({1: 120, 0: 48})\n",
      "Determining classes statistics... 2 classes detected: {0: 167, 1: 67}\n",
      "Over-sampling performed: Counter({0: 167, 1: 120})\n",
      "Determining classes statistics... 2 classes detected: {0: 167, 1: 120}\n",
      "Under-sampling performed: Counter({1: 120, 0: 48})\n",
      "Determining classes statistics... 2 classes detected: {0: 167, 1: 67}\n",
      "Over-sampling performed: Counter({0: 167, 1: 120})\n",
      "Determining classes statistics... 2 classes detected: {0: 167, 1: 120}\n",
      "Under-sampling performed: Counter({1: 120, 0: 48})\n",
      "Determining classes statistics... 2 classes detected: {0: 167, 1: 67}\n",
      "Over-sampling performed: Counter({0: 167, 1: 120})\n",
      "Determining classes statistics... 2 classes detected: {0: 167, 1: 120}\n",
      "Under-sampling performed: Counter({1: 120, 0: 48})\n",
      "Determining classes statistics... 2 classes detected: {0: 167, 1: 67}\n",
      "Over-sampling performed: Counter({0: 167, 1: 120})\n",
      "Determining classes statistics... 2 classes detected: {0: 167, 1: 120}\n",
      "Under-sampling performed: Counter({1: 120, 0: 48})\n",
      "Determining classes statistics... 2 classes detected: {0: 167, 1: 67}\n",
      "Over-sampling performed: Counter({0: 167, 1: 120})\n",
      "Determining classes statistics... 2 classes detected: {0: 167, 1: 120}\n",
      "Under-sampling performed: Counter({1: 120, 0: 48})\n",
      "Determining classes statistics... 2 classes detected: {0: 167, 1: 67}\n",
      "Over-sampling performed: Counter({0: 167, 1: 120})\n",
      "Determining classes statistics... 2 classes detected: {0: 167, 1: 120}\n",
      "Under-sampling performed: Counter({1: 120, 0: 48})\n",
      "Determining classes statistics... 2 classes detected: {0: 167, 1: 67}\n",
      "Over-sampling performed: Counter({0: 167, 1: 120})\n",
      "Determining classes statistics... 2 classes detected: {0: 167, 1: 120}\n",
      "Under-sampling performed: Counter({1: 120, 0: 48})\n",
      "Determining classes statistics... 2 classes detected: {0: 167, 1: 67}\n",
      "Over-sampling performed: Counter({0: 167, 1: 120})\n",
      "Determining classes statistics... 2 classes detected: {0: 167, 1: 120}\n",
      "Under-sampling performed: Counter({1: 120, 0: 48})\n",
      "Determining classes statistics... 2 classes detected: {0: 167, 1: 67}\n",
      "Over-sampling performed: Counter({0: 167, 1: 120})\n",
      "Determining classes statistics... 2 classes detected: {0: 167, 1: 120}\n",
      "Under-sampling performed: Counter({1: 120, 0: 48})\n",
      "Determining classes statistics... 2 classes detected: {0: 167, 1: 67}\n",
      "Over-sampling performed: Counter({0: 167, 1: 120})\n",
      "Determining classes statistics... 2 classes detected: {0: 167, 1: 120}\n",
      "Under-sampling performed: Counter({1: 120, 0: 48})\n",
      "Determining classes statistics... 2 classes detected: {0: 167, 1: 67}\n",
      "Over-sampling performed: Counter({0: 167, 1: 120})\n",
      "Determining classes statistics... 2 classes detected: {0: 167, 1: 120}\n",
      "Under-sampling performed: Counter({1: 120, 0: 48})\n",
      "Determining classes statistics... 2 classes detected: {0: 167, 1: 67}\n",
      "Over-sampling performed: Counter({0: 167, 1: 120})\n",
      "Determining classes statistics... 2 classes detected: {0: 167, 1: 120}\n",
      "Under-sampling performed: Counter({1: 120, 0: 48})\n",
      "Determining classes statistics... 2 classes detected: {0: 167, 1: 67}\n",
      "Over-sampling performed: Counter({0: 167, 1: 120})\n",
      "Determining classes statistics... 2 classes detected: {0: 167, 1: 120}\n",
      "Under-sampling performed: Counter({1: 120, 0: 48})\n",
      "Determining classes statistics... 2 classes detected: {0: 167, 1: 67}\n",
      "Over-sampling performed: Counter({0: 167, 1: 120})\n",
      "Determining classes statistics... 2 classes detected: {0: 167, 1: 120}\n",
      "Under-sampling performed: Counter({1: 120, 0: 48})\n",
      "Determining classes statistics... 2 classes detected: {0: 167, 1: 67}\n",
      "Over-sampling performed: Counter({0: 167, 1: 120})\n",
      "Determining classes statistics... 2 classes detected: {0: 167, 1: 120}\n",
      "Under-sampling performed: Counter({1: 120, 0: 48})\n",
      "Determining classes statistics... 2 classes detected: {0: 167, 1: 67}\n",
      "Over-sampling performed: Counter({0: 167, 1: 120})\n",
      "Determining classes statistics... 2 classes detected: {0: 167, 1: 120}\n",
      "Under-sampling performed: Counter({1: 120, 0: 48})\n",
      "Determining classes statistics... 2 classes detected: {0: 167, 1: 67}\n",
      "Over-sampling performed: Counter({0: 167, 1: 120})\n",
      "Determining classes statistics... 2 classes detected: {0: 167, 1: 120}\n",
      "Under-sampling performed: Counter({1: 120, 0: 48})\n",
      "Determining classes statistics... 2 classes detected: {0: 167, 1: 67}\n",
      "Over-sampling performed: Counter({0: 167, 1: 120})\n",
      "Determining classes statistics... 2 classes detected: {0: 167, 1: 120}\n",
      "Under-sampling performed: Counter({1: 120, 0: 48})\n",
      "Determining classes statistics... 2 classes detected: {0: 167, 1: 67}\n",
      "Over-sampling performed: Counter({0: 167, 1: 120})\n",
      "Determining classes statistics... 2 classes detected: {0: 167, 1: 120}\n",
      "Under-sampling performed: Counter({1: 120, 0: 48})\n",
      "Determining classes statistics... 2 classes detected: {0: 167, 1: 67}\n",
      "Over-sampling performed: Counter({0: 167, 1: 120})\n",
      "Determining classes statistics... 2 classes detected: {0: 167, 1: 120}\n",
      "Under-sampling performed: Counter({1: 120, 0: 48})\n",
      "Determining classes statistics... 2 classes detected: {0: 167, 1: 67}\n",
      "Over-sampling performed: Counter({0: 167, 1: 120})\n",
      "Determining classes statistics... 2 classes detected: {0: 167, 1: 120}\n",
      "Under-sampling performed: Counter({1: 120, 0: 48})\n",
      "Determining classes statistics... 2 classes detected: {0: 167, 1: 67}\n",
      "Over-sampling performed: Counter({0: 167, 1: 120})\n",
      "Determining classes statistics... 2 classes detected: {0: 167, 1: 120}\n",
      "Under-sampling performed: Counter({1: 120, 0: 48})\n",
      "Determining classes statistics... 2 classes detected: {0: 167, 1: 67}\n",
      "Over-sampling performed: Counter({0: 167, 1: 120})\n",
      "Determining classes statistics... 2 classes detected: {0: 167, 1: 120}\n",
      "Under-sampling performed: Counter({1: 120, 0: 48})\n",
      "Determining classes statistics... 2 classes detected: {0: 167, 1: 67}\n",
      "Over-sampling performed: Counter({0: 167, 1: 120})\n",
      "Determining classes statistics... 2 classes detected: {0: 167, 1: 120}\n",
      "Under-sampling performed: Counter({1: 120, 0: 48})\n",
      "Determining classes statistics... 2 classes detected: {0: 167, 1: 67}\n",
      "Over-sampling performed: Counter({0: 167, 1: 120})\n",
      "Determining classes statistics... 2 classes detected: {0: 167, 1: 120}\n",
      "Under-sampling performed: Counter({1: 120, 0: 48})\n",
      "Determining classes statistics... 2 classes detected: {0: 167, 1: 67}\n",
      "Over-sampling performed: Counter({0: 167, 1: 120})\n",
      "Determining classes statistics... 2 classes detected: {0: 167, 1: 120}\n",
      "Under-sampling performed: Counter({1: 120, 0: 48})\n",
      "Determining classes statistics... 2 classes detected: {0: 167, 1: 67}\n",
      "Over-sampling performed: Counter({0: 167, 1: 120})\n",
      "Determining classes statistics... 2 classes detected: {0: 167, 1: 120}\n",
      "Under-sampling performed: Counter({1: 120, 0: 48})\n",
      "Determining classes statistics... 2 classes detected: {0: 167, 1: 67}\n",
      "Over-sampling performed: Counter({0: 167, 1: 120})\n",
      "Determining classes statistics... 2 classes detected: {0: 167, 1: 120}\n",
      "Under-sampling performed: Counter({1: 120, 0: 48})\n",
      "Determining classes statistics... 2 classes detected: {0: 167, 1: 67}\n",
      "Over-sampling performed: Counter({0: 167, 1: 120})\n",
      "Determining classes statistics... 2 classes detected: {0: 167, 1: 120}\n",
      "Under-sampling performed: Counter({1: 120, 0: 48})\n",
      "Determining classes statistics... 2 classes detected: {0: 167, 1: 67}\n",
      "Over-sampling performed: Counter({0: 167, 1: 120})\n",
      "Determining classes statistics... 2 classes detected: {0: 167, 1: 120}\n",
      "Under-sampling performed: Counter({1: 120, 0: 48})\n",
      "Determining classes statistics... 2 classes detected: {0: 167, 1: 67}\n",
      "Over-sampling performed: Counter({0: 167, 1: 120})\n",
      "Determining classes statistics... 2 classes detected: {0: 167, 1: 120}\n",
      "Under-sampling performed: Counter({1: 120, 0: 48})\n",
      "Determining classes statistics... 2 classes detected: {0: 167, 1: 67}\n",
      "Over-sampling performed: Counter({0: 167, 1: 120})\n",
      "Determining classes statistics... 2 classes detected: {0: 167, 1: 120}\n",
      "Under-sampling performed: Counter({1: 120, 0: 48})\n",
      "Determining classes statistics... 2 classes detected: {0: 167, 1: 67}\n",
      "Over-sampling performed: Counter({0: 167, 1: 120})\n",
      "Determining classes statistics... 2 classes detected: {0: 167, 1: 120}\n",
      "Under-sampling performed: Counter({1: 120, 0: 48})\n",
      "Determining classes statistics... 2 classes detected: {0: 167, 1: 67}\n",
      "Over-sampling performed: Counter({0: 167, 1: 120})\n",
      "Determining classes statistics... 2 classes detected: {0: 167, 1: 120}\n",
      "Under-sampling performed: Counter({1: 120, 0: 48})\n",
      "Determining classes statistics... 2 classes detected: {0: 167, 1: 67}\n",
      "Over-sampling performed: Counter({0: 167, 1: 120})\n",
      "Determining classes statistics... 2 classes detected: {0: 167, 1: 120}\n",
      "Under-sampling performed: Counter({1: 120, 0: 48})\n",
      "Determining classes statistics... 2 classes detected: {0: 167, 1: 67}\n",
      "Over-sampling performed: Counter({0: 167, 1: 120})\n",
      "Determining classes statistics... 2 classes detected: {0: 167, 1: 120}\n",
      "Under-sampling performed: Counter({1: 120, 0: 48})\n",
      "Determining classes statistics... 2 classes detected: {0: 167, 1: 67}\n",
      "Over-sampling performed: Counter({0: 167, 1: 120})\n",
      "Determining classes statistics... 2 classes detected: {0: 167, 1: 120}\n",
      "Under-sampling performed: Counter({1: 120, 0: 48})\n",
      "Determining classes statistics... 2 classes detected: {0: 167, 1: 67}\n",
      "Over-sampling performed: Counter({0: 167, 1: 120})\n",
      "Determining classes statistics... 2 classes detected: {0: 167, 1: 120}\n",
      "Under-sampling performed: Counter({1: 120, 0: 48})\n",
      "Determining classes statistics... 2 classes detected: {0: 167, 1: 67}\n",
      "Over-sampling performed: Counter({0: 167, 1: 120})\n",
      "Determining classes statistics... 2 classes detected: {0: 167, 1: 120}\n",
      "Under-sampling performed: Counter({1: 120, 0: 48})\n",
      "Determining classes statistics... 2 classes detected: {0: 167, 1: 67}\n",
      "Over-sampling performed: Counter({0: 167, 1: 120})\n",
      "Determining classes statistics... 2 classes detected: {0: 167, 1: 120}\n",
      "Under-sampling performed: Counter({1: 120, 0: 48})\n"
     ]
    }
   ],
   "source": [
    "splitter = pipeline.OverUnderSplitter(test_size=0.2, under_sample=0.4, over_sample=0.8)\n",
    "overunder_scorers = pipeline.monte_carlo_validation(Xp, Yp, models, splitter, n=50)"
   ]
  },
  {
   "cell_type": "code",
   "execution_count": 3822,
   "metadata": {
    "collapsed": false,
    "scrolled": true
   },
   "outputs": [
    {
     "data": {
      "image/png": "[encoded data removed]",
      "text/plain": [
       "<matplotlib.figure.Figure at 0x17b4e73d0>"
      ]
     },
     "metadata": {},
     "output_type": "display_data"
    }
   ],
   "source": [
    "for key, scorer in overunder_scorers.iteritems():\n",
    "    scorer.plot_roc_curve(mean_label=key, mean_line=True, show_all=False)"
   ]
  },
  {
   "cell_type": "code",
   "execution_count": 3823,
   "metadata": {
    "collapsed": false
   },
   "outputs": [
    {
     "data": {
      "text/html": [
       "<div>\n",
       "<table border=\"1\" class=\"dataframe\">\n",
       "  <thead>\n",
       "    <tr style=\"text-align: right;\">\n",
       "      <th></th>\n",
       "      <th>RandomForest</th>\n",
       "      <th>ExtraTrees</th>\n",
       "      <th>GradientBoost</th>\n",
       "      <th>AdaBoost</th>\n",
       "    </tr>\n",
       "  </thead>\n",
       "  <tbody>\n",
       "    <tr>\n",
       "      <th>F1</th>\n",
       "      <td>0.573963</td>\n",
       "      <td>0.585601</td>\n",
       "      <td>0.554825</td>\n",
       "      <td>0.540944</td>\n",
       "    </tr>\n",
       "    <tr>\n",
       "      <th>F2</th>\n",
       "      <td>0.726930</td>\n",
       "      <td>0.719755</td>\n",
       "      <td>0.672136</td>\n",
       "      <td>0.645951</td>\n",
       "    </tr>\n",
       "    <tr>\n",
       "      <th>F0.5</th>\n",
       "      <td>0.474689</td>\n",
       "      <td>0.494410</td>\n",
       "      <td>0.473304</td>\n",
       "      <td>0.466582</td>\n",
       "    </tr>\n",
       "  </tbody>\n",
       "</table>\n",
       "</div>"
      ],
      "text/plain": [
       "      RandomForest  ExtraTrees  GradientBoost  AdaBoost\n",
       "F1        0.573963    0.585601       0.554825  0.540944\n",
       "F2        0.726930    0.719755       0.672136  0.645951\n",
       "F0.5      0.474689    0.494410       0.473304  0.466582"
      ]
     },
     "execution_count": 3823,
     "metadata": {},
     "output_type": "execute_result"
    }
   ],
   "source": [
    "f_score_summary(overunder_scorers)"
   ]
  },
  {
   "cell_type": "code",
   "execution_count": 3824,
   "metadata": {
    "collapsed": false,
    "scrolled": true
   },
   "outputs": [
    {
     "data": {
      "text/html": [
       "<div>\n",
       "<table border=\"1\" class=\"dataframe\">\n",
       "  <thead>\n",
       "    <tr style=\"text-align: right;\">\n",
       "      <th></th>\n",
       "      <th>RandomForest</th>\n",
       "      <th>ExtraTrees</th>\n",
       "      <th>GradientBoost</th>\n",
       "      <th>AdaBoost</th>\n",
       "    </tr>\n",
       "  </thead>\n",
       "  <tbody>\n",
       "    <tr>\n",
       "      <th>count</th>\n",
       "      <td>50.000000</td>\n",
       "      <td>50.000000</td>\n",
       "      <td>50.000000</td>\n",
       "      <td>50.000000</td>\n",
       "    </tr>\n",
       "    <tr>\n",
       "      <th>mean</th>\n",
       "      <td>0.828473</td>\n",
       "      <td>0.838683</td>\n",
       "      <td>0.833866</td>\n",
       "      <td>0.821345</td>\n",
       "    </tr>\n",
       "    <tr>\n",
       "      <th>std</th>\n",
       "      <td>0.053028</td>\n",
       "      <td>0.050751</td>\n",
       "      <td>0.054822</td>\n",
       "      <td>0.059401</td>\n",
       "    </tr>\n",
       "    <tr>\n",
       "      <th>min</th>\n",
       "      <td>0.661064</td>\n",
       "      <td>0.672269</td>\n",
       "      <td>0.665266</td>\n",
       "      <td>0.691877</td>\n",
       "    </tr>\n",
       "    <tr>\n",
       "      <th>25%</th>\n",
       "      <td>0.802871</td>\n",
       "      <td>0.789041</td>\n",
       "      <td>0.798319</td>\n",
       "      <td>0.790966</td>\n",
       "    </tr>\n",
       "    <tr>\n",
       "      <th>50%</th>\n",
       "      <td>0.823179</td>\n",
       "      <td>0.852591</td>\n",
       "      <td>0.832633</td>\n",
       "      <td>0.822829</td>\n",
       "    </tr>\n",
       "    <tr>\n",
       "      <th>75%</th>\n",
       "      <td>0.857843</td>\n",
       "      <td>0.874125</td>\n",
       "      <td>0.869398</td>\n",
       "      <td>0.860994</td>\n",
       "    </tr>\n",
       "    <tr>\n",
       "      <th>max</th>\n",
       "      <td>0.929272</td>\n",
       "      <td>0.936975</td>\n",
       "      <td>0.946779</td>\n",
       "      <td>0.959384</td>\n",
       "    </tr>\n",
       "  </tbody>\n",
       "</table>\n",
       "</div>"
      ],
      "text/plain": [
       "       RandomForest  ExtraTrees  GradientBoost   AdaBoost\n",
       "count     50.000000   50.000000      50.000000  50.000000\n",
       "mean       0.828473    0.838683       0.833866   0.821345\n",
       "std        0.053028    0.050751       0.054822   0.059401\n",
       "min        0.661064    0.672269       0.665266   0.691877\n",
       "25%        0.802871    0.789041       0.798319   0.790966\n",
       "50%        0.823179    0.852591       0.832633   0.822829\n",
       "75%        0.857843    0.874125       0.869398   0.860994\n",
       "max        0.929272    0.936975       0.946779   0.959384"
      ]
     },
     "execution_count": 3824,
     "metadata": {},
     "output_type": "execute_result"
    }
   ],
   "source": [
    "summarise_scorers(smote_scorers)"
   ]
  },
  {
   "cell_type": "markdown",
   "metadata": {},
   "source": [
    "### Testing with SMOTE + Undersampling"
   ]
  },
  {
   "cell_type": "code",
   "execution_count": 3907,
   "metadata": {
    "collapsed": false
   },
   "outputs": [
    {
     "name": "stdout",
     "output_type": "stream",
     "text": [
      "Determining classes statistics... 2 classes detected: {0: 167, 1: 67}\n",
      "Finding the 3 nearest neighbours...done!\n",
      "Creating synthetic samples...Generated 53 new samples ...\n",
      "done!\n",
      "Determining classes statistics... 2 classes detected: {0.0: 167, 1.0: 120}\n",
      "Under-sampling performed: Counter({0.0: 120, 1.0: 120})\n",
      "Determining classes statistics... 2 classes detected: {0: 167, 1: 67}\n",
      "Finding the 3 nearest neighbours...done!\n",
      "Creating synthetic samples...Generated 53 new samples ...\n",
      "done!\n",
      "Determining classes statistics... 2 classes detected: {0.0: 167, 1.0: 120}\n",
      "Under-sampling performed: Counter({0.0: 120, 1.0: 120})\n",
      "Determining classes statistics... 2 classes detected: {0: 167, 1: 67}\n",
      "Finding the 3 nearest neighbours...done!\n",
      "Creating synthetic samples...Generated 53 new samples ...\n",
      "done!\n",
      "Determining classes statistics... 2 classes detected: {0.0: 167, 1.0: 120}\n",
      "Under-sampling performed: Counter({0.0: 120, 1.0: 120})\n",
      "Determining classes statistics... 2 classes detected: {0: 167, 1: 67}\n",
      "Finding the 3 nearest neighbours...done!\n",
      "Creating synthetic samples...Generated 53 new samples ...\n",
      "done!\n",
      "Determining classes statistics... 2 classes detected: {0.0: 167, 1.0: 120}\n",
      "Under-sampling performed: Counter({0.0: 120, 1.0: 120})\n",
      "Determining classes statistics... 2 classes detected: {0: 167, 1: 67}\n",
      "Finding the 3 nearest neighbours...done!\n",
      "Creating synthetic samples...Generated 53 new samples ...\n",
      "done!\n",
      "Determining classes statistics... 2 classes detected: {0.0: 167, 1.0: 120}\n",
      "Under-sampling performed: Counter({0.0: 120, 1.0: 120})\n",
      "Determining classes statistics... 2 classes detected: {0: 167, 1: 67}\n",
      "Finding the 3 nearest neighbours...done!\n",
      "Creating synthetic samples...Generated 53 new samples ...\n",
      "done!\n",
      "Determining classes statistics... 2 classes detected: {0.0: 167, 1.0: 120}\n",
      "Under-sampling performed: Counter({0.0: 120, 1.0: 120})\n",
      "Determining classes statistics... 2 classes detected: {0: 167, 1: 67}\n",
      "Finding the 3 nearest neighbours...done!\n",
      "Creating synthetic samples...Generated 53 new samples ...\n",
      "done!\n",
      "Determining classes statistics... 2 classes detected: {0.0: 167, 1.0: 120}\n",
      "Under-sampling performed: Counter({0.0: 120, 1.0: 120})\n",
      "Determining classes statistics... 2 classes detected: {0: 167, 1: 67}\n",
      "Finding the 3 nearest neighbours...done!\n",
      "Creating synthetic samples...Generated 53 new samples ...\n",
      "done!\n",
      "Determining classes statistics... 2 classes detected: {0.0: 167, 1.0: 120}\n",
      "Under-sampling performed: Counter({0.0: 120, 1.0: 120})\n",
      "Determining classes statistics... 2 classes detected: {0: 167, 1: 67}\n",
      "Finding the 3 nearest neighbours...done!\n",
      "Creating synthetic samples...Generated 53 new samples ...\n",
      "done!\n",
      "Determining classes statistics... 2 classes detected: {0.0: 167, 1.0: 120}\n",
      "Under-sampling performed: Counter({0.0: 120, 1.0: 120})\n",
      "Determining classes statistics... 2 classes detected: {0: 167, 1: 67}\n",
      "Finding the 3 nearest neighbours...done!\n",
      "Creating synthetic samples...Generated 53 new samples ...\n",
      "done!\n",
      "Determining classes statistics... 2 classes detected: {0.0: 167, 1.0: 120}\n",
      "Under-sampling performed: Counter({0.0: 120, 1.0: 120})\n",
      "Determining classes statistics... 2 classes detected: {0: 167, 1: 67}\n",
      "Finding the 3 nearest neighbours...done!\n",
      "Creating synthetic samples...Generated 53 new samples ...\n",
      "done!\n",
      "Determining classes statistics... 2 classes detected: {0.0: 167, 1.0: 120}\n",
      "Under-sampling performed: Counter({0.0: 120, 1.0: 120})\n",
      "Determining classes statistics... 2 classes detected: {0: 167, 1: 67}\n",
      "Finding the 3 nearest neighbours...done!\n",
      "Creating synthetic samples...Generated 53 new samples ...\n",
      "done!\n",
      "Determining classes statistics... 2 classes detected: {0.0: 167, 1.0: 120}\n",
      "Under-sampling performed: Counter({0.0: 120, 1.0: 120})\n",
      "Determining classes statistics... 2 classes detected: {0: 167, 1: 67}\n",
      "Finding the 3 nearest neighbours...done!\n",
      "Creating synthetic samples...Generated 53 new samples ...\n",
      "done!\n",
      "Determining classes statistics... 2 classes detected: {0.0: 167, 1.0: 120}\n",
      "Under-sampling performed: Counter({0.0: 120, 1.0: 120})\n",
      "Determining classes statistics... 2 classes detected: {0: 167, 1: 67}\n",
      "Finding the 3 nearest neighbours...done!\n",
      "Creating synthetic samples...Generated 53 new samples ...\n",
      "done!\n",
      "Determining classes statistics... 2 classes detected: {0.0: 167, 1.0: 120}\n",
      "Under-sampling performed: Counter({0.0: 120, 1.0: 120})\n",
      "Determining classes statistics... 2 classes detected: {0: 167, 1: 67}\n",
      "Finding the 3 nearest neighbours...done!\n",
      "Creating synthetic samples...Generated 53 new samples ...\n",
      "done!\n",
      "Determining classes statistics... 2 classes detected: {0.0: 167, 1.0: 120}\n",
      "Under-sampling performed: Counter({0.0: 120, 1.0: 120})\n",
      "Determining classes statistics... 2 classes detected: {0: 167, 1: 67}\n",
      "Finding the 3 nearest neighbours...done!\n",
      "Creating synthetic samples...Generated 53 new samples ...\n",
      "done!\n",
      "Determining classes statistics... 2 classes detected: {0.0: 167, 1.0: 120}\n",
      "Under-sampling performed: Counter({0.0: 120, 1.0: 120})\n",
      "Determining classes statistics... 2 classes detected: {0: 167, 1: 67}\n",
      "Finding the 3 nearest neighbours...done!\n",
      "Creating synthetic samples...Generated 53 new samples ...\n",
      "done!\n",
      "Determining classes statistics... 2 classes detected: {0.0: 167, 1.0: 120}\n",
      "Under-sampling performed: Counter({0.0: 120, 1.0: 120})\n",
      "Determining classes statistics... 2 classes detected: {0: 167, 1: 67}\n",
      "Finding the 3 nearest neighbours...done!\n",
      "Creating synthetic samples...Generated 53 new samples ...\n",
      "done!\n",
      "Determining classes statistics... 2 classes detected: {0.0: 167, 1.0: 120}\n",
      "Under-sampling performed: Counter({0.0: 120, 1.0: 120})\n",
      "Determining classes statistics... 2 classes detected: {0: 167, 1: 67}\n",
      "Finding the 3 nearest neighbours...done!\n",
      "Creating synthetic samples...Generated 53 new samples ...\n",
      "done!\n",
      "Determining classes statistics... 2 classes detected: {0.0: 167, 1.0: 120}\n",
      "Under-sampling performed: Counter({0.0: 120, 1.0: 120})\n",
      "Determining classes statistics... 2 classes detected: {0: 167, 1: 67}\n",
      "Finding the 3 nearest neighbours...done!\n",
      "Creating synthetic samples...Generated 53 new samples ...\n",
      "done!\n",
      "Determining classes statistics... 2 classes detected: {0.0: 167, 1.0: 120}\n",
      "Under-sampling performed: Counter({0.0: 120, 1.0: 120})\n",
      "Determining classes statistics... 2 classes detected: {0: 167, 1: 67}\n",
      "Finding the 3 nearest neighbours...done!\n",
      "Creating synthetic samples...Generated 53 new samples ...\n",
      "done!\n",
      "Determining classes statistics... 2 classes detected: {0.0: 167, 1.0: 120}\n",
      "Under-sampling performed: Counter({0.0: 120, 1.0: 120})\n",
      "Determining classes statistics... 2 classes detected: {0: 167, 1: 67}\n",
      "Finding the 3 nearest neighbours...done!\n",
      "Creating synthetic samples...Generated 53 new samples ...\n",
      "done!\n",
      "Determining classes statistics... 2 classes detected: {0.0: 167, 1.0: 120}\n",
      "Under-sampling performed: Counter({0.0: 120, 1.0: 120})\n",
      "Determining classes statistics... 2 classes detected: {0: 167, 1: 67}\n",
      "Finding the 3 nearest neighbours...done!\n",
      "Creating synthetic samples...Generated 53 new samples ...\n",
      "done!\n",
      "Determining classes statistics... 2 classes detected: {0.0: 167, 1.0: 120}\n",
      "Under-sampling performed: Counter({0.0: 120, 1.0: 120})\n",
      "Determining classes statistics... 2 classes detected: {0: 167, 1: 67}\n",
      "Finding the 3 nearest neighbours...done!\n",
      "Creating synthetic samples...Generated 53 new samples ...\n",
      "done!\n",
      "Determining classes statistics... 2 classes detected: {0.0: 167, 1.0: 120}\n",
      "Under-sampling performed: Counter({0.0: 120, 1.0: 120})\n",
      "Determining classes statistics... 2 classes detected: {0: 167, 1: 67}\n",
      "Finding the 3 nearest neighbours...done!\n",
      "Creating synthetic samples...Generated 53 new samples ...\n",
      "done!\n",
      "Determining classes statistics... 2 classes detected: {0.0: 167, 1.0: 120}\n",
      "Under-sampling performed: Counter({0.0: 120, 1.0: 120})\n",
      "Determining classes statistics... 2 classes detected: {0: 167, 1: 67}\n",
      "Finding the 3 nearest neighbours...done!\n",
      "Creating synthetic samples...Generated 53 new samples ...\n",
      "done!\n",
      "Determining classes statistics... 2 classes detected: {0.0: 167, 1.0: 120}\n",
      "Under-sampling performed: Counter({0.0: 120, 1.0: 120})\n",
      "Determining classes statistics... 2 classes detected: {0: 167, 1: 67}\n",
      "Finding the 3 nearest neighbours...done!\n",
      "Creating synthetic samples...Generated 53 new samples ...\n",
      "done!\n",
      "Determining classes statistics... 2 classes detected: {0.0: 167, 1.0: 120}\n",
      "Under-sampling performed: Counter({0.0: 120, 1.0: 120})\n",
      "Determining classes statistics... 2 classes detected: {0: 167, 1: 67}\n",
      "Finding the 3 nearest neighbours...done!\n",
      "Creating synthetic samples...Generated 53 new samples ...\n",
      "done!\n",
      "Determining classes statistics... 2 classes detected: {0.0: 167, 1.0: 120}\n",
      "Under-sampling performed: Counter({0.0: 120, 1.0: 120})\n",
      "Determining classes statistics... 2 classes detected: {0: 167, 1: 67}\n",
      "Finding the 3 nearest neighbours...done!\n",
      "Creating synthetic samples...Generated 53 new samples ...\n",
      "done!\n",
      "Determining classes statistics... 2 classes detected: {0.0: 167, 1.0: 120}\n",
      "Under-sampling performed: Counter({0.0: 120, 1.0: 120})\n",
      "Determining classes statistics... 2 classes detected: {0: 167, 1: 67}\n",
      "Finding the 3 nearest neighbours...done!\n",
      "Creating synthetic samples...Generated 53 new samples ...\n",
      "done!\n",
      "Determining classes statistics... 2 classes detected: {0.0: 167, 1.0: 120}\n",
      "Under-sampling performed: Counter({0.0: 120, 1.0: 120})\n",
      "Determining classes statistics... 2 classes detected: {0: 167, 1: 67}\n",
      "Finding the 3 nearest neighbours...done!\n",
      "Creating synthetic samples...Generated 53 new samples ...\n",
      "done!\n",
      "Determining classes statistics... 2 classes detected: {0.0: 167, 1.0: 120}\n",
      "Under-sampling performed: Counter({0.0: 120, 1.0: 120})\n",
      "Determining classes statistics... 2 classes detected: {0: 167, 1: 67}\n",
      "Finding the 3 nearest neighbours...done!\n",
      "Creating synthetic samples...Generated 53 new samples ...\n",
      "done!\n",
      "Determining classes statistics... 2 classes detected: {0.0: 167, 1.0: 120}\n",
      "Under-sampling performed: Counter({0.0: 120, 1.0: 120})\n",
      "Determining classes statistics... 2 classes detected: {0: 167, 1: 67}\n",
      "Finding the 3 nearest neighbours...done!\n",
      "Creating synthetic samples...Generated 53 new samples ...\n",
      "done!\n",
      "Determining classes statistics... 2 classes detected: {0.0: 167, 1.0: 120}\n",
      "Under-sampling performed: Counter({0.0: 120, 1.0: 120})\n",
      "Determining classes statistics... 2 classes detected: {0: 167, 1: 67}\n",
      "Finding the 3 nearest neighbours...done!\n",
      "Creating synthetic samples...Generated 53 new samples ...\n",
      "done!\n",
      "Determining classes statistics... 2 classes detected: {0.0: 167, 1.0: 120}\n",
      "Under-sampling performed: Counter({0.0: 120, 1.0: 120})\n",
      "Determining classes statistics... 2 classes detected: {0: 167, 1: 67}\n",
      "Finding the 3 nearest neighbours...done!\n",
      "Creating synthetic samples...Generated 53 new samples ...\n",
      "done!\n",
      "Determining classes statistics... 2 classes detected: {0.0: 167, 1.0: 120}\n",
      "Under-sampling performed: Counter({0.0: 120, 1.0: 120})\n",
      "Determining classes statistics... 2 classes detected: {0: 167, 1: 67}\n",
      "Finding the 3 nearest neighbours...done!\n",
      "Creating synthetic samples...Generated 53 new samples ...\n",
      "done!\n",
      "Determining classes statistics... 2 classes detected: {0.0: 167, 1.0: 120}\n",
      "Under-sampling performed: Counter({0.0: 120, 1.0: 120})\n",
      "Determining classes statistics... 2 classes detected: {0: 167, 1: 67}\n",
      "Finding the 3 nearest neighbours...done!\n",
      "Creating synthetic samples...Generated 53 new samples ...\n",
      "done!\n",
      "Determining classes statistics... 2 classes detected: {0.0: 167, 1.0: 120}\n",
      "Under-sampling performed: Counter({0.0: 120, 1.0: 120})\n",
      "Determining classes statistics... 2 classes detected: {0: 167, 1: 67}\n",
      "Finding the 3 nearest neighbours...done!\n",
      "Creating synthetic samples...Generated 53 new samples ...\n",
      "done!\n",
      "Determining classes statistics... 2 classes detected: {0.0: 167, 1.0: 120}\n",
      "Under-sampling performed: Counter({0.0: 120, 1.0: 120})\n",
      "Determining classes statistics... 2 classes detected: {0: 167, 1: 67}\n",
      "Finding the 3 nearest neighbours...done!\n",
      "Creating synthetic samples...Generated 53 new samples ...\n",
      "done!\n",
      "Determining classes statistics... 2 classes detected: {0.0: 167, 1.0: 120}\n",
      "Under-sampling performed: Counter({0.0: 120, 1.0: 120})\n",
      "Determining classes statistics... 2 classes detected: {0: 167, 1: 67}\n",
      "Finding the 3 nearest neighbours...done!\n",
      "Creating synthetic samples...Generated 53 new samples ...\n",
      "done!\n",
      "Determining classes statistics... 2 classes detected: {0.0: 167, 1.0: 120}\n",
      "Under-sampling performed: Counter({0.0: 120, 1.0: 120})\n",
      "Determining classes statistics... 2 classes detected: {0: 167, 1: 67}\n",
      "Finding the 3 nearest neighbours...done!\n",
      "Creating synthetic samples...Generated 53 new samples ...\n",
      "done!\n",
      "Determining classes statistics... 2 classes detected: {0.0: 167, 1.0: 120}\n",
      "Under-sampling performed: Counter({0.0: 120, 1.0: 120})\n",
      "Determining classes statistics... 2 classes detected: {0: 167, 1: 67}\n",
      "Finding the 3 nearest neighbours...done!\n",
      "Creating synthetic samples...Generated 53 new samples ...\n",
      "done!\n",
      "Determining classes statistics... 2 classes detected: {0.0: 167, 1.0: 120}\n",
      "Under-sampling performed: Counter({0.0: 120, 1.0: 120})\n",
      "Determining classes statistics... 2 classes detected: {0: 167, 1: 67}\n",
      "Finding the 3 nearest neighbours...done!\n",
      "Creating synthetic samples...Generated 53 new samples ...\n",
      "done!\n",
      "Determining classes statistics... 2 classes detected: {0.0: 167, 1.0: 120}\n",
      "Under-sampling performed: Counter({0.0: 120, 1.0: 120})\n",
      "Determining classes statistics... 2 classes detected: {0: 167, 1: 67}\n",
      "Finding the 3 nearest neighbours...done!\n",
      "Creating synthetic samples...Generated 53 new samples ...\n",
      "done!\n",
      "Determining classes statistics... 2 classes detected: {0.0: 167, 1.0: 120}\n",
      "Under-sampling performed: Counter({0.0: 120, 1.0: 120})\n",
      "Determining classes statistics... 2 classes detected: {0: 167, 1: 67}\n",
      "Finding the 3 nearest neighbours...done!\n",
      "Creating synthetic samples...Generated 53 new samples ...\n",
      "done!\n",
      "Determining classes statistics... 2 classes detected: {0.0: 167, 1.0: 120}\n",
      "Under-sampling performed: Counter({0.0: 120, 1.0: 120})\n",
      "Determining classes statistics... 2 classes detected: {0: 167, 1: 67}\n",
      "Finding the 3 nearest neighbours...done!\n",
      "Creating synthetic samples...Generated 53 new samples ...\n",
      "done!\n",
      "Determining classes statistics... 2 classes detected: {0.0: 167, 1.0: 120}\n",
      "Under-sampling performed: Counter({0.0: 120, 1.0: 120})\n",
      "Determining classes statistics... 2 classes detected: {0: 167, 1: 67}\n",
      "Finding the 3 nearest neighbours...done!\n",
      "Creating synthetic samples...Generated 53 new samples ...\n",
      "done!\n",
      "Determining classes statistics... 2 classes detected: {0.0: 167, 1.0: 120}\n",
      "Under-sampling performed: Counter({0.0: 120, 1.0: 120})\n",
      "Determining classes statistics... 2 classes detected: {0: 167, 1: 67}\n",
      "Finding the 3 nearest neighbours...done!\n",
      "Creating synthetic samples...Generated 53 new samples ...\n",
      "done!\n",
      "Determining classes statistics... 2 classes detected: {0.0: 167, 1.0: 120}\n",
      "Under-sampling performed: Counter({0.0: 120, 1.0: 120})\n",
      "Determining classes statistics... 2 classes detected: {0: 167, 1: 67}\n",
      "Finding the 3 nearest neighbours...done!\n",
      "Creating synthetic samples...Generated 53 new samples ...\n",
      "done!\n",
      "Determining classes statistics... 2 classes detected: {0.0: 167, 1.0: 120}\n",
      "Under-sampling performed: Counter({0.0: 120, 1.0: 120})\n",
      "Determining classes statistics... 2 classes detected: {0: 167, 1: 67}\n",
      "Finding the 3 nearest neighbours...done!\n",
      "Creating synthetic samples...Generated 53 new samples ...\n",
      "done!\n",
      "Determining classes statistics... 2 classes detected: {0.0: 167, 1.0: 120}\n",
      "Under-sampling performed: Counter({0.0: 120, 1.0: 120})\n"
     ]
    }
   ],
   "source": [
    "smote_params = {'kind': 'regular', 'k':3, 'ratio': 0.8, 'verbose': 1}\n",
    "splitter = pipeline.SMOTESplitter(test_size=0.2, under_sample=1.0, smote_params=smote_params)\n",
    "smote_scorers = pipeline.monte_carlo_validation(Xp, Yp, models, splitter, n=50)"
   ]
  },
  {
   "cell_type": "code",
   "execution_count": 3910,
   "metadata": {
    "collapsed": false
   },
   "outputs": [
    {
     "data": {
      "image/png": "[encoded data removed]",
      "text/plain": [
       "<matplotlib.figure.Figure at 0x16b2eec90>"
      ]
     },
     "metadata": {},
     "output_type": "display_data"
    }
   ],
   "source": [
    "for key, scorer in smote_scorers.iteritems():\n",
    "    scorer.plot_roc_curve(mean_label=key, mean_line=True, show_all=False)\n",
    "    \n",
    "plt.plot(np.arange(0,1.1, 0.1), np.arange(0,1.1, 0.1), '--')\n",
    "plt.savefig(\"img/roc_smote.png\")"
   ]
  },
  {
   "cell_type": "code",
   "execution_count": 3911,
   "metadata": {
    "collapsed": false,
    "scrolled": true
   },
   "outputs": [
    {
     "name": "stdout",
     "output_type": "stream",
     "text": [
      "\\begin{tabular}{lrrrr}\n",
      "\\toprule\n",
      "{} &  RandomForest &  ExtraTrees &  GradientBoost &  AdaBoost \\\\\n",
      "\\midrule\n",
      "F1   &      0.614570 &    0.613840 &       0.615768 &  0.611035 \\\\\n",
      "F2   &      0.648492 &    0.650097 &       0.648949 &  0.643250 \\\\\n",
      "F0.5 &      0.587619 &    0.585145 &       0.589706 &  0.586983 \\\\\n",
      "\\bottomrule\n",
      "\\end{tabular}\n",
      "\n"
     ]
    },
    {
     "data": {
      "text/html": [
       "<div>\n",
       "<table border=\"1\" class=\"dataframe\">\n",
       "  <thead>\n",
       "    <tr style=\"text-align: right;\">\n",
       "      <th></th>\n",
       "      <th>RandomForest</th>\n",
       "      <th>ExtraTrees</th>\n",
       "      <th>GradientBoost</th>\n",
       "      <th>AdaBoost</th>\n",
       "    </tr>\n",
       "  </thead>\n",
       "  <tbody>\n",
       "    <tr>\n",
       "      <th>F1</th>\n",
       "      <td>0.614570</td>\n",
       "      <td>0.613840</td>\n",
       "      <td>0.615768</td>\n",
       "      <td>0.611035</td>\n",
       "    </tr>\n",
       "    <tr>\n",
       "      <th>F2</th>\n",
       "      <td>0.648492</td>\n",
       "      <td>0.650097</td>\n",
       "      <td>0.648949</td>\n",
       "      <td>0.643250</td>\n",
       "    </tr>\n",
       "    <tr>\n",
       "      <th>F0.5</th>\n",
       "      <td>0.587619</td>\n",
       "      <td>0.585145</td>\n",
       "      <td>0.589706</td>\n",
       "      <td>0.586983</td>\n",
       "    </tr>\n",
       "  </tbody>\n",
       "</table>\n",
       "</div>"
      ],
      "text/plain": [
       "      RandomForest  ExtraTrees  GradientBoost  AdaBoost\n",
       "F1        0.614570    0.613840       0.615768  0.611035\n",
       "F2        0.648492    0.650097       0.648949  0.643250\n",
       "F0.5      0.587619    0.585145       0.589706  0.586983"
      ]
     },
     "execution_count": 3911,
     "metadata": {},
     "output_type": "execute_result"
    }
   ],
   "source": [
    "smote_f_scores = f_score_summary(smote_scorers)\n",
    "print smote_f_scores.to_latex()\n",
    "smote_f_scores"
   ]
  },
  {
   "cell_type": "markdown",
   "metadata": {},
   "source": [
    "## Best Classifier"
   ]
  },
  {
   "cell_type": "code",
   "execution_count": 4060,
   "metadata": {
    "collapsed": false
   },
   "outputs": [],
   "source": [
    "spiro_features = create_spiro_features(Xp)\n",
    "poly_features = create_poly_features(Xp, ['PRE4', 'PRE5'])\n",
    "Xp_all = pd.concat([Xp, poly_features, spiro_features], axis=1)\n",
    "Xp_all.drop(['DGN_1', 'DGN_8'], axis=1, inplace=True)\n",
    "for model in models:\n",
    "    model['train_data'] = (Xp_all, Yp)\n",
    "\n",
    "scorers = pipeline.repeated_cross_fold_validation(models, n=10, k=5)"
   ]
  },
  {
   "cell_type": "code",
   "execution_count": 4061,
   "metadata": {
    "collapsed": false
   },
   "outputs": [
    {
     "data": {
      "text/plain": [
       "[<matplotlib.lines.Line2D at 0x19f05aa90>]"
      ]
     },
     "execution_count": 4061,
     "metadata": {},
     "output_type": "execute_result"
    },
    {
     "data": {
      "image/png": "[encoded data removed]",
      "text/plain": [
       "<matplotlib.figure.Figure at 0x19f05a810>"
      ]
     },
     "metadata": {},
     "output_type": "display_data"
    }
   ],
   "source": [
    "for key, scorer in scorers.iteritems():\n",
    "    scorer.plot_roc_curve(mean_label=key, mean_line=True, show_all=False)\n",
    "    \n",
    "plt.plot(np.arange(0,1.1, 0.1), np.arange(0,1.1, 0.1), '--')"
   ]
  },
  {
   "cell_type": "code",
   "execution_count": 3981,
   "metadata": {
    "collapsed": false
   },
   "outputs": [
    {
     "data": {
      "text/html": [
       "<div>\n",
       "<table border=\"1\" class=\"dataframe\">\n",
       "  <thead>\n",
       "    <tr style=\"text-align: right;\">\n",
       "      <th></th>\n",
       "      <th>RandomForest</th>\n",
       "      <th>ExtraTrees</th>\n",
       "      <th>GradientBoost</th>\n",
       "      <th>AdaBoost</th>\n",
       "    </tr>\n",
       "  </thead>\n",
       "  <tbody>\n",
       "    <tr>\n",
       "      <th>F1</th>\n",
       "      <td>0.559570</td>\n",
       "      <td>0.608095</td>\n",
       "      <td>0.617726</td>\n",
       "      <td>0.624809</td>\n",
       "    </tr>\n",
       "    <tr>\n",
       "      <th>F2</th>\n",
       "      <td>0.472801</td>\n",
       "      <td>0.538665</td>\n",
       "      <td>0.556561</td>\n",
       "      <td>0.575048</td>\n",
       "    </tr>\n",
       "    <tr>\n",
       "      <th>F0.5</th>\n",
       "      <td>0.699614</td>\n",
       "      <td>0.703232</td>\n",
       "      <td>0.699795</td>\n",
       "      <td>0.689190</td>\n",
       "    </tr>\n",
       "  </tbody>\n",
       "</table>\n",
       "</div>"
      ],
      "text/plain": [
       "      RandomForest  ExtraTrees  GradientBoost  AdaBoost\n",
       "F1        0.559570    0.608095       0.617726  0.624809\n",
       "F2        0.472801    0.538665       0.556561  0.575048\n",
       "F0.5      0.699614    0.703232       0.699795  0.689190"
      ]
     },
     "execution_count": 3981,
     "metadata": {},
     "output_type": "execute_result"
    }
   ],
   "source": [
    "f_scores = f_score_summary(scorers)\n",
    "f_scores"
   ]
  },
  {
   "cell_type": "markdown",
   "metadata": {},
   "source": [
    "## Predicton on Test Set\n",
    "\n",
    "Finally, based on the best combination of techniques used in the preceeding sections, and using the classifier with the best AUC performance, make probalistic predictions based on the unlabelled test data."
   ]
  },
  {
   "cell_type": "code",
   "execution_count": 4083,
   "metadata": {
    "collapsed": false
   },
   "outputs": [
    {
     "name": "stdout",
     "output_type": "stream",
     "text": [
      "24 24\n"
     ]
    }
   ],
   "source": [
    "Xtest, _ = preprocess(test, y_data=None)\n",
    "Xtest = Xtest.drop('test_id', axis=1)\n",
    "\n",
    "test_spiro_features = create_spiro_features(Xtest)\n",
    "test_poly_features = create_poly_features(Xtest, ['PRE4', 'PRE5'])\n",
    "Xtest = pd.concat([Xtest, test_spiro_features, test_poly_features], axis=1)\n",
    "\n",
    "print Xtest.columns.size, Xp_all.columns.size"
   ]
  },
  {
   "cell_type": "code",
   "execution_count": 4084,
   "metadata": {
    "collapsed": false
   },
   "outputs": [],
   "source": [
    "gbc_final = models[3]['model']\n",
    "gbc_final.fit(Xp_all, Yp)\n",
    "predicted_prob = pd.Series(gbc_final.predict_proba(Xtest)[:, 0])"
   ]
  },
  {
   "cell_type": "code",
   "execution_count": 4085,
   "metadata": {
    "collapsed": false
   },
   "outputs": [
    {
     "data": {
      "text/html": [
       "<div>\n",
       "<table border=\"1\" class=\"dataframe\">\n",
       "  <thead>\n",
       "    <tr style=\"text-align: right;\">\n",
       "      <th></th>\n",
       "      <th>test_id</th>\n",
       "      <th>predicted_label</th>\n",
       "      <th>predicted_output</th>\n",
       "    </tr>\n",
       "  </thead>\n",
       "  <tbody>\n",
       "    <tr>\n",
       "      <th>0</th>\n",
       "      <td>1</td>\n",
       "      <td>1.0</td>\n",
       "      <td>0.948372</td>\n",
       "    </tr>\n",
       "    <tr>\n",
       "      <th>1</th>\n",
       "      <td>2</td>\n",
       "      <td>1.0</td>\n",
       "      <td>0.672873</td>\n",
       "    </tr>\n",
       "    <tr>\n",
       "      <th>2</th>\n",
       "      <td>3</td>\n",
       "      <td>0.0</td>\n",
       "      <td>0.413674</td>\n",
       "    </tr>\n",
       "    <tr>\n",
       "      <th>3</th>\n",
       "      <td>4</td>\n",
       "      <td>0.0</td>\n",
       "      <td>0.326106</td>\n",
       "    </tr>\n",
       "    <tr>\n",
       "      <th>4</th>\n",
       "      <td>5</td>\n",
       "      <td>0.0</td>\n",
       "      <td>0.056265</td>\n",
       "    </tr>\n",
       "    <tr>\n",
       "      <th>5</th>\n",
       "      <td>6</td>\n",
       "      <td>1.0</td>\n",
       "      <td>0.834277</td>\n",
       "    </tr>\n",
       "    <tr>\n",
       "      <th>6</th>\n",
       "      <td>7</td>\n",
       "      <td>1.0</td>\n",
       "      <td>0.806592</td>\n",
       "    </tr>\n",
       "    <tr>\n",
       "      <th>7</th>\n",
       "      <td>8</td>\n",
       "      <td>1.0</td>\n",
       "      <td>0.729185</td>\n",
       "    </tr>\n",
       "    <tr>\n",
       "      <th>8</th>\n",
       "      <td>9</td>\n",
       "      <td>1.0</td>\n",
       "      <td>0.864669</td>\n",
       "    </tr>\n",
       "    <tr>\n",
       "      <th>9</th>\n",
       "      <td>10</td>\n",
       "      <td>0.0</td>\n",
       "      <td>0.017802</td>\n",
       "    </tr>\n",
       "    <tr>\n",
       "      <th>10</th>\n",
       "      <td>11</td>\n",
       "      <td>1.0</td>\n",
       "      <td>0.848263</td>\n",
       "    </tr>\n",
       "    <tr>\n",
       "      <th>11</th>\n",
       "      <td>12</td>\n",
       "      <td>1.0</td>\n",
       "      <td>0.810005</td>\n",
       "    </tr>\n",
       "    <tr>\n",
       "      <th>12</th>\n",
       "      <td>13</td>\n",
       "      <td>0.0</td>\n",
       "      <td>0.115374</td>\n",
       "    </tr>\n",
       "    <tr>\n",
       "      <th>13</th>\n",
       "      <td>14</td>\n",
       "      <td>1.0</td>\n",
       "      <td>0.538317</td>\n",
       "    </tr>\n",
       "    <tr>\n",
       "      <th>14</th>\n",
       "      <td>15</td>\n",
       "      <td>1.0</td>\n",
       "      <td>0.649004</td>\n",
       "    </tr>\n",
       "    <tr>\n",
       "      <th>15</th>\n",
       "      <td>16</td>\n",
       "      <td>1.0</td>\n",
       "      <td>0.779527</td>\n",
       "    </tr>\n",
       "    <tr>\n",
       "      <th>16</th>\n",
       "      <td>17</td>\n",
       "      <td>0.0</td>\n",
       "      <td>0.456595</td>\n",
       "    </tr>\n",
       "    <tr>\n",
       "      <th>17</th>\n",
       "      <td>18</td>\n",
       "      <td>1.0</td>\n",
       "      <td>0.878872</td>\n",
       "    </tr>\n",
       "    <tr>\n",
       "      <th>18</th>\n",
       "      <td>19</td>\n",
       "      <td>1.0</td>\n",
       "      <td>0.881226</td>\n",
       "    </tr>\n",
       "    <tr>\n",
       "      <th>19</th>\n",
       "      <td>20</td>\n",
       "      <td>0.0</td>\n",
       "      <td>0.450626</td>\n",
       "    </tr>\n",
       "    <tr>\n",
       "      <th>20</th>\n",
       "      <td>21</td>\n",
       "      <td>1.0</td>\n",
       "      <td>0.584035</td>\n",
       "    </tr>\n",
       "    <tr>\n",
       "      <th>21</th>\n",
       "      <td>22</td>\n",
       "      <td>0.0</td>\n",
       "      <td>0.224294</td>\n",
       "    </tr>\n",
       "    <tr>\n",
       "      <th>22</th>\n",
       "      <td>23</td>\n",
       "      <td>0.0</td>\n",
       "      <td>0.289585</td>\n",
       "    </tr>\n",
       "    <tr>\n",
       "      <th>23</th>\n",
       "      <td>24</td>\n",
       "      <td>1.0</td>\n",
       "      <td>0.698764</td>\n",
       "    </tr>\n",
       "    <tr>\n",
       "      <th>24</th>\n",
       "      <td>25</td>\n",
       "      <td>1.0</td>\n",
       "      <td>0.966193</td>\n",
       "    </tr>\n",
       "    <tr>\n",
       "      <th>25</th>\n",
       "      <td>26</td>\n",
       "      <td>1.0</td>\n",
       "      <td>0.914535</td>\n",
       "    </tr>\n",
       "    <tr>\n",
       "      <th>26</th>\n",
       "      <td>27</td>\n",
       "      <td>0.0</td>\n",
       "      <td>0.321268</td>\n",
       "    </tr>\n",
       "    <tr>\n",
       "      <th>27</th>\n",
       "      <td>28</td>\n",
       "      <td>1.0</td>\n",
       "      <td>0.860401</td>\n",
       "    </tr>\n",
       "    <tr>\n",
       "      <th>28</th>\n",
       "      <td>29</td>\n",
       "      <td>1.0</td>\n",
       "      <td>0.740382</td>\n",
       "    </tr>\n",
       "    <tr>\n",
       "      <th>29</th>\n",
       "      <td>30</td>\n",
       "      <td>1.0</td>\n",
       "      <td>0.695548</td>\n",
       "    </tr>\n",
       "    <tr>\n",
       "      <th>...</th>\n",
       "      <td>...</td>\n",
       "      <td>...</td>\n",
       "      <td>...</td>\n",
       "    </tr>\n",
       "    <tr>\n",
       "      <th>70</th>\n",
       "      <td>71</td>\n",
       "      <td>1.0</td>\n",
       "      <td>0.939841</td>\n",
       "    </tr>\n",
       "    <tr>\n",
       "      <th>71</th>\n",
       "      <td>72</td>\n",
       "      <td>1.0</td>\n",
       "      <td>0.960235</td>\n",
       "    </tr>\n",
       "    <tr>\n",
       "      <th>72</th>\n",
       "      <td>73</td>\n",
       "      <td>1.0</td>\n",
       "      <td>0.809710</td>\n",
       "    </tr>\n",
       "    <tr>\n",
       "      <th>73</th>\n",
       "      <td>74</td>\n",
       "      <td>1.0</td>\n",
       "      <td>0.916319</td>\n",
       "    </tr>\n",
       "    <tr>\n",
       "      <th>74</th>\n",
       "      <td>75</td>\n",
       "      <td>1.0</td>\n",
       "      <td>0.708242</td>\n",
       "    </tr>\n",
       "    <tr>\n",
       "      <th>75</th>\n",
       "      <td>76</td>\n",
       "      <td>1.0</td>\n",
       "      <td>0.890017</td>\n",
       "    </tr>\n",
       "    <tr>\n",
       "      <th>76</th>\n",
       "      <td>77</td>\n",
       "      <td>0.0</td>\n",
       "      <td>0.415826</td>\n",
       "    </tr>\n",
       "    <tr>\n",
       "      <th>77</th>\n",
       "      <td>78</td>\n",
       "      <td>1.0</td>\n",
       "      <td>0.625773</td>\n",
       "    </tr>\n",
       "    <tr>\n",
       "      <th>78</th>\n",
       "      <td>79</td>\n",
       "      <td>1.0</td>\n",
       "      <td>0.915442</td>\n",
       "    </tr>\n",
       "    <tr>\n",
       "      <th>79</th>\n",
       "      <td>80</td>\n",
       "      <td>1.0</td>\n",
       "      <td>0.772913</td>\n",
       "    </tr>\n",
       "    <tr>\n",
       "      <th>80</th>\n",
       "      <td>81</td>\n",
       "      <td>1.0</td>\n",
       "      <td>0.904518</td>\n",
       "    </tr>\n",
       "    <tr>\n",
       "      <th>81</th>\n",
       "      <td>82</td>\n",
       "      <td>1.0</td>\n",
       "      <td>0.860633</td>\n",
       "    </tr>\n",
       "    <tr>\n",
       "      <th>82</th>\n",
       "      <td>83</td>\n",
       "      <td>1.0</td>\n",
       "      <td>0.932651</td>\n",
       "    </tr>\n",
       "    <tr>\n",
       "      <th>83</th>\n",
       "      <td>84</td>\n",
       "      <td>0.0</td>\n",
       "      <td>0.301895</td>\n",
       "    </tr>\n",
       "    <tr>\n",
       "      <th>84</th>\n",
       "      <td>85</td>\n",
       "      <td>0.0</td>\n",
       "      <td>0.132390</td>\n",
       "    </tr>\n",
       "    <tr>\n",
       "      <th>85</th>\n",
       "      <td>86</td>\n",
       "      <td>1.0</td>\n",
       "      <td>0.550989</td>\n",
       "    </tr>\n",
       "    <tr>\n",
       "      <th>86</th>\n",
       "      <td>87</td>\n",
       "      <td>1.0</td>\n",
       "      <td>0.886839</td>\n",
       "    </tr>\n",
       "    <tr>\n",
       "      <th>87</th>\n",
       "      <td>88</td>\n",
       "      <td>1.0</td>\n",
       "      <td>0.877086</td>\n",
       "    </tr>\n",
       "    <tr>\n",
       "      <th>88</th>\n",
       "      <td>89</td>\n",
       "      <td>0.0</td>\n",
       "      <td>0.233983</td>\n",
       "    </tr>\n",
       "    <tr>\n",
       "      <th>89</th>\n",
       "      <td>90</td>\n",
       "      <td>1.0</td>\n",
       "      <td>0.824413</td>\n",
       "    </tr>\n",
       "    <tr>\n",
       "      <th>90</th>\n",
       "      <td>91</td>\n",
       "      <td>1.0</td>\n",
       "      <td>0.659459</td>\n",
       "    </tr>\n",
       "    <tr>\n",
       "      <th>91</th>\n",
       "      <td>92</td>\n",
       "      <td>1.0</td>\n",
       "      <td>0.938119</td>\n",
       "    </tr>\n",
       "    <tr>\n",
       "      <th>92</th>\n",
       "      <td>93</td>\n",
       "      <td>1.0</td>\n",
       "      <td>0.934539</td>\n",
       "    </tr>\n",
       "    <tr>\n",
       "      <th>93</th>\n",
       "      <td>94</td>\n",
       "      <td>1.0</td>\n",
       "      <td>0.758052</td>\n",
       "    </tr>\n",
       "    <tr>\n",
       "      <th>94</th>\n",
       "      <td>95</td>\n",
       "      <td>1.0</td>\n",
       "      <td>0.936733</td>\n",
       "    </tr>\n",
       "    <tr>\n",
       "      <th>95</th>\n",
       "      <td>96</td>\n",
       "      <td>0.0</td>\n",
       "      <td>0.061116</td>\n",
       "    </tr>\n",
       "    <tr>\n",
       "      <th>96</th>\n",
       "      <td>97</td>\n",
       "      <td>1.0</td>\n",
       "      <td>0.844611</td>\n",
       "    </tr>\n",
       "    <tr>\n",
       "      <th>97</th>\n",
       "      <td>98</td>\n",
       "      <td>1.0</td>\n",
       "      <td>0.913141</td>\n",
       "    </tr>\n",
       "    <tr>\n",
       "      <th>98</th>\n",
       "      <td>99</td>\n",
       "      <td>1.0</td>\n",
       "      <td>0.927978</td>\n",
       "    </tr>\n",
       "    <tr>\n",
       "      <th>99</th>\n",
       "      <td>100</td>\n",
       "      <td>0.0</td>\n",
       "      <td>0.305664</td>\n",
       "    </tr>\n",
       "  </tbody>\n",
       "</table>\n",
       "<p>100 rows × 3 columns</p>\n",
       "</div>"
      ],
      "text/plain": [
       "    test_id  predicted_label  predicted_output\n",
       "0         1              1.0          0.948372\n",
       "1         2              1.0          0.672873\n",
       "2         3              0.0          0.413674\n",
       "3         4              0.0          0.326106\n",
       "4         5              0.0          0.056265\n",
       "5         6              1.0          0.834277\n",
       "6         7              1.0          0.806592\n",
       "7         8              1.0          0.729185\n",
       "8         9              1.0          0.864669\n",
       "9        10              0.0          0.017802\n",
       "10       11              1.0          0.848263\n",
       "11       12              1.0          0.810005\n",
       "12       13              0.0          0.115374\n",
       "13       14              1.0          0.538317\n",
       "14       15              1.0          0.649004\n",
       "15       16              1.0          0.779527\n",
       "16       17              0.0          0.456595\n",
       "17       18              1.0          0.878872\n",
       "18       19              1.0          0.881226\n",
       "19       20              0.0          0.450626\n",
       "20       21              1.0          0.584035\n",
       "21       22              0.0          0.224294\n",
       "22       23              0.0          0.289585\n",
       "23       24              1.0          0.698764\n",
       "24       25              1.0          0.966193\n",
       "25       26              1.0          0.914535\n",
       "26       27              0.0          0.321268\n",
       "27       28              1.0          0.860401\n",
       "28       29              1.0          0.740382\n",
       "29       30              1.0          0.695548\n",
       "..      ...              ...               ...\n",
       "70       71              1.0          0.939841\n",
       "71       72              1.0          0.960235\n",
       "72       73              1.0          0.809710\n",
       "73       74              1.0          0.916319\n",
       "74       75              1.0          0.708242\n",
       "75       76              1.0          0.890017\n",
       "76       77              0.0          0.415826\n",
       "77       78              1.0          0.625773\n",
       "78       79              1.0          0.915442\n",
       "79       80              1.0          0.772913\n",
       "80       81              1.0          0.904518\n",
       "81       82              1.0          0.860633\n",
       "82       83              1.0          0.932651\n",
       "83       84              0.0          0.301895\n",
       "84       85              0.0          0.132390\n",
       "85       86              1.0          0.550989\n",
       "86       87              1.0          0.886839\n",
       "87       88              1.0          0.877086\n",
       "88       89              0.0          0.233983\n",
       "89       90              1.0          0.824413\n",
       "90       91              1.0          0.659459\n",
       "91       92              1.0          0.938119\n",
       "92       93              1.0          0.934539\n",
       "93       94              1.0          0.758052\n",
       "94       95              1.0          0.936733\n",
       "95       96              0.0          0.061116\n",
       "96       97              1.0          0.844611\n",
       "97       98              1.0          0.913141\n",
       "98       99              1.0          0.927978\n",
       "99      100              0.0          0.305664\n",
       "\n",
       "[100 rows x 3 columns]"
      ]
     },
     "execution_count": 4085,
     "metadata": {},
     "output_type": "execute_result"
    }
   ],
   "source": [
    "predicted_label = predicted_prob.copy()\n",
    "predicted_label[predicted_label>=0.5] = 1\n",
    "predicted_label[predicted_label<0.5] = 0\n",
    "\n",
    "final_submission = pd.concat([test.test_id, predicted_label, predicted_prob], axis=1)\n",
    "final_submission.columns = ['test_id', 'predicted_label', 'predicted_output']\n",
    "final_submission"
   ]
  }
 ],
 "metadata": {
  "kernelspec": {
   "display_name": "Python 2",
   "language": "python",
   "name": "python2"
  },
  "language_info": {
   "codemirror_mode": {
    "name": "ipython",
    "version": 2
   },
   "file_extension": ".py",
   "mimetype": "text/x-python",
   "name": "python",
   "nbconvert_exporter": "python",
   "pygments_lexer": "ipython2",
   "version": "2.7.10"
  }
 },
 "nbformat": 4,
 "nbformat_minor": 0
}
