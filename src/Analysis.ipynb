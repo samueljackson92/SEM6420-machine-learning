{
 "cells": [
  {
   "cell_type": "code",
   "execution_count": 1536,
   "metadata": {
    "collapsed": false
   },
   "outputs": [],
   "source": [
    "%matplotlib inline\n",
    "import pandas as pd\n",
    "import numpy as np\n",
    "import matplotlib.pyplot as plt"
   ]
  },
  {
   "cell_type": "code",
   "execution_count": 2556,
   "metadata": {
    "collapsed": true
   },
   "outputs": [],
   "source": [
    "df = pd.DataFrame.from_csv(\"../data/train_risk.csv\", index_col=False)\n",
    "test = pd.DataFrame.from_csv(\"../data/test_risk.csv\", index_col=False)\n",
    "X, y = df[df.columns[:-1]], df[df.columns[-1]]"
   ]
  },
  {
   "cell_type": "markdown",
   "metadata": {},
   "source": [
    "## Analysing the Data\n",
    "\n",
    "Looking at the difference between the number of positive and negative samples in the dataset shows that there are more negative examples than positive examples. Only 28% of all samples are of the positive class."
   ]
  },
  {
   "cell_type": "code",
   "execution_count": 428,
   "metadata": {
    "collapsed": false
   },
   "outputs": [
    {
     "name": "stdout",
     "output_type": "stream",
     "text": [
      "Total number of samples: 300\n",
      "Number of positive samples: 84\n",
      "Number of negative samples: 216\n",
      "Ratio of positive to total number of samples: 0.28\n"
     ]
    }
   ],
   "source": [
    "def class_balance_summary(y):\n",
    "    \"\"\" Summarise the imbalance in the dataset\"\"\"\n",
    "    total_size = y.size\n",
    "    negative_class = y[y == 0].size\n",
    "    positive_class = y[y > 0].size\n",
    "    ratio = positive_class / float(positive_class + negative_class)\n",
    "\n",
    "    print \"Total number of samples: %d\" % total_size\n",
    "    print \"Number of positive samples: %d\" % positive_class\n",
    "    print \"Number of negative samples: %d\" % negative_class\n",
    "    print \"Ratio of positive to total number of samples: %.2f\" % ratio\n",
    "\n",
    "\n",
    "class_balance_summary(y)"
   ]
  },
  {
   "cell_type": "markdown",
   "metadata": {},
   "source": [
    "Some initial observations about the data before it is preprocessed:\n",
    " - PRE32 is all zeros. This can be removed\n",
    " - PRE14 looks catagorical. Should be split into multiple binary variables\n",
    " - DGN looks catagorical. As above.\n",
    " - PRE5 looks to have some outliers. See box plot below. Potentially remove or split into two extra variable?"
   ]
  },
  {
   "cell_type": "code",
   "execution_count": 2391,
   "metadata": {
    "collapsed": false,
    "scrolled": false
   },
   "outputs": [
    {
     "data": {
      "text/html": [
       "<div>\n",
       "<table border=\"1\" class=\"dataframe\">\n",
       "  <thead>\n",
       "    <tr style=\"text-align: right;\">\n",
       "      <th></th>\n",
       "      <th>DGN</th>\n",
       "      <th>PRE4</th>\n",
       "      <th>PRE5</th>\n",
       "      <th>PRE6</th>\n",
       "      <th>PRE7</th>\n",
       "      <th>PRE8</th>\n",
       "      <th>PRE9</th>\n",
       "      <th>PRE10</th>\n",
       "      <th>PRE11</th>\n",
       "      <th>PRE14</th>\n",
       "      <th>PRE17</th>\n",
       "      <th>PRE19</th>\n",
       "      <th>PRE25</th>\n",
       "      <th>PRE30</th>\n",
       "      <th>PRE32</th>\n",
       "      <th>AGE</th>\n",
       "    </tr>\n",
       "  </thead>\n",
       "  <tbody>\n",
       "    <tr>\n",
       "      <th>0</th>\n",
       "      <td>3</td>\n",
       "      <td>2.08</td>\n",
       "      <td>1.52</td>\n",
       "      <td>1</td>\n",
       "      <td>0</td>\n",
       "      <td>0</td>\n",
       "      <td>0</td>\n",
       "      <td>1</td>\n",
       "      <td>0</td>\n",
       "      <td>4</td>\n",
       "      <td>0</td>\n",
       "      <td>0</td>\n",
       "      <td>0</td>\n",
       "      <td>1</td>\n",
       "      <td>0</td>\n",
       "      <td>49</td>\n",
       "    </tr>\n",
       "    <tr>\n",
       "      <th>1</th>\n",
       "      <td>3</td>\n",
       "      <td>4.36</td>\n",
       "      <td>3.76</td>\n",
       "      <td>0</td>\n",
       "      <td>0</td>\n",
       "      <td>0</td>\n",
       "      <td>0</td>\n",
       "      <td>0</td>\n",
       "      <td>0</td>\n",
       "      <td>1</td>\n",
       "      <td>0</td>\n",
       "      <td>0</td>\n",
       "      <td>0</td>\n",
       "      <td>1</td>\n",
       "      <td>0</td>\n",
       "      <td>72</td>\n",
       "    </tr>\n",
       "    <tr>\n",
       "      <th>2</th>\n",
       "      <td>3</td>\n",
       "      <td>3.52</td>\n",
       "      <td>2.28</td>\n",
       "      <td>0</td>\n",
       "      <td>0</td>\n",
       "      <td>0</td>\n",
       "      <td>0</td>\n",
       "      <td>0</td>\n",
       "      <td>0</td>\n",
       "      <td>3</td>\n",
       "      <td>0</td>\n",
       "      <td>0</td>\n",
       "      <td>0</td>\n",
       "      <td>1</td>\n",
       "      <td>0</td>\n",
       "      <td>51</td>\n",
       "    </tr>\n",
       "    <tr>\n",
       "      <th>3</th>\n",
       "      <td>3</td>\n",
       "      <td>3.36</td>\n",
       "      <td>2.67</td>\n",
       "      <td>1</td>\n",
       "      <td>0</td>\n",
       "      <td>0</td>\n",
       "      <td>0</td>\n",
       "      <td>1</td>\n",
       "      <td>0</td>\n",
       "      <td>1</td>\n",
       "      <td>0</td>\n",
       "      <td>0</td>\n",
       "      <td>0</td>\n",
       "      <td>1</td>\n",
       "      <td>0</td>\n",
       "      <td>72</td>\n",
       "    </tr>\n",
       "    <tr>\n",
       "      <th>4</th>\n",
       "      <td>3</td>\n",
       "      <td>3.56</td>\n",
       "      <td>2.80</td>\n",
       "      <td>0</td>\n",
       "      <td>0</td>\n",
       "      <td>0</td>\n",
       "      <td>0</td>\n",
       "      <td>0</td>\n",
       "      <td>0</td>\n",
       "      <td>2</td>\n",
       "      <td>0</td>\n",
       "      <td>0</td>\n",
       "      <td>0</td>\n",
       "      <td>0</td>\n",
       "      <td>0</td>\n",
       "      <td>69</td>\n",
       "    </tr>\n",
       "  </tbody>\n",
       "</table>\n",
       "</div>"
      ],
      "text/plain": [
       "   DGN  PRE4  PRE5  PRE6  PRE7  PRE8  PRE9  PRE10  PRE11  PRE14  PRE17  PRE19  \\\n",
       "0    3  2.08  1.52     1     0     0     0      1      0      4      0      0   \n",
       "1    3  4.36  3.76     0     0     0     0      0      0      1      0      0   \n",
       "2    3  3.52  2.28     0     0     0     0      0      0      3      0      0   \n",
       "3    3  3.36  2.67     1     0     0     0      1      0      1      0      0   \n",
       "4    3  3.56  2.80     0     0     0     0      0      0      2      0      0   \n",
       "\n",
       "   PRE25  PRE30  PRE32  AGE  \n",
       "0      0      1      0   49  \n",
       "1      0      1      0   72  \n",
       "2      0      1      0   51  \n",
       "3      0      1      0   72  \n",
       "4      0      0      0   69  "
      ]
     },
     "execution_count": 2391,
     "metadata": {},
     "output_type": "execute_result"
    }
   ],
   "source": [
    "X.head()"
   ]
  },
  {
   "cell_type": "markdown",
   "metadata": {},
   "source": [
    "Box plot below shows the outliers in PRE5. It is worth noting that all of these outliers are of the negative class. This variable is the volume that can be exhaled in one second given full inhilation. It is likely that these values are therefore errors in reporting as it is unlikely that humans can exhale such a large volume so quickly."
   ]
  },
  {
   "cell_type": "code",
   "execution_count": 2241,
   "metadata": {
    "collapsed": false,
    "scrolled": true
   },
   "outputs": [
    {
     "name": "stdout",
     "output_type": "stream",
     "text": [
      "11     0\n",
      "25     0\n",
      "101    0\n",
      "108    0\n",
      "122    0\n",
      "212    0\n",
      "240    0\n",
      "Name: Risk1Yr, dtype: int64\n"
     ]
    },
    {
     "data": {
      "image/png": "[encoded data removed]",
      "text/plain": [
       "<matplotlib.figure.Figure at 0x160cd0310>"
      ]
     },
     "metadata": {},
     "output_type": "display_data"
    }
   ],
   "source": [
    "X.PRE5.plot(kind='box')\n",
    "print y[X.PRE5 > 30 ]"
   ]
  },
  {
   "cell_type": "code",
   "execution_count": 2248,
   "metadata": {
    "collapsed": false
   },
   "outputs": [
    {
     "data": {
      "text/plain": [
       "<matplotlib.axes._subplots.AxesSubplot at 0x162080490>"
      ]
     },
     "execution_count": 2248,
     "metadata": {},
     "output_type": "execute_result"
    }
   ],
   "source": [
    "X.DGN[y == 0].hist()\n",
    "X.DGN[y == 1].hist()"
   ]
  },
  {
   "cell_type": "markdown",
   "metadata": {},
   "source": [
    "## Preprocessing\n",
    "\n",
    "Create a new matrix of preprocessed features. This will encode catagorical data as one hot vectors, remove outliers, and normalise the data.  "
   ]
  },
  {
   "cell_type": "code",
   "execution_count": 2557,
   "metadata": {
    "collapsed": false,
    "scrolled": false
   },
   "outputs": [
    {
     "data": {
      "text/html": [
       "<div>\n",
       "<table border=\"1\" class=\"dataframe\">\n",
       "  <thead>\n",
       "    <tr style=\"text-align: right;\">\n",
       "      <th></th>\n",
       "      <th>PRE4</th>\n",
       "      <th>PRE5</th>\n",
       "      <th>PRE7</th>\n",
       "      <th>PRE8</th>\n",
       "      <th>PRE9</th>\n",
       "      <th>PRE10</th>\n",
       "      <th>PRE11</th>\n",
       "      <th>PRE14</th>\n",
       "      <th>PRE17</th>\n",
       "      <th>PRE19</th>\n",
       "      <th>...</th>\n",
       "      <th>DGN_1</th>\n",
       "      <th>DGN_2</th>\n",
       "      <th>DGN_3</th>\n",
       "      <th>DGN_4</th>\n",
       "      <th>DGN_5</th>\n",
       "      <th>DGN_6</th>\n",
       "      <th>DGN_8</th>\n",
       "      <th>PRE6_0</th>\n",
       "      <th>PRE6_1</th>\n",
       "      <th>PRE6_2</th>\n",
       "    </tr>\n",
       "  </thead>\n",
       "  <tbody>\n",
       "    <tr>\n",
       "      <th>0</th>\n",
       "      <td>2.08</td>\n",
       "      <td>1.52</td>\n",
       "      <td>0</td>\n",
       "      <td>0</td>\n",
       "      <td>0</td>\n",
       "      <td>1</td>\n",
       "      <td>0</td>\n",
       "      <td>4</td>\n",
       "      <td>0</td>\n",
       "      <td>0</td>\n",
       "      <td>...</td>\n",
       "      <td>0.0</td>\n",
       "      <td>0.0</td>\n",
       "      <td>1.0</td>\n",
       "      <td>0.0</td>\n",
       "      <td>0.0</td>\n",
       "      <td>0.0</td>\n",
       "      <td>0.0</td>\n",
       "      <td>0.0</td>\n",
       "      <td>1.0</td>\n",
       "      <td>0.0</td>\n",
       "    </tr>\n",
       "    <tr>\n",
       "      <th>1</th>\n",
       "      <td>4.36</td>\n",
       "      <td>3.76</td>\n",
       "      <td>0</td>\n",
       "      <td>0</td>\n",
       "      <td>0</td>\n",
       "      <td>0</td>\n",
       "      <td>0</td>\n",
       "      <td>1</td>\n",
       "      <td>0</td>\n",
       "      <td>0</td>\n",
       "      <td>...</td>\n",
       "      <td>0.0</td>\n",
       "      <td>0.0</td>\n",
       "      <td>1.0</td>\n",
       "      <td>0.0</td>\n",
       "      <td>0.0</td>\n",
       "      <td>0.0</td>\n",
       "      <td>0.0</td>\n",
       "      <td>1.0</td>\n",
       "      <td>0.0</td>\n",
       "      <td>0.0</td>\n",
       "    </tr>\n",
       "    <tr>\n",
       "      <th>2</th>\n",
       "      <td>3.52</td>\n",
       "      <td>2.28</td>\n",
       "      <td>0</td>\n",
       "      <td>0</td>\n",
       "      <td>0</td>\n",
       "      <td>0</td>\n",
       "      <td>0</td>\n",
       "      <td>3</td>\n",
       "      <td>0</td>\n",
       "      <td>0</td>\n",
       "      <td>...</td>\n",
       "      <td>0.0</td>\n",
       "      <td>0.0</td>\n",
       "      <td>1.0</td>\n",
       "      <td>0.0</td>\n",
       "      <td>0.0</td>\n",
       "      <td>0.0</td>\n",
       "      <td>0.0</td>\n",
       "      <td>1.0</td>\n",
       "      <td>0.0</td>\n",
       "      <td>0.0</td>\n",
       "    </tr>\n",
       "    <tr>\n",
       "      <th>3</th>\n",
       "      <td>3.36</td>\n",
       "      <td>2.67</td>\n",
       "      <td>0</td>\n",
       "      <td>0</td>\n",
       "      <td>0</td>\n",
       "      <td>1</td>\n",
       "      <td>0</td>\n",
       "      <td>1</td>\n",
       "      <td>0</td>\n",
       "      <td>0</td>\n",
       "      <td>...</td>\n",
       "      <td>0.0</td>\n",
       "      <td>0.0</td>\n",
       "      <td>1.0</td>\n",
       "      <td>0.0</td>\n",
       "      <td>0.0</td>\n",
       "      <td>0.0</td>\n",
       "      <td>0.0</td>\n",
       "      <td>0.0</td>\n",
       "      <td>1.0</td>\n",
       "      <td>0.0</td>\n",
       "    </tr>\n",
       "    <tr>\n",
       "      <th>4</th>\n",
       "      <td>3.56</td>\n",
       "      <td>2.80</td>\n",
       "      <td>0</td>\n",
       "      <td>0</td>\n",
       "      <td>0</td>\n",
       "      <td>0</td>\n",
       "      <td>0</td>\n",
       "      <td>2</td>\n",
       "      <td>0</td>\n",
       "      <td>0</td>\n",
       "      <td>...</td>\n",
       "      <td>0.0</td>\n",
       "      <td>0.0</td>\n",
       "      <td>1.0</td>\n",
       "      <td>0.0</td>\n",
       "      <td>0.0</td>\n",
       "      <td>0.0</td>\n",
       "      <td>0.0</td>\n",
       "      <td>1.0</td>\n",
       "      <td>0.0</td>\n",
       "      <td>0.0</td>\n",
       "    </tr>\n",
       "  </tbody>\n",
       "</table>\n",
       "<p>5 rows × 23 columns</p>\n",
       "</div>"
      ],
      "text/plain": [
       "   PRE4  PRE5  PRE7  PRE8  PRE9  PRE10  PRE11  PRE14  PRE17  PRE19   ...    \\\n",
       "0  2.08  1.52     0     0     0      1      0      4      0      0   ...     \n",
       "1  4.36  3.76     0     0     0      0      0      1      0      0   ...     \n",
       "2  3.52  2.28     0     0     0      0      0      3      0      0   ...     \n",
       "3  3.36  2.67     0     0     0      1      0      1      0      0   ...     \n",
       "4  3.56  2.80     0     0     0      0      0      2      0      0   ...     \n",
       "\n",
       "   DGN_1  DGN_2  DGN_3  DGN_4  DGN_5  DGN_6  DGN_8  PRE6_0  PRE6_1  PRE6_2  \n",
       "0    0.0    0.0    1.0    0.0    0.0    0.0    0.0     0.0     1.0     0.0  \n",
       "1    0.0    0.0    1.0    0.0    0.0    0.0    0.0     1.0     0.0     0.0  \n",
       "2    0.0    0.0    1.0    0.0    0.0    0.0    0.0     1.0     0.0     0.0  \n",
       "3    0.0    0.0    1.0    0.0    0.0    0.0    0.0     0.0     1.0     0.0  \n",
       "4    0.0    0.0    1.0    0.0    0.0    0.0    0.0     1.0     0.0     0.0  \n",
       "\n",
       "[5 rows x 23 columns]"
      ]
     },
     "execution_count": 2557,
     "metadata": {},
     "output_type": "execute_result"
    }
   ],
   "source": [
    "from sklearn import preprocessing\n",
    "\n",
    "def encode_onehot(x_data, column_name):\n",
    "    \"\"\" Encode a catagorical column from a data frame into a data frame of one hot features\"\"\"\n",
    "    enc = preprocessing.OneHotEncoder()\n",
    "    features = enc.fit_transform(x_data[[column_name]]).toarray()\n",
    "    names = ['%s_%d' % (column_name, i) for i in enc.active_features_]\n",
    "    features = pd.DataFrame(features, columns=names, index=x_data.index)\n",
    "    return features\n",
    "\n",
    "def preprocess(x_data, y_data):\n",
    "    # drop zero var PRE32\n",
    "    Xp = x_data.drop(\"PRE32\", axis=1)\n",
    "\n",
    "    # remove outliers via median fill\n",
    "    mask = Xp.PRE5 > 30  \n",
    "    Xp.PRE5.loc[mask] = Xp.PRE5.median() \n",
    "    Yp = y_data.copy()\n",
    "    \n",
    "    # encode catagorical data as one hot vectors\n",
    "\n",
    "    one_hot_names = [\"DGN\", \"PRE6\"]\n",
    "    encoded = map(lambda name: encode_onehot(Xp, name), one_hot_names)\n",
    "    #combine into a single data frame\n",
    "    new_features = pd.concat(encoded, axis=1)\n",
    "\n",
    "    # drop the catagorical variables that have been encoded\n",
    "    Xp.drop([\"DGN\", \"PRE6\"], inplace=True, axis=1)\n",
    "    # add new features\n",
    "    Xp = pd.concat([Xp, new_features], axis=1)\n",
    "\n",
    "    return Xp, Yp\n",
    "\n",
    "Xp, Yp = preprocess(X, y)\n",
    "Xp.head()"
   ]
  },
  {
   "cell_type": "code",
   "execution_count": 1539,
   "metadata": {
    "collapsed": false
   },
   "outputs": [
    {
     "data": {
      "text/plain": [
       "array([[<matplotlib.axes._subplots.AxesSubplot object at 0x159e496d0>,\n",
       "        <matplotlib.axes._subplots.AxesSubplot object at 0x159f0f5d0>,\n",
       "        <matplotlib.axes._subplots.AxesSubplot object at 0x1568ca950>],\n",
       "       [<matplotlib.axes._subplots.AxesSubplot object at 0x15692eb10>,\n",
       "        <matplotlib.axes._subplots.AxesSubplot object at 0x1569aef90>,\n",
       "        <matplotlib.axes._subplots.AxesSubplot object at 0x15695aa90>],\n",
       "       [<matplotlib.axes._subplots.AxesSubplot object at 0x156a9ead0>,\n",
       "        <matplotlib.axes._subplots.AxesSubplot object at 0x156b21c90>,\n",
       "        <matplotlib.axes._subplots.AxesSubplot object at 0x156b92410>]], dtype=object)"
      ]
     },
     "execution_count": 1539,
     "metadata": {},
     "output_type": "execute_result"
    },
    {
     "data": {
      "image/png": "[encoded data removed]",
      "text/plain": [
       "<matplotlib.figure.Figure at 0x159e52790>"
      ]
     },
     "metadata": {},
     "output_type": "display_data"
    }
   ],
   "source": [
    "pd.tools.plotting.scatter_matrix(Xp[['PRE4', 'PRE5', 'AGE']], c=Yp)"
   ]
  },
  {
   "cell_type": "code",
   "execution_count": 2239,
   "metadata": {
    "collapsed": false,
    "scrolled": true
   },
   "outputs": [
    {
     "data": {
      "image/png": "[encoded data removed]",
      "text/plain": [
       "<matplotlib.figure.Figure at 0x163f69590>"
      ]
     },
     "metadata": {},
     "output_type": "display_data"
    }
   ],
   "source": [
    "rf_selector = RandomForestClassifier(criterion='entropy', class_weight='balanced')\n",
    "rf_selector.fit(scaler.fit_transform(Xp), Yp)\n",
    "feature_importance = pd.Series(rf_selector.feature_importances_, index=Xp.columns).sort_values(ascending=False)\n",
    "feature_importance.plot(kind='bar')\n",
    "Xp.drop(feature_importance[feature_importance == 0].index, inplace=True, axis=1)"
   ]
  },
  {
   "cell_type": "markdown",
   "metadata": {},
   "source": [
    "## Learning\n",
    "\n",
    "We do not have access to the labels for the final testing dataset. First split the training data into a training and validation set so we have something seperate to test on. Here we're using a  simple 80/20 split. Therefore the validation set contains 60 examples."
   ]
  },
  {
   "cell_type": "markdown",
   "metadata": {},
   "source": [
    "## Cross Validation and ROC Analysis"
   ]
  },
  {
   "cell_type": "markdown",
   "metadata": {},
   "source": [
    "Set up models and pipelines for cross validation & testing. This is where we set the parameters for each of the models. Parameter tuning is done further down this notebook."
   ]
  },
  {
   "cell_type": "code",
   "execution_count": 2669,
   "metadata": {
    "collapsed": true
   },
   "outputs": [],
   "source": [
    "from sklearn import preprocessing\n",
    "from sklearn.pipeline import Pipeline\n",
    "from sklearn.svm import SVC\n",
    "from sklearn.ensemble import ExtraTreesClassifier\n",
    "from sklearn.neighbors import KNeighborsClassifier\n",
    "import pipeline\n",
    "from roc_analysis import ROCAnalysisScorer\n",
    "\n",
    "scaler = preprocessing.StandardScaler()\n",
    "\n",
    "# set up classifier objects\n",
    "knn = KNeighborsClassifier(n_neighbors=5, weights='distance')\n",
    "\n",
    "gbc_params = {'n_estimators':1600, 'learning_rate': 0.005, 'min_samples_leaf': 3, 'max_features': 'sqrt', 'subsample': 0.8, 'min_samples_split': 4, 'max_depth': 13}\n",
    "gbc = GradientBoostingClassifier(**gbc_params)\n",
    "\n",
    "rf_common_params = {'n_estimators':100, 'max_features':5}\n",
    "exf = ExtraTreesClassifier( class_weight=\"balanced\", **rf_common_params)\n",
    "rf_balanced = RandomForestClassifier(class_weight='balanced_subsample', **rf_common_params)\n",
    "\n",
    "# create pipelines for each model\n",
    "knn_pipe = Pipeline([('scaler', scaler), ('KNN', knn)])\n",
    "exf_pipe = Pipeline([('scaler', scaler), ('ExtraTrees', exf)])\n",
    "gbc_pipe = Pipeline([('scaler', scaler), ('GradientBoostingClassifer', gbc)])\n",
    "rfs_pipe = Pipeline([('scaler', scaler), ('RandomForest', rf_balanced)])\n",
    "\n",
    "# create list of model data\n",
    "models = [\n",
    "    {'name': 'KNN', 'model': knn_pipe},\n",
    "    {'name': 'ExtraTrees', 'model': exf_pipe},\n",
    "    {'name': 'RandomForestBalanced', 'model': rfs_pipe},\n",
    "    {'name': 'GradientBoost', 'model': gbc_pipe},\n",
    "]\n",
    "\n",
    "# set the same training set for all models.\n",
    "# this is just the preprocessed dataset.\n",
    "for model in models:\n",
    "    model['train_data'] = (Xp, Yp)"
   ]
  },
  {
   "cell_type": "markdown",
   "metadata": {},
   "source": [
    "Perform n iterations of k fold cross validation. Here I am using 10 iterations and 5 folds at each iteration."
   ]
  },
  {
   "cell_type": "code",
   "execution_count": 2597,
   "metadata": {
    "collapsed": false,
    "scrolled": true
   },
   "outputs": [],
   "source": [
    "scorers = pipeline.repeated_cross_fold_validation(models, n=10, k=5)"
   ]
  },
  {
   "cell_type": "markdown",
   "metadata": {},
   "source": [
    "Plot the resulting ROC curves. This is a averaged result of all n iterations and k folds, which should give a fairly stable estimate of each classifiers performance."
   ]
  },
  {
   "cell_type": "code",
   "execution_count": 2598,
   "metadata": {
    "collapsed": false
   },
   "outputs": [
    {
     "data": {
      "image/png": "[encoded data removed]",
      "text/plain": [
       "<matplotlib.figure.Figure at 0x16f3bb390>"
      ]
     },
     "metadata": {},
     "output_type": "display_data"
    }
   ],
   "source": [
    "for key, scorer in scorers.iteritems():\n",
    "    scorer.plot_roc_curve(mean_label=key, mean_line=True, show_all=False)"
   ]
  },
  {
   "cell_type": "markdown",
   "metadata": {},
   "source": [
    "## Tests with Oversampling\n",
    "\n",
    "Testing whether using smote imporves the performance of Random Forest"
   ]
  },
  {
   "cell_type": "code",
   "execution_count": 2662,
   "metadata": {
    "collapsed": false
   },
   "outputs": [
    {
     "name": "stdout",
     "output_type": "stream",
     "text": [
      "Determining classes statistics... 2 classes detected: {0: 173, 1: 67}\n",
      "Finding the 3 nearest neighbours...done!\n",
      "Creating synthetic samples...Generated 67 new samples ...\n",
      "done!\n",
      "Determining classes statistics... 2 classes detected: {0.0: 173, 1.0: 134}\n",
      "Under-sampling performed: Counter({1.0: 134, 0.0: 53})\n",
      "Determining classes statistics... 2 classes detected: {0: 173, 1: 67}\n",
      "Finding the 3 nearest neighbours...done!\n",
      "Creating synthetic samples...Generated 67 new samples ...\n",
      "done!\n",
      "Determining classes statistics... 2 classes detected: {0.0: 173, 1.0: 134}\n",
      "Under-sampling performed: Counter({1.0: 134, 0.0: 53})\n",
      "Determining classes statistics... 2 classes detected: {0: 173, 1: 67}\n",
      "Finding the 3 nearest neighbours...done!\n",
      "Creating synthetic samples...Generated 67 new samples ...\n",
      "done!\n",
      "Determining classes statistics... 2 classes detected: {0.0: 173, 1.0: 134}\n",
      "Under-sampling performed: Counter({1.0: 134, 0.0: 53})\n",
      "Determining classes statistics... 2 classes detected: {0: 173, 1: 67}\n",
      "Finding the 3 nearest neighbours...done!\n",
      "Creating synthetic samples...Generated 67 new samples ...\n",
      "done!\n",
      "Determining classes statistics... 2 classes detected: {0.0: 173, 1.0: 134}\n",
      "Under-sampling performed: Counter({1.0: 134, 0.0: 53})\n",
      "Determining classes statistics... 2 classes detected: {0: 173, 1: 67}\n",
      "Finding the 3 nearest neighbours...done!\n",
      "Creating synthetic samples...Generated 67 new samples ...\n",
      "done!\n",
      "Determining classes statistics... 2 classes detected: {0.0: 173, 1.0: 134}\n",
      "Under-sampling performed: Counter({1.0: 134, 0.0: 53})\n"
     ]
    }
   ],
   "source": [
    "smote_params = {'kind': 'regular', 'k':3, 'ratio': 1.0, 'verbose': 1}\n",
    "splitter = pipeline.SMOTESplitter(test_size=0.2, under_sample=0.4, smote_params=smote_params)\n",
    "scorers = pipeline.monte_carlo_validation(Xp, Yp, models, splitter, n=5)"
   ]
  },
  {
   "cell_type": "code",
   "execution_count": 2663,
   "metadata": {
    "collapsed": false
   },
   "outputs": [
    {
     "data": {
      "image/png": "[encoded data removed]",
      "text/plain": [
       "<matplotlib.figure.Figure at 0x16f80e9d0>"
      ]
     },
     "metadata": {},
     "output_type": "display_data"
    }
   ],
   "source": [
    "for key, scorer in scorers.iteritems():\n",
    "    scorer.plot_roc_curve(mean_label=key, mean_line=True, show_all=False)"
   ]
  },
  {
   "cell_type": "markdown",
   "metadata": {},
   "source": [
    "## Tuning Models\n",
    "\n",
    "Note that this section of the notebook and below can take a while to run due to the amount of fitting involved."
   ]
  },
  {
   "cell_type": "markdown",
   "metadata": {},
   "source": [
    "### Tuning Random Forest"
   ]
  },
  {
   "cell_type": "code",
   "execution_count": 2232,
   "metadata": {
    "collapsed": false
   },
   "outputs": [
    {
     "data": {
      "text/plain": [
       "{'class_weight': 'balanced', 'max_features': 5, 'n_estimators': 100}"
      ]
     },
     "execution_count": 2232,
     "metadata": {},
     "output_type": "execute_result"
    }
   ],
   "source": [
    "param_grid = [\n",
    "  {'n_estimators': [100], 'max_features': [2, 3, 5, 7, 10], 'class_weight': ['balanced']},\n",
    " ]\n",
    "\n",
    "\n",
    "clf = grid_search.GridSearchCV(RandomForestClassifier(), param_grid, cv=skf, scoring='roc_auc')\n",
    "clf.fit(Xp, Yp)\n",
    "clf.best_params_"
   ]
  },
  {
   "cell_type": "markdown",
   "metadata": {},
   "source": [
    "### Tuning Gradient Boosting\n",
    "\n",
    "First we should tune the number of estimators to a high learning rate for speed."
   ]
  },
  {
   "cell_type": "code",
   "execution_count": 2377,
   "metadata": {
    "collapsed": false
   },
   "outputs": [
    {
     "data": {
      "text/plain": [
       "{'learning_rate': 0.1, 'n_estimators': 60}"
      ]
     },
     "execution_count": 2377,
     "metadata": {},
     "output_type": "execute_result"
    }
   ],
   "source": [
    "const_params = {'min_samples_split': 1, 'min_samples_leaf': 3, 'max_depth': 8, 'max_features': 'sqrt', 'subsample': 0.8}\n",
    "gbc = GradientBoostingClassifier(**const_params)\n",
    "\n",
    "param_grid = [\n",
    "   {'learning_rate': [0.1], 'n_estimators': range(20,81,10)}\n",
    " ]\n",
    "\n",
    "clf = grid_search.GridSearchCV(gbc, param_grid, cv=skf, scoring='roc_auc')\n",
    "clf.fit(Xp, Yp)\n",
    "clf.best_params_"
   ]
  },
  {
   "cell_type": "markdown",
   "metadata": {},
   "source": [
    "Next we should tune the ```max_depth``` and ```min_samples_split``` parameters"
   ]
  },
  {
   "cell_type": "code",
   "execution_count": 2383,
   "metadata": {
    "collapsed": false
   },
   "outputs": [
    {
     "name": "stdout",
     "output_type": "stream",
     "text": [
      "{'min_samples_split': 4, 'max_depth': 13}\n"
     ]
    },
    {
     "data": {
      "text/plain": [
       "[mean: 0.79435, std: 0.03075, params: {'min_samples_split': 1, 'max_depth': 5},\n",
       " mean: 0.81461, std: 0.06848, params: {'min_samples_split': 4, 'max_depth': 5},\n",
       " mean: 0.78913, std: 0.05987, params: {'min_samples_split': 7, 'max_depth': 5},\n",
       " mean: 0.77216, std: 0.05531, params: {'min_samples_split': 10, 'max_depth': 5},\n",
       " mean: 0.79517, std: 0.04738, params: {'min_samples_split': 13, 'max_depth': 5},\n",
       " mean: 0.79232, std: 0.05012, params: {'min_samples_split': 16, 'max_depth': 5},\n",
       " mean: 0.78503, std: 0.06416, params: {'min_samples_split': 19, 'max_depth': 5},\n",
       " mean: 0.79297, std: 0.04892, params: {'min_samples_split': 1, 'max_depth': 7},\n",
       " mean: 0.82562, std: 0.05036, params: {'min_samples_split': 4, 'max_depth': 7},\n",
       " mean: 0.79596, std: 0.06681, params: {'min_samples_split': 7, 'max_depth': 7},\n",
       " mean: 0.80606, std: 0.05828, params: {'min_samples_split': 10, 'max_depth': 7},\n",
       " mean: 0.80783, std: 0.07548, params: {'min_samples_split': 13, 'max_depth': 7},\n",
       " mean: 0.81609, std: 0.07312, params: {'min_samples_split': 16, 'max_depth': 7},\n",
       " mean: 0.81149, std: 0.06083, params: {'min_samples_split': 19, 'max_depth': 7},\n",
       " mean: 0.81996, std: 0.04718, params: {'min_samples_split': 1, 'max_depth': 9},\n",
       " mean: 0.83561, std: 0.04598, params: {'min_samples_split': 4, 'max_depth': 9},\n",
       " mean: 0.83892, std: 0.06962, params: {'min_samples_split': 7, 'max_depth': 9},\n",
       " mean: 0.82009, std: 0.05820, params: {'min_samples_split': 10, 'max_depth': 9},\n",
       " mean: 0.81682, std: 0.07352, params: {'min_samples_split': 13, 'max_depth': 9},\n",
       " mean: 0.81104, std: 0.05839, params: {'min_samples_split': 16, 'max_depth': 9},\n",
       " mean: 0.81817, std: 0.05553, params: {'min_samples_split': 19, 'max_depth': 9},\n",
       " mean: 0.82871, std: 0.05812, params: {'min_samples_split': 1, 'max_depth': 11},\n",
       " mean: 0.84610, std: 0.05584, params: {'min_samples_split': 4, 'max_depth': 11},\n",
       " mean: 0.83735, std: 0.06277, params: {'min_samples_split': 7, 'max_depth': 11},\n",
       " mean: 0.82974, std: 0.06033, params: {'min_samples_split': 10, 'max_depth': 11},\n",
       " mean: 0.83462, std: 0.05677, params: {'min_samples_split': 13, 'max_depth': 11},\n",
       " mean: 0.81888, std: 0.06923, params: {'min_samples_split': 16, 'max_depth': 11},\n",
       " mean: 0.80346, std: 0.05912, params: {'min_samples_split': 19, 'max_depth': 11},\n",
       " mean: 0.82038, std: 0.06338, params: {'min_samples_split': 1, 'max_depth': 13},\n",
       " mean: 0.84731, std: 0.05624, params: {'min_samples_split': 4, 'max_depth': 13},\n",
       " mean: 0.82161, std: 0.04774, params: {'min_samples_split': 7, 'max_depth': 13},\n",
       " mean: 0.84030, std: 0.04463, params: {'min_samples_split': 10, 'max_depth': 13},\n",
       " mean: 0.82838, std: 0.04958, params: {'min_samples_split': 13, 'max_depth': 13},\n",
       " mean: 0.82339, std: 0.06753, params: {'min_samples_split': 16, 'max_depth': 13},\n",
       " mean: 0.81821, std: 0.07493, params: {'min_samples_split': 19, 'max_depth': 13},\n",
       " mean: 0.82787, std: 0.05206, params: {'min_samples_split': 1, 'max_depth': 15},\n",
       " mean: 0.84335, std: 0.05084, params: {'min_samples_split': 4, 'max_depth': 15},\n",
       " mean: 0.83171, std: 0.03134, params: {'min_samples_split': 7, 'max_depth': 15},\n",
       " mean: 0.82821, std: 0.07472, params: {'min_samples_split': 10, 'max_depth': 15},\n",
       " mean: 0.83789, std: 0.05662, params: {'min_samples_split': 13, 'max_depth': 15},\n",
       " mean: 0.80487, std: 0.06626, params: {'min_samples_split': 16, 'max_depth': 15},\n",
       " mean: 0.83120, std: 0.07635, params: {'min_samples_split': 19, 'max_depth': 15}]"
      ]
     },
     "execution_count": 2383,
     "metadata": {},
     "output_type": "execute_result"
    }
   ],
   "source": [
    "const_params = {'n_estimators':70, 'learning_rate': 0.1, 'min_samples_leaf': 3, 'max_features': 'sqrt', 'subsample': 0.8}\n",
    "gbc = GradientBoostingClassifier(**const_params)\n",
    "\n",
    "param_grid = [\n",
    "    {'max_depth':range(5,16,2), 'min_samples_split':range(1, 20, 3)}\n",
    " ]\n",
    "\n",
    "clf = grid_search.GridSearchCV(gbc, param_grid, cv=skf, scoring='roc_auc')\n",
    "clf.fit(Xp, Yp)\n",
    "print clf.best_params_\n",
    "clf.grid_scores_"
   ]
  }
 ],
 "metadata": {
  "kernelspec": {
   "display_name": "Python 2",
   "language": "python",
   "name": "python2"
  },
  "language_info": {
   "codemirror_mode": {
    "name": "ipython",
    "version": 2
   },
   "file_extension": ".py",
   "mimetype": "text/x-python",
   "name": "python",
   "nbconvert_exporter": "python",
   "pygments_lexer": "ipython2",
   "version": "2.7.10"
  }
 },
 "nbformat": 4,
 "nbformat_minor": 0
}
